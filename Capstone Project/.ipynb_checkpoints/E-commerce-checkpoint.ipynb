{
 "cells": [
  {
   "cell_type": "markdown",
   "metadata": {},
   "source": [
    "# PGP AI - AI and Machine Learning Capstone Project"
   ]
  },
  {
   "cell_type": "markdown",
   "metadata": {},
   "source": [
    "## Project 1 - E-Commerce"
   ]
  },
  {
   "cell_type": "markdown",
   "metadata": {},
   "source": [
    "DESCRIPTION\n",
    "\n",
    "Problem Statement\n",
    "\n",
    "Amazon is an online shopping website that now caters to millions of people everywhere. Over 34,000 consumer reviews for Amazon brand products like Kindle, Fire TV Stick and more are provided. \n",
    "The dataset has attributes like brand, categories, primary categories, reviews.title, reviews.text, and the sentiment. Sentiment is a categorical variable with three levels \"Positive\", \"Negative“, and \"Neutral\". For a given unseen data, the sentiment needs to be predicted.\n",
    "You are required to predict Sentiment or Satisfaction of a purchase based on multiple features and review text."
   ]
  },
  {
   "cell_type": "markdown",
   "metadata": {},
   "source": [
    "> ***Author***\n",
    ">\n",
    "> ***Saikat Narayan Bhattacharjya***\n",
    ">\n",
    "> ***Email: <snbhattacharjya@gmail.com>***"
   ]
  },
  {
   "cell_type": "markdown",
   "metadata": {},
   "source": [
    "### Required Libraries for the Project"
   ]
  },
  {
   "cell_type": "code",
   "execution_count": 1,
   "metadata": {},
   "outputs": [],
   "source": [
    "import numpy as np\n",
    "import pandas as pd\n",
    "\n",
    "import re\n",
    "from nltk.tokenize import regexp_tokenize\n",
    "from nltk.corpus import stopwords\n",
    "from nltk.stem import WordNetLemmatizer\n",
    "\n",
    "from sklearn.naive_bayes import MultinomialNB\n",
    "from sklearn.feature_extraction.text import CountVectorizer, TfidfTransformer, TfidfVectorizer\n",
    "\n",
    "from imblearn.over_sampling import RandomOverSampler\n",
    "from imblearn.under_sampling import RandomUnderSampler\n",
    "\n",
    "from sklearn.ensemble import RandomForestClassifier\n",
    "from xgboost import XGBClassifier\n",
    "from sklearn.svm import SVC\n",
    "\n",
    "from sklearn.metrics import f1_score, accuracy_score, precision_score, recall_score, roc_auc_score, classification_report\n",
    "from scipy.sparse import hstack, csr_matrix\n",
    "\n",
    "import matplotlib.pyplot as plt\n",
    "import seaborn as sns\n",
    "from pprint import pprint\n",
    "import warnings\n",
    "warnings.filterwarnings('ignore')\n",
    "\n",
    "%matplotlib inline"
   ]
  },
  {
   "cell_type": "markdown",
   "metadata": {},
   "source": [
    "### User Functions"
   ]
  },
  {
   "cell_type": "markdown",
   "metadata": {},
   "source": [
    "#### load_data: `Loads the data from datasource and return a DataFrame`\n",
    "@input: Path for the datafile\n",
    "\n",
    "@Output: Pandas.DataFrame"
   ]
  },
  {
   "cell_type": "code",
   "execution_count": 2,
   "metadata": {},
   "outputs": [],
   "source": [
    "def load_data(path=\"\"):\n",
    "    return pd.read_csv(path)"
   ]
  },
  {
   "cell_type": "markdown",
   "metadata": {},
   "source": [
    "#### merge_data: `Concatenates the datasets and return a DataFrame`\n",
    "@input: Array of Datasets\n",
    "\n",
    "@Output: Pandas.DataFrame"
   ]
  },
  {
   "cell_type": "code",
   "execution_count": 3,
   "metadata": {},
   "outputs": [],
   "source": [
    "def merge_data(datasets=[]):\n",
    "    return pd.concat(datasets)"
   ]
  },
  {
   "cell_type": "markdown",
   "metadata": {},
   "source": [
    "#### sample_data: `Returns a slice of DataFrame by RowCount`\n",
    "@input: DataFrame\n",
    "\n",
    "@Output: Slice of Dataframe by RowCount"
   ]
  },
  {
   "cell_type": "code",
   "execution_count": 4,
   "metadata": {},
   "outputs": [],
   "source": [
    "def sample_data(data, row_count=5):\n",
    "    return data[:row_count]"
   ]
  },
  {
   "cell_type": "markdown",
   "metadata": {},
   "source": [
    "#### preprocess: `Text Processing steps in the sequence of: Word Tokenization, Removal of StopWords, Removal of Single character Words, Lemmatization. The output words are joined to from records and the list of such of records are returned. `\n",
    "@input: List of Textual Data\n",
    "\n",
    "@Output: List of Textual Data"
   ]
  },
  {
   "cell_type": "code",
   "execution_count": 5,
   "metadata": {},
   "outputs": [],
   "source": [
    "def preprocess(data):\n",
    "    data = [regexp_tokenize(record, pattern='[A-Za-z]\\w+') \n",
    "                   for record in data]\n",
    "    print(\"Completed Word Tokenization\")\n",
    "\n",
    "    data = [[word for word in text \n",
    "                    if word not in stopwords.words('english')] \n",
    "                   for text in data]\n",
    "    print(\"Completed Removal of nltk StopWords\")\n",
    "\n",
    "    data = [[word for word in text \n",
    "                    if len(word) > 1] \n",
    "                   for text in data]\n",
    "    print(\"Completed Removal of Words of length = 1\")\n",
    "    \n",
    "    data = [[WordNetLemmatizer().lemmatize(word) for word in text] \n",
    "                   for text in data]\n",
    "    print(\"Completed Lemmatization of Words\")\n",
    "\n",
    "\n",
    "    data_cleaned = []\n",
    "\n",
    "    for record in data:\n",
    "        sent = \"\"\n",
    "        for word in record:\n",
    "            sent = sent + word + \" \"\n",
    "        data_cleaned.append(sent[:-1])\n",
    "\n",
    "    print(\"Completed Joining of the cleaned Text into a record\")\n",
    "    \n",
    "    print(\"Analysing Tokens:\")\n",
    "    token_analysis(data)\n",
    "    \n",
    "    return data_cleaned"
   ]
  },
  {
   "cell_type": "markdown",
   "metadata": {},
   "source": [
    "#### token_analysis: `Prints and Plots top Ten(10) words in the Textual Records`\n",
    "@input: 2 dim List of Words\n",
    "\n",
    "@Output: Void"
   ]
  },
  {
   "cell_type": "code",
   "execution_count": 6,
   "metadata": {},
   "outputs": [],
   "source": [
    "def token_analysis(data):\n",
    "    terms = []\n",
    "\n",
    "    for record in data:\n",
    "        for word in record:\n",
    "            terms.append(word)\n",
    "\n",
    "    print(\"Total Tokens: {}\".format(len(terms)))\n",
    "\n",
    "    from collections import Counter\n",
    "\n",
    "    counts_terms = Counter(terms)\n",
    "    terms_df = pd.DataFrame(counts_terms.most_common(10), \n",
    "                            columns=['term', 'count'])\n",
    "    terms_df\n",
    "\n",
    "    terms_df.sort_values(by='count', \n",
    "                         ascending=True).plot(kind=\"barh\", \n",
    "                                              x='term', \n",
    "                                              figsize=(12,10), \n",
    "                                              color='teal')\n",
    "    plt.style.use('seaborn')\n",
    "    plt.show()"
   ]
  },
  {
   "cell_type": "markdown",
   "metadata": {},
   "source": [
    "#### create_dataset: `Returns Vectorized Feature and Label Data Set`\n",
    "@input: Pandas.DataFrame, String(Feature Column), String(Label Column), Vectorizer Class\n",
    "\n",
    "@Output: List(Vectorized Feture), List(Label)"
   ]
  },
  {
   "cell_type": "code",
   "execution_count": 7,
   "metadata": {},
   "outputs": [],
   "source": [
    "def create_dataset(data, features, label, vectorizer):\n",
    "    X = vectorizer.fit_transform(data[features].tolist())\n",
    "    y = data[label].tolist()\n",
    "    return X, y"
   ]
  },
  {
   "cell_type": "markdown",
   "metadata": {},
   "source": [
    "#### resample_dataset: `Returns an Over or Under Sampled X, Y`\n",
    "@input: Features, Labels\n",
    "\n",
    "@Output: Sampled(Features), Sampled(Y)"
   ]
  },
  {
   "cell_type": "code",
   "execution_count": 8,
   "metadata": {},
   "outputs": [],
   "source": [
    "def resample_dataset(X, y, sampler):\n",
    "    return sampler.fit_sample(X, y)"
   ]
  },
  {
   "cell_type": "markdown",
   "metadata": {},
   "source": [
    "#### create_model: `Returns a ML Model based on X, Y`\n",
    "@input: X, Y, Model\n",
    "\n",
    "@Output: Model"
   ]
  },
  {
   "cell_type": "code",
   "execution_count": 9,
   "metadata": {},
   "outputs": [],
   "source": [
    "def create_model(X, y, model):\n",
    "    return model.fit(X, y)"
   ]
  },
  {
   "cell_type": "markdown",
   "metadata": {},
   "source": [
    "#### assess_model_score: `Returns a Score Matirx for the Model with a Sampling Strategy`\n",
    "@input: ModelName, Model, Sampling, X_test, y_test\n",
    "\n",
    "@Output: List of Scores for a Model with specified Sampling strategy"
   ]
  },
  {
   "cell_type": "code",
   "execution_count": 10,
   "metadata": {},
   "outputs": [],
   "source": [
    "def assess_model_score(model_name, model, sampling, X_test, y_test):\n",
    "    scores = []\n",
    "    y_pred = model.predict(X_test)\n",
    "    scores.append(model_name)\n",
    "    scores.append(sampling)\n",
    "    scores.append(f1_score(y_test, y_pred, average='weighted'))\n",
    "    scores.append(accuracy_score(y_test, y_pred))\n",
    "    scores.append(precision_score(y_test, y_pred, average='weighted'))\n",
    "    scores.append(recall_score(y_test, y_pred, average='weighted'))\n",
    "    #scores['ROC_AUC_Score'] = roc_auc_score(y_test, model.predict(X_test), average='weighted', multi_class ='ovr')\n",
    "    \n",
    "    return scores"
   ]
  },
  {
   "cell_type": "markdown",
   "metadata": {},
   "source": [
    "### Week 1:\n",
    "1. Perform an EDA on the dataset.\n",
    "    a. See what a positive, negative, and neutral review looks like\n",
    "    b. Check the class count for each class. It’s a class imbalance problem.\n",
    "2. Convert the reviews in Tf-Idf score.\n",
    "3. Run multinomial Naive Bayes classifier. Everything will be classified as positive because of the class imbalance."
   ]
  },
  {
   "cell_type": "markdown",
   "metadata": {},
   "source": [
    "### 1.  Exploratory Data Analysis \n",
    "        . Describing Datasets\n",
    "        . Gaining information about feature columns\n",
    "        . Analysing the reviews"
   ]
  },
  {
   "cell_type": "markdown",
   "metadata": {},
   "source": [
    "#### Loading Datasets"
   ]
  },
  {
   "cell_type": "code",
   "execution_count": 11,
   "metadata": {},
   "outputs": [],
   "source": [
    "train_df = load_data(\"datasets/train_data.csv\")\n",
    "test_data_hidden_df = load_data(\"datasets/test_data_hidden.csv\")\n",
    "test_df = load_data(\"datasets/test_data.csv\")"
   ]
  },
  {
   "cell_type": "markdown",
   "metadata": {},
   "source": [
    "#### Describing the Datasets"
   ]
  },
  {
   "cell_type": "code",
   "execution_count": 12,
   "metadata": {},
   "outputs": [
    {
     "name": "stdout",
     "output_type": "stream",
     "text": [
      "Train:\n",
      "<class 'pandas.core.frame.DataFrame'>\n",
      "RangeIndex: 4000 entries, 0 to 3999\n",
      "Data columns (total 8 columns):\n",
      " #   Column             Non-Null Count  Dtype \n",
      "---  ------             --------------  ----- \n",
      " 0   name               4000 non-null   object\n",
      " 1   brand              4000 non-null   object\n",
      " 2   categories         4000 non-null   object\n",
      " 3   primaryCategories  4000 non-null   object\n",
      " 4   reviews.date       4000 non-null   object\n",
      " 5   reviews.text       4000 non-null   object\n",
      " 6   reviews.title      3990 non-null   object\n",
      " 7   sentiment          4000 non-null   object\n",
      "dtypes: object(8)\n",
      "memory usage: 250.1+ KB\n",
      "\n",
      "Test Data Hidden:\n",
      "<class 'pandas.core.frame.DataFrame'>\n",
      "RangeIndex: 1000 entries, 0 to 999\n",
      "Data columns (total 8 columns):\n",
      " #   Column             Non-Null Count  Dtype \n",
      "---  ------             --------------  ----- \n",
      " 0   name               1000 non-null   object\n",
      " 1   brand              1000 non-null   object\n",
      " 2   categories         1000 non-null   object\n",
      " 3   primaryCategories  1000 non-null   object\n",
      " 4   reviews.date       1000 non-null   object\n",
      " 5   reviews.text       1000 non-null   object\n",
      " 6   reviews.title      997 non-null    object\n",
      " 7   sentiment          1000 non-null   object\n",
      "dtypes: object(8)\n",
      "memory usage: 62.6+ KB\n",
      "\n",
      "Test:\n",
      "<class 'pandas.core.frame.DataFrame'>\n",
      "RangeIndex: 1000 entries, 0 to 999\n",
      "Data columns (total 7 columns):\n",
      " #   Column             Non-Null Count  Dtype \n",
      "---  ------             --------------  ----- \n",
      " 0   name               1000 non-null   object\n",
      " 1   brand              1000 non-null   object\n",
      " 2   categories         1000 non-null   object\n",
      " 3   primaryCategories  1000 non-null   object\n",
      " 4   reviews.date       1000 non-null   object\n",
      " 5   reviews.text       1000 non-null   object\n",
      " 6   reviews.title      997 non-null    object\n",
      "dtypes: object(7)\n",
      "memory usage: 54.8+ KB\n"
     ]
    }
   ],
   "source": [
    "print(\"Train:\")\n",
    "train_df.info()\n",
    "print(\"\\nTest Data Hidden:\")\n",
    "test_data_hidden_df.info()\n",
    "print(\"\\nTest:\")\n",
    "test_df.info()"
   ]
  },
  {
   "cell_type": "markdown",
   "metadata": {},
   "source": [
    "#### Observation:\n",
    "1. There are 4000 training samples and 1000 Test Samples\n",
    "2. The files are separated into training and test datasets\n",
    "3. For the Training we need to merge the training and test_data_hidden csv files\n",
    "4. For testing we need to create a fourth file from test_data and test_data_hidden"
   ]
  },
  {
   "cell_type": "code",
   "execution_count": 13,
   "metadata": {},
   "outputs": [],
   "source": [
    "merge_df = merge_data([train_df,test_data_hidden_df])"
   ]
  },
  {
   "cell_type": "code",
   "execution_count": 14,
   "metadata": {},
   "outputs": [
    {
     "data": {
      "text/html": [
       "<div>\n",
       "<style scoped>\n",
       "    .dataframe tbody tr th:only-of-type {\n",
       "        vertical-align: middle;\n",
       "    }\n",
       "\n",
       "    .dataframe tbody tr th {\n",
       "        vertical-align: top;\n",
       "    }\n",
       "\n",
       "    .dataframe thead th {\n",
       "        text-align: right;\n",
       "    }\n",
       "</style>\n",
       "<table border=\"1\" class=\"dataframe\">\n",
       "  <thead>\n",
       "    <tr style=\"text-align: right;\">\n",
       "      <th></th>\n",
       "      <th>name</th>\n",
       "      <th>brand</th>\n",
       "      <th>categories</th>\n",
       "      <th>primaryCategories</th>\n",
       "      <th>reviews.date</th>\n",
       "      <th>reviews.text</th>\n",
       "      <th>reviews.title</th>\n",
       "      <th>sentiment</th>\n",
       "    </tr>\n",
       "  </thead>\n",
       "  <tbody>\n",
       "    <tr>\n",
       "      <th>0</th>\n",
       "      <td>All-New Fire HD 8 Tablet, 8\" HD Display, Wi-Fi...</td>\n",
       "      <td>Amazon</td>\n",
       "      <td>Electronics,iPad &amp; Tablets,All Tablets,Fire Ta...</td>\n",
       "      <td>Electronics</td>\n",
       "      <td>2016-12-26T00:00:00.000Z</td>\n",
       "      <td>Purchased on Black FridayPros - Great Price (e...</td>\n",
       "      <td>Powerful tablet</td>\n",
       "      <td>Positive</td>\n",
       "    </tr>\n",
       "    <tr>\n",
       "      <th>1</th>\n",
       "      <td>Amazon - Echo Plus w/ Built-In Hub - Silver</td>\n",
       "      <td>Amazon</td>\n",
       "      <td>Amazon Echo,Smart Home,Networking,Home &amp; Tools...</td>\n",
       "      <td>Electronics,Hardware</td>\n",
       "      <td>2018-01-17T00:00:00.000Z</td>\n",
       "      <td>I purchased two Amazon in Echo Plus and two do...</td>\n",
       "      <td>Amazon Echo Plus AWESOME</td>\n",
       "      <td>Positive</td>\n",
       "    </tr>\n",
       "    <tr>\n",
       "      <th>2</th>\n",
       "      <td>Amazon Echo Show Alexa-enabled Bluetooth Speak...</td>\n",
       "      <td>Amazon</td>\n",
       "      <td>Amazon Echo,Virtual Assistant Speakers,Electro...</td>\n",
       "      <td>Electronics,Hardware</td>\n",
       "      <td>2017-12-20T00:00:00.000Z</td>\n",
       "      <td>Just an average Alexa option. Does show a few ...</td>\n",
       "      <td>Average</td>\n",
       "      <td>Neutral</td>\n",
       "    </tr>\n",
       "    <tr>\n",
       "      <th>3</th>\n",
       "      <td>Fire HD 10 Tablet, 10.1 HD Display, Wi-Fi, 16 ...</td>\n",
       "      <td>Amazon</td>\n",
       "      <td>eBook Readers,Fire Tablets,Electronics Feature...</td>\n",
       "      <td>Office Supplies,Electronics</td>\n",
       "      <td>2017-08-04T00:00:00.000Z</td>\n",
       "      <td>very good product. Exactly what I wanted, and ...</td>\n",
       "      <td>Greattttttt</td>\n",
       "      <td>Positive</td>\n",
       "    </tr>\n",
       "    <tr>\n",
       "      <th>4</th>\n",
       "      <td>Brand New Amazon Kindle Fire 16gb 7\" Ips Displ...</td>\n",
       "      <td>Amazon</td>\n",
       "      <td>Computers/Tablets &amp; Networking,Tablets &amp; eBook...</td>\n",
       "      <td>Electronics</td>\n",
       "      <td>2017-01-23T00:00:00.000Z</td>\n",
       "      <td>This is the 3rd one I've purchased. I've bough...</td>\n",
       "      <td>Very durable!</td>\n",
       "      <td>Positive</td>\n",
       "    </tr>\n",
       "    <tr>\n",
       "      <th>5</th>\n",
       "      <td>Kindle E-reader - White, 6 Glare-Free Touchscr...</td>\n",
       "      <td>Amazon</td>\n",
       "      <td>Office,eBook Readers,Electronics Features,Walm...</td>\n",
       "      <td>Office Supplies,Electronics</td>\n",
       "      <td>2016-12-23T00:00:00.000Z</td>\n",
       "      <td>This is a great product. Light weight. I wish ...</td>\n",
       "      <td>You will love it</td>\n",
       "      <td>Positive</td>\n",
       "    </tr>\n",
       "    <tr>\n",
       "      <th>6</th>\n",
       "      <td>Brand New Amazon Kindle Fire 16gb 7\" Ips Displ...</td>\n",
       "      <td>Amazon</td>\n",
       "      <td>Computers/Tablets &amp; Networking,Tablets &amp; eBook...</td>\n",
       "      <td>Electronics</td>\n",
       "      <td>2017-05-31T00:00:00.000Z</td>\n",
       "      <td>My 7-year old daughter saved up to by this. He...</td>\n",
       "      <td>OK For Entry Level Tablet</td>\n",
       "      <td>Neutral</td>\n",
       "    </tr>\n",
       "    <tr>\n",
       "      <th>7</th>\n",
       "      <td>Brand New Amazon Kindle Fire 16gb 7\" Ips Displ...</td>\n",
       "      <td>Amazon</td>\n",
       "      <td>Computers/Tablets &amp; Networking,Tablets &amp; eBook...</td>\n",
       "      <td>Electronics</td>\n",
       "      <td>2016-06-05T00:00:00.000Z</td>\n",
       "      <td>Purchased this for my son. Has room to upgrade...</td>\n",
       "      <td>Great for kids or smaller needs</td>\n",
       "      <td>Positive</td>\n",
       "    </tr>\n",
       "    <tr>\n",
       "      <th>8</th>\n",
       "      <td>All-New Fire HD 8 Tablet, 8\" HD Display, Wi-Fi...</td>\n",
       "      <td>Amazon</td>\n",
       "      <td>Electronics,iPad &amp; Tablets,All Tablets,Fire Ta...</td>\n",
       "      <td>Electronics</td>\n",
       "      <td>2016-11-23T00:00:00.000Z</td>\n",
       "      <td>Bought this for my mom and it was just what sh...</td>\n",
       "      <td>Great tablet</td>\n",
       "      <td>Positive</td>\n",
       "    </tr>\n",
       "    <tr>\n",
       "      <th>9</th>\n",
       "      <td>All-New Fire HD 8 Tablet, 8\" HD Display, Wi-Fi...</td>\n",
       "      <td>Amazon</td>\n",
       "      <td>Electronics,iPad &amp; Tablets,All Tablets,Fire Ta...</td>\n",
       "      <td>Electronics</td>\n",
       "      <td>2017-05-18T00:00:00.000Z</td>\n",
       "      <td>was cheap, can not run chrome stuff, returned ...</td>\n",
       "      <td>was cheap, can not run chrome stuff, returned</td>\n",
       "      <td>Negative</td>\n",
       "    </tr>\n",
       "  </tbody>\n",
       "</table>\n",
       "</div>"
      ],
      "text/plain": [
       "                                                name   brand  \\\n",
       "0  All-New Fire HD 8 Tablet, 8\" HD Display, Wi-Fi...  Amazon   \n",
       "1        Amazon - Echo Plus w/ Built-In Hub - Silver  Amazon   \n",
       "2  Amazon Echo Show Alexa-enabled Bluetooth Speak...  Amazon   \n",
       "3  Fire HD 10 Tablet, 10.1 HD Display, Wi-Fi, 16 ...  Amazon   \n",
       "4  Brand New Amazon Kindle Fire 16gb 7\" Ips Displ...  Amazon   \n",
       "5  Kindle E-reader - White, 6 Glare-Free Touchscr...  Amazon   \n",
       "6  Brand New Amazon Kindle Fire 16gb 7\" Ips Displ...  Amazon   \n",
       "7  Brand New Amazon Kindle Fire 16gb 7\" Ips Displ...  Amazon   \n",
       "8  All-New Fire HD 8 Tablet, 8\" HD Display, Wi-Fi...  Amazon   \n",
       "9  All-New Fire HD 8 Tablet, 8\" HD Display, Wi-Fi...  Amazon   \n",
       "\n",
       "                                          categories  \\\n",
       "0  Electronics,iPad & Tablets,All Tablets,Fire Ta...   \n",
       "1  Amazon Echo,Smart Home,Networking,Home & Tools...   \n",
       "2  Amazon Echo,Virtual Assistant Speakers,Electro...   \n",
       "3  eBook Readers,Fire Tablets,Electronics Feature...   \n",
       "4  Computers/Tablets & Networking,Tablets & eBook...   \n",
       "5  Office,eBook Readers,Electronics Features,Walm...   \n",
       "6  Computers/Tablets & Networking,Tablets & eBook...   \n",
       "7  Computers/Tablets & Networking,Tablets & eBook...   \n",
       "8  Electronics,iPad & Tablets,All Tablets,Fire Ta...   \n",
       "9  Electronics,iPad & Tablets,All Tablets,Fire Ta...   \n",
       "\n",
       "             primaryCategories              reviews.date  \\\n",
       "0                  Electronics  2016-12-26T00:00:00.000Z   \n",
       "1         Electronics,Hardware  2018-01-17T00:00:00.000Z   \n",
       "2         Electronics,Hardware  2017-12-20T00:00:00.000Z   \n",
       "3  Office Supplies,Electronics  2017-08-04T00:00:00.000Z   \n",
       "4                  Electronics  2017-01-23T00:00:00.000Z   \n",
       "5  Office Supplies,Electronics  2016-12-23T00:00:00.000Z   \n",
       "6                  Electronics  2017-05-31T00:00:00.000Z   \n",
       "7                  Electronics  2016-06-05T00:00:00.000Z   \n",
       "8                  Electronics  2016-11-23T00:00:00.000Z   \n",
       "9                  Electronics  2017-05-18T00:00:00.000Z   \n",
       "\n",
       "                                        reviews.text  \\\n",
       "0  Purchased on Black FridayPros - Great Price (e...   \n",
       "1  I purchased two Amazon in Echo Plus and two do...   \n",
       "2  Just an average Alexa option. Does show a few ...   \n",
       "3  very good product. Exactly what I wanted, and ...   \n",
       "4  This is the 3rd one I've purchased. I've bough...   \n",
       "5  This is a great product. Light weight. I wish ...   \n",
       "6  My 7-year old daughter saved up to by this. He...   \n",
       "7  Purchased this for my son. Has room to upgrade...   \n",
       "8  Bought this for my mom and it was just what sh...   \n",
       "9  was cheap, can not run chrome stuff, returned ...   \n",
       "\n",
       "                                   reviews.title sentiment  \n",
       "0                                Powerful tablet  Positive  \n",
       "1                       Amazon Echo Plus AWESOME  Positive  \n",
       "2                                        Average   Neutral  \n",
       "3                                    Greattttttt  Positive  \n",
       "4                                  Very durable!  Positive  \n",
       "5                               You will love it  Positive  \n",
       "6                      OK For Entry Level Tablet   Neutral  \n",
       "7                Great for kids or smaller needs  Positive  \n",
       "8                                   Great tablet  Positive  \n",
       "9  was cheap, can not run chrome stuff, returned  Negative  "
      ]
     },
     "execution_count": 14,
     "metadata": {},
     "output_type": "execute_result"
    }
   ],
   "source": [
    "sample_data(merge_df,10)"
   ]
  },
  {
   "cell_type": "code",
   "execution_count": 15,
   "metadata": {},
   "outputs": [
    {
     "data": {
      "text/html": [
       "<div>\n",
       "<style scoped>\n",
       "    .dataframe tbody tr th:only-of-type {\n",
       "        vertical-align: middle;\n",
       "    }\n",
       "\n",
       "    .dataframe tbody tr th {\n",
       "        vertical-align: top;\n",
       "    }\n",
       "\n",
       "    .dataframe thead th {\n",
       "        text-align: right;\n",
       "    }\n",
       "</style>\n",
       "<table border=\"1\" class=\"dataframe\">\n",
       "  <thead>\n",
       "    <tr style=\"text-align: right;\">\n",
       "      <th></th>\n",
       "      <th>name</th>\n",
       "      <th>brand</th>\n",
       "      <th>categories</th>\n",
       "      <th>primaryCategories</th>\n",
       "      <th>reviews.date</th>\n",
       "      <th>reviews.text</th>\n",
       "      <th>reviews.title</th>\n",
       "      <th>sentiment</th>\n",
       "    </tr>\n",
       "  </thead>\n",
       "  <tbody>\n",
       "    <tr>\n",
       "      <th>count</th>\n",
       "      <td>5000</td>\n",
       "      <td>5000</td>\n",
       "      <td>5000</td>\n",
       "      <td>5000</td>\n",
       "      <td>5000</td>\n",
       "      <td>5000</td>\n",
       "      <td>4987</td>\n",
       "      <td>5000</td>\n",
       "    </tr>\n",
       "    <tr>\n",
       "      <th>unique</th>\n",
       "      <td>23</td>\n",
       "      <td>1</td>\n",
       "      <td>23</td>\n",
       "      <td>4</td>\n",
       "      <td>679</td>\n",
       "      <td>4385</td>\n",
       "      <td>3124</td>\n",
       "      <td>3</td>\n",
       "    </tr>\n",
       "    <tr>\n",
       "      <th>top</th>\n",
       "      <td>Amazon Echo Show Alexa-enabled Bluetooth Speak...</td>\n",
       "      <td>Amazon</td>\n",
       "      <td>Electronics,iPad &amp; Tablets,All Tablets,Fire Ta...</td>\n",
       "      <td>Electronics</td>\n",
       "      <td>2017-01-23T00:00:00.000Z</td>\n",
       "      <td>I bought this kindle for my 11yr old granddaug...</td>\n",
       "      <td>Great tablet</td>\n",
       "      <td>Positive</td>\n",
       "    </tr>\n",
       "    <tr>\n",
       "      <th>freq</th>\n",
       "      <td>845</td>\n",
       "      <td>5000</td>\n",
       "      <td>797</td>\n",
       "      <td>3276</td>\n",
       "      <td>125</td>\n",
       "      <td>4</td>\n",
       "      <td>122</td>\n",
       "      <td>4686</td>\n",
       "    </tr>\n",
       "  </tbody>\n",
       "</table>\n",
       "</div>"
      ],
      "text/plain": [
       "                                                     name   brand  \\\n",
       "count                                                5000    5000   \n",
       "unique                                                 23       1   \n",
       "top     Amazon Echo Show Alexa-enabled Bluetooth Speak...  Amazon   \n",
       "freq                                                  845    5000   \n",
       "\n",
       "                                               categories primaryCategories  \\\n",
       "count                                                5000              5000   \n",
       "unique                                                 23                 4   \n",
       "top     Electronics,iPad & Tablets,All Tablets,Fire Ta...       Electronics   \n",
       "freq                                                  797              3276   \n",
       "\n",
       "                    reviews.date  \\\n",
       "count                       5000   \n",
       "unique                       679   \n",
       "top     2017-01-23T00:00:00.000Z   \n",
       "freq                         125   \n",
       "\n",
       "                                             reviews.text reviews.title  \\\n",
       "count                                                5000          4987   \n",
       "unique                                               4385          3124   \n",
       "top     I bought this kindle for my 11yr old granddaug...  Great tablet   \n",
       "freq                                                    4           122   \n",
       "\n",
       "       sentiment  \n",
       "count       5000  \n",
       "unique         3  \n",
       "top     Positive  \n",
       "freq        4686  "
      ]
     },
     "execution_count": 15,
     "metadata": {},
     "output_type": "execute_result"
    }
   ],
   "source": [
    "merge_df.describe()"
   ]
  },
  {
   "cell_type": "code",
   "execution_count": 16,
   "metadata": {},
   "outputs": [
    {
     "name": "stdout",
     "output_type": "stream",
     "text": [
      "<class 'pandas.core.frame.DataFrame'>\n",
      "Int64Index: 5000 entries, 0 to 999\n",
      "Data columns (total 8 columns):\n",
      " #   Column             Non-Null Count  Dtype \n",
      "---  ------             --------------  ----- \n",
      " 0   name               5000 non-null   object\n",
      " 1   brand              5000 non-null   object\n",
      " 2   categories         5000 non-null   object\n",
      " 3   primaryCategories  5000 non-null   object\n",
      " 4   reviews.date       5000 non-null   object\n",
      " 5   reviews.text       5000 non-null   object\n",
      " 6   reviews.title      4987 non-null   object\n",
      " 7   sentiment          5000 non-null   object\n",
      "dtypes: object(8)\n",
      "memory usage: 351.6+ KB\n"
     ]
    }
   ],
   "source": [
    "merge_df.info()"
   ]
  },
  {
   "cell_type": "markdown",
   "metadata": {},
   "source": [
    "#### Analysing the Reviews"
   ]
  },
  {
   "cell_type": "code",
   "execution_count": 17,
   "metadata": {},
   "outputs": [
    {
     "data": {
      "image/png": "[encoded data removed]",
      "text/plain": [
       "<Figure size 432x288 with 1 Axes>"
      ]
     },
     "metadata": {
      "needs_background": "light"
     },
     "output_type": "display_data"
    },
    {
     "data": {
      "text/plain": [
       "count    5000.000000\n",
       "mean      161.348400\n",
       "std       242.597383\n",
       "min        45.000000\n",
       "25%        71.000000\n",
       "50%       105.500000\n",
       "75%       182.000000\n",
       "max      8351.000000\n",
       "dtype: float64"
      ]
     },
     "execution_count": 17,
     "metadata": {},
     "output_type": "execute_result"
    }
   ],
   "source": [
    "reviews_len = [len(x) for x in merge_df['reviews.text']]\n",
    "pd.Series(reviews_len).hist()\n",
    "plt.show()\n",
    "pd.Series(reviews_len).describe()"
   ]
  },
  {
   "cell_type": "markdown",
   "metadata": {},
   "source": [
    "### Observations:\n",
    "- Total Records: 5000\n",
    "- Data Column for building model: reviews.text\n",
    "- Label Column for identifying class: sentiment\n",
    "- Unique Reviews: 4385\n",
    "- Number of Output Class: 3\n",
    "- __No Null Values for the feature column reviews.text.__"
   ]
  },
  {
   "cell_type": "markdown",
   "metadata": {},
   "source": [
    "### Analysing the output class distribution in the datasets"
   ]
  },
  {
   "cell_type": "code",
   "execution_count": 18,
   "metadata": {},
   "outputs": [
    {
     "name": "stdout",
     "output_type": "stream",
     "text": [
      "Positive    4686\n",
      "Neutral      197\n",
      "Negative     117\n",
      "Name: sentiment, dtype: int64\n"
     ]
    },
    {
     "data": {
      "image/png": "[encoded data removed]",
      "text/plain": [
       "<Figure size 432x288 with 1 Axes>"
      ]
     },
     "metadata": {
      "needs_background": "light"
     },
     "output_type": "display_data"
    }
   ],
   "source": [
    "print(merge_df['sentiment'].value_counts())\n",
    "sns.countplot(x='sentiment', data=merge_df)\n",
    "plt.show()"
   ]
  },
  {
   "cell_type": "markdown",
   "metadata": {},
   "source": [
    "### Observations:\n",
    "> __There is a class imbalance present as `Positive` cases are mostly represented.__"
   ]
  },
  {
   "cell_type": "markdown",
   "metadata": {},
   "source": [
    "### Data Preprocessing and Cleaning to bring out the context of the sentiments: \n",
    "1. __Word Tokenization:__ Extracting words from each reviews.text column\n",
    "2. __Removal of Stopwords:__ Removing words like `a`, `an`, `the` which are insignificant to sentiment features.\n",
    "3. __Removal of single character word:__ Single character words donot convey meaning in a sentiment.\n",
    "4. __Lemmatization:__ Lemmatize and stem both generate the root form of the word except stem may generate a word that doesn’t exist in the dictionary. Lemmatization is used more widely than stemming and also for this project we considering lemmatization."
   ]
  },
  {
   "cell_type": "code",
   "execution_count": 19,
   "metadata": {},
   "outputs": [
    {
     "name": "stdout",
     "output_type": "stream",
     "text": [
      "Completed Word Tokenization\n",
      "Completed Removal of nltk StopWords\n",
      "Completed Removal of Words of length = 1\n",
      "Completed Lemmatization of Words\n",
      "Completed Joining of the cleaned Text into a record\n",
      "Analysing Tokens:\n",
      "Total Tokens: 82161\n"
     ]
    },
    {
     "data": {
      "image/png": "[encoded data removed]",
      "text/plain": [
       "<Figure size 864x720 with 1 Axes>"
      ]
     },
     "metadata": {
      "needs_background": "light"
     },
     "output_type": "display_data"
    },
    {
     "name": "stdout",
     "output_type": "stream",
     "text": [
      "Wall time: 29.7 s\n"
     ]
    }
   ],
   "source": [
    "%%time\n",
    "merge_df['reviews_cleaned'] = preprocess(merge_df['reviews.text'].tolist())"
   ]
  },
  {
   "cell_type": "markdown",
   "metadata": {},
   "source": [
    "#### Results after preprocessing"
   ]
  },
  {
   "cell_type": "code",
   "execution_count": 20,
   "metadata": {},
   "outputs": [
    {
     "data": {
      "text/html": [
       "<div>\n",
       "<style scoped>\n",
       "    .dataframe tbody tr th:only-of-type {\n",
       "        vertical-align: middle;\n",
       "    }\n",
       "\n",
       "    .dataframe tbody tr th {\n",
       "        vertical-align: top;\n",
       "    }\n",
       "\n",
       "    .dataframe thead th {\n",
       "        text-align: right;\n",
       "    }\n",
       "</style>\n",
       "<table border=\"1\" class=\"dataframe\">\n",
       "  <thead>\n",
       "    <tr style=\"text-align: right;\">\n",
       "      <th></th>\n",
       "      <th>reviews.text</th>\n",
       "      <th>reviews_cleaned</th>\n",
       "    </tr>\n",
       "  </thead>\n",
       "  <tbody>\n",
       "    <tr>\n",
       "      <th>0</th>\n",
       "      <td>Purchased on Black FridayPros - Great Price (e...</td>\n",
       "      <td>Purchased Black FridayPros Great Price even sa...</td>\n",
       "    </tr>\n",
       "    <tr>\n",
       "      <th>1</th>\n",
       "      <td>I purchased two Amazon in Echo Plus and two do...</td>\n",
       "      <td>purchased two Amazon Echo Plus two dot plus fo...</td>\n",
       "    </tr>\n",
       "    <tr>\n",
       "      <th>2</th>\n",
       "      <td>Just an average Alexa option. Does show a few ...</td>\n",
       "      <td>Just average Alexa option Does show thing scre...</td>\n",
       "    </tr>\n",
       "    <tr>\n",
       "      <th>3</th>\n",
       "      <td>very good product. Exactly what I wanted, and ...</td>\n",
       "      <td>good product Exactly wanted good price</td>\n",
       "    </tr>\n",
       "    <tr>\n",
       "      <th>4</th>\n",
       "      <td>This is the 3rd one I've purchased. I've bough...</td>\n",
       "      <td>This rd one purchased bought one niece No case...</td>\n",
       "    </tr>\n",
       "  </tbody>\n",
       "</table>\n",
       "</div>"
      ],
      "text/plain": [
       "                                        reviews.text  \\\n",
       "0  Purchased on Black FridayPros - Great Price (e...   \n",
       "1  I purchased two Amazon in Echo Plus and two do...   \n",
       "2  Just an average Alexa option. Does show a few ...   \n",
       "3  very good product. Exactly what I wanted, and ...   \n",
       "4  This is the 3rd one I've purchased. I've bough...   \n",
       "\n",
       "                                     reviews_cleaned  \n",
       "0  Purchased Black FridayPros Great Price even sa...  \n",
       "1  purchased two Amazon Echo Plus two dot plus fo...  \n",
       "2  Just average Alexa option Does show thing scre...  \n",
       "3             good product Exactly wanted good price  \n",
       "4  This rd one purchased bought one niece No case...  "
      ]
     },
     "execution_count": 20,
     "metadata": {},
     "output_type": "execute_result"
    }
   ],
   "source": [
    "merge_df[['reviews.text','reviews_cleaned']][:5]"
   ]
  },
  {
   "cell_type": "markdown",
   "metadata": {},
   "source": [
    "#### Creating a Training dataset\n",
    "> 1. For this project, we are using `TfidfVectorizer` to transform the text reviews in numerical form. Other alternatives that can used are CountVectorizer, etc.\n",
    ">\n",
    "> 2. The max_features parameter for the vectorizer is set to __2000__, which will generate a sparse matix of 2000 feature columns of the sentiment text."
   ]
  },
  {
   "cell_type": "markdown",
   "metadata": {},
   "source": [
    "#### Preparing X_train and y_train for training"
   ]
  },
  {
   "cell_type": "code",
   "execution_count": 21,
   "metadata": {},
   "outputs": [],
   "source": [
    "X_train, y_train = create_dataset(merge_df, 'reviews_cleaned', 'sentiment', TfidfVectorizer(max_features=2000))"
   ]
  },
  {
   "cell_type": "code",
   "execution_count": 22,
   "metadata": {},
   "outputs": [
    {
     "name": "stdout",
     "output_type": "stream",
     "text": [
      "(5000, 2000)\n",
      "5000\n"
     ]
    }
   ],
   "source": [
    "print(X_train.shape)\n",
    "print(len(y_train))"
   ]
  },
  {
   "cell_type": "markdown",
   "metadata": {},
   "source": [
    "#### Creating a Test Dataset"
   ]
  },
  {
   "cell_type": "code",
   "execution_count": 23,
   "metadata": {},
   "outputs": [],
   "source": [
    "validation_df = test_df.copy()\n",
    "validation_df.insert(7, 'sentiment', test_data_hidden_df['sentiment'])"
   ]
  },
  {
   "cell_type": "code",
   "execution_count": 24,
   "metadata": {},
   "outputs": [
    {
     "name": "stdout",
     "output_type": "stream",
     "text": [
      "<class 'pandas.core.frame.DataFrame'>\n",
      "RangeIndex: 1000 entries, 0 to 999\n",
      "Data columns (total 8 columns):\n",
      " #   Column             Non-Null Count  Dtype \n",
      "---  ------             --------------  ----- \n",
      " 0   name               1000 non-null   object\n",
      " 1   brand              1000 non-null   object\n",
      " 2   categories         1000 non-null   object\n",
      " 3   primaryCategories  1000 non-null   object\n",
      " 4   reviews.date       1000 non-null   object\n",
      " 5   reviews.text       1000 non-null   object\n",
      " 6   reviews.title      997 non-null    object\n",
      " 7   sentiment          1000 non-null   object\n",
      "dtypes: object(8)\n",
      "memory usage: 62.6+ KB\n"
     ]
    }
   ],
   "source": [
    "validation_df.info()"
   ]
  },
  {
   "cell_type": "markdown",
   "metadata": {},
   "source": [
    "### Preprocessing Test Dataset for predictions"
   ]
  },
  {
   "cell_type": "code",
   "execution_count": 25,
   "metadata": {},
   "outputs": [
    {
     "name": "stdout",
     "output_type": "stream",
     "text": [
      "Completed Word Tokenization\n",
      "Completed Removal of nltk StopWords\n",
      "Completed Removal of Words of length = 1\n",
      "Completed Lemmatization of Words\n",
      "Completed Joining of the cleaned Text into a record\n",
      "Analysing Tokens:\n",
      "Total Tokens: 17104\n"
     ]
    },
    {
     "data": {
      "image/png": "[encoded data removed]",
      "text/plain": [
       "<Figure size 864x720 with 1 Axes>"
      ]
     },
     "metadata": {},
     "output_type": "display_data"
    },
    {
     "name": "stdout",
     "output_type": "stream",
     "text": [
      "Wall time: 5.92 s\n"
     ]
    }
   ],
   "source": [
    "%%time\n",
    "validation_df['reviews_cleaned'] = preprocess(validation_df['reviews.text'].tolist())"
   ]
  },
  {
   "cell_type": "markdown",
   "metadata": {},
   "source": [
    "___Results after preprocessing Test Dataset___"
   ]
  },
  {
   "cell_type": "code",
   "execution_count": 26,
   "metadata": {},
   "outputs": [
    {
     "data": {
      "text/html": [
       "<div>\n",
       "<style scoped>\n",
       "    .dataframe tbody tr th:only-of-type {\n",
       "        vertical-align: middle;\n",
       "    }\n",
       "\n",
       "    .dataframe tbody tr th {\n",
       "        vertical-align: top;\n",
       "    }\n",
       "\n",
       "    .dataframe thead th {\n",
       "        text-align: right;\n",
       "    }\n",
       "</style>\n",
       "<table border=\"1\" class=\"dataframe\">\n",
       "  <thead>\n",
       "    <tr style=\"text-align: right;\">\n",
       "      <th></th>\n",
       "      <th>reviews.text</th>\n",
       "      <th>reviews_cleaned</th>\n",
       "    </tr>\n",
       "  </thead>\n",
       "  <tbody>\n",
       "    <tr>\n",
       "      <th>0</th>\n",
       "      <td>Amazon kindle fire has a lot of free app and c...</td>\n",
       "      <td>Amazon kindle fire lot free app used one want ...</td>\n",
       "    </tr>\n",
       "    <tr>\n",
       "      <th>1</th>\n",
       "      <td>The Echo Show is a great addition to the Amazo...</td>\n",
       "      <td>The Echo Show great addition Amazon family Wor...</td>\n",
       "    </tr>\n",
       "    <tr>\n",
       "      <th>2</th>\n",
       "      <td>Great value from Best Buy. Bought at Christmas...</td>\n",
       "      <td>Great value Best Buy Bought Christmas sale</td>\n",
       "    </tr>\n",
       "    <tr>\n",
       "      <th>3</th>\n",
       "      <td>I use mine for email, Facebook ,games and to g...</td>\n",
       "      <td>use mine email Facebook game go line also load...</td>\n",
       "    </tr>\n",
       "    <tr>\n",
       "      <th>4</th>\n",
       "      <td>This is a fantastic item &amp; the person I bought...</td>\n",
       "      <td>This fantastic item person bought love</td>\n",
       "    </tr>\n",
       "  </tbody>\n",
       "</table>\n",
       "</div>"
      ],
      "text/plain": [
       "                                        reviews.text  \\\n",
       "0  Amazon kindle fire has a lot of free app and c...   \n",
       "1  The Echo Show is a great addition to the Amazo...   \n",
       "2  Great value from Best Buy. Bought at Christmas...   \n",
       "3  I use mine for email, Facebook ,games and to g...   \n",
       "4  This is a fantastic item & the person I bought...   \n",
       "\n",
       "                                     reviews_cleaned  \n",
       "0  Amazon kindle fire lot free app used one want ...  \n",
       "1  The Echo Show great addition Amazon family Wor...  \n",
       "2         Great value Best Buy Bought Christmas sale  \n",
       "3  use mine email Facebook game go line also load...  \n",
       "4             This fantastic item person bought love  "
      ]
     },
     "execution_count": 26,
     "metadata": {},
     "output_type": "execute_result"
    }
   ],
   "source": [
    "validation_df[['reviews.text','reviews_cleaned']][:5]"
   ]
  },
  {
   "cell_type": "markdown",
   "metadata": {},
   "source": [
    "___Class distribution in the Test Dataset___"
   ]
  },
  {
   "cell_type": "code",
   "execution_count": 27,
   "metadata": {},
   "outputs": [
    {
     "name": "stdout",
     "output_type": "stream",
     "text": [
      "Positive    937\n",
      "Neutral      39\n",
      "Negative     24\n",
      "Name: sentiment, dtype: int64\n"
     ]
    },
    {
     "data": {
      "image/png": "[encoded data removed]",
      "text/plain": [
       "<Figure size 576x396 with 1 Axes>"
      ]
     },
     "metadata": {},
     "output_type": "display_data"
    }
   ],
   "source": [
    "print(validation_df['sentiment'].value_counts())\n",
    "sns.countplot(x='sentiment', data=validation_df)\n",
    "plt.show()"
   ]
  },
  {
   "cell_type": "markdown",
   "metadata": {},
   "source": [
    "#### Preparing X_test and y_test for evaluating the prepared models"
   ]
  },
  {
   "cell_type": "code",
   "execution_count": 28,
   "metadata": {},
   "outputs": [],
   "source": [
    "X_test, y_test = create_dataset(validation_df, 'reviews_cleaned', 'sentiment', TfidfVectorizer(max_features=2000))"
   ]
  },
  {
   "cell_type": "code",
   "execution_count": 29,
   "metadata": {},
   "outputs": [
    {
     "name": "stdout",
     "output_type": "stream",
     "text": [
      "(1000, 2000)\n",
      "1000\n"
     ]
    }
   ],
   "source": [
    "print(X_test.shape)\n",
    "print(len(y_test))"
   ]
  },
  {
   "cell_type": "markdown",
   "metadata": {},
   "source": [
    "#### Modeling a Multinomial Nayve Bayes Classifier over the training samples"
   ]
  },
  {
   "cell_type": "code",
   "execution_count": 30,
   "metadata": {},
   "outputs": [],
   "source": [
    "multi_nb = create_model(X_train, y_train, MultinomialNB())"
   ]
  },
  {
   "cell_type": "code",
   "execution_count": 31,
   "metadata": {},
   "outputs": [
    {
     "name": "stdout",
     "output_type": "stream",
     "text": [
      "              precision    recall  f1-score   support\n",
      "\n",
      "    Negative     0.0000    0.0000    0.0000        24\n",
      "     Neutral     0.0000    0.0000    0.0000        39\n",
      "    Positive     0.9376    0.9456    0.9416       937\n",
      "\n",
      "    accuracy                         0.8860      1000\n",
      "   macro avg     0.3125    0.3152    0.3139      1000\n",
      "weighted avg     0.8785    0.8860    0.8822      1000\n",
      "\n"
     ]
    }
   ],
   "source": [
    "print(classification_report(y_test, multi_nb.predict(X_test), digits=4))"
   ]
  },
  {
   "cell_type": "markdown",
   "metadata": {},
   "source": [
    "#### Observations on Multinomial Nayve Bayes Classifier over given training samples\n",
    "> Because of class imbalance problem all are predicted as positive\n"
   ]
  },
  {
   "cell_type": "markdown",
   "metadata": {},
   "source": [
    "### Week 2:\n",
    "1. Oversampling or undersampling can be used to tackle the class imbalance problem.\n",
    "2. In case of class imbalance criteria, use the following metrices for evaluating model performance: precision, recall, F1-score, AUCROC curve. Use F1-Score as the evaluation criteria for this project.\n",
    "3. Use Tree-based classifiers like Random Forest and XGBoost.\n",
    "\n",
    "> __Note:__ Tree-based classifiers work on two ideologies namely, Bagging or Boosting and have fine-tuning parameter which takes care of the imbalanced class."
   ]
  },
  {
   "cell_type": "markdown",
   "metadata": {},
   "source": [
    "Over Sampling and Under Sampling is done through imalanced-learn package execute the below command to setup.\n",
    "> `pip install imbalanced-learn`"
   ]
  },
  {
   "cell_type": "markdown",
   "metadata": {},
   "source": [
    "#### Over Sampled Training Data"
   ]
  },
  {
   "cell_type": "code",
   "execution_count": 32,
   "metadata": {},
   "outputs": [
    {
     "name": "stdout",
     "output_type": "stream",
     "text": [
      "(14058, 2000)\n",
      "Positive    4686\n",
      "Negative    4686\n",
      "Neutral     4686\n",
      "Name: 0, dtype: int64\n"
     ]
    },
    {
     "data": {
      "image/png": "[encoded data removed]",
      "text/plain": [
       "<Figure size 576x396 with 1 Axes>"
      ]
     },
     "metadata": {},
     "output_type": "display_data"
    }
   ],
   "source": [
    "X_train_os, y_train_os = resample_dataset(X_train, y_train, RandomOverSampler())\n",
    "print(X_train_os.shape)\n",
    "\n",
    "print(pd.DataFrame(y_train_os)[0].value_counts())\n",
    "plt.style.use('seaborn')\n",
    "pd.DataFrame(y_train_os)[0].value_counts().plot(kind='bar', title='Over Sampled Training Data')\n",
    "plt.show()"
   ]
  },
  {
   "cell_type": "markdown",
   "metadata": {},
   "source": [
    "#### Over Sampled Test Data"
   ]
  },
  {
   "cell_type": "code",
   "execution_count": 33,
   "metadata": {},
   "outputs": [
    {
     "name": "stdout",
     "output_type": "stream",
     "text": [
      "(2811, 2000)\n",
      "Positive    937\n",
      "Negative    937\n",
      "Neutral     937\n",
      "Name: 0, dtype: int64\n"
     ]
    },
    {
     "data": {
      "image/png": "[encoded data removed]",
      "text/plain": [
       "<Figure size 576x396 with 1 Axes>"
      ]
     },
     "metadata": {},
     "output_type": "display_data"
    }
   ],
   "source": [
    "X_test_os, y_test_os = resample_dataset(X_test, y_test, RandomOverSampler())\n",
    "print(X_test_os.shape)\n",
    "\n",
    "print(pd.DataFrame(y_test_os)[0].value_counts())\n",
    "plt.style.use('seaborn')\n",
    "pd.DataFrame(y_test_os)[0].value_counts().plot(kind='bar', title='Over Sampled Test Data')\n",
    "plt.show()"
   ]
  },
  {
   "cell_type": "markdown",
   "metadata": {},
   "source": [
    "#### Under Sampled Training Data"
   ]
  },
  {
   "cell_type": "code",
   "execution_count": 34,
   "metadata": {},
   "outputs": [
    {
     "name": "stdout",
     "output_type": "stream",
     "text": [
      "(351, 2000)\n",
      "Positive    117\n",
      "Negative    117\n",
      "Neutral     117\n",
      "Name: 0, dtype: int64\n"
     ]
    },
    {
     "data": {
      "image/png": "[encoded data removed]",
      "text/plain": [
       "<Figure size 576x396 with 1 Axes>"
      ]
     },
     "metadata": {},
     "output_type": "display_data"
    }
   ],
   "source": [
    "X_train_us, y_train_us = resample_dataset(X_train, y_train, RandomUnderSampler())\n",
    "print(X_train_us.shape)\n",
    "\n",
    "print(pd.DataFrame(y_train_us)[0].value_counts())\n",
    "plt.style.use('seaborn')\n",
    "pd.DataFrame(y_train_us)[0].value_counts().plot(kind='bar', title='Under Sampled Training Data')\n",
    "plt.show()"
   ]
  },
  {
   "cell_type": "markdown",
   "metadata": {},
   "source": [
    "#### Under Sampled Test Data"
   ]
  },
  {
   "cell_type": "code",
   "execution_count": 35,
   "metadata": {},
   "outputs": [
    {
     "name": "stdout",
     "output_type": "stream",
     "text": [
      "(72, 2000)\n",
      "Positive    24\n",
      "Neutral     24\n",
      "Negative    24\n",
      "Name: 0, dtype: int64\n"
     ]
    },
    {
     "data": {
      "image/png": "[encoded data removed]",
      "text/plain": [
       "<Figure size 576x396 with 1 Axes>"
      ]
     },
     "metadata": {},
     "output_type": "display_data"
    }
   ],
   "source": [
    "X_test_us, y_test_us = resample_dataset(X_test, y_test, RandomUnderSampler())\n",
    "print(X_test_us.shape)\n",
    "\n",
    "print(pd.DataFrame(y_test_us)[0].value_counts())\n",
    "plt.style.use('seaborn')\n",
    "pd.DataFrame(y_test_us)[0].value_counts().plot(kind='bar', title='Under Sampled Test Data')\n",
    "plt.show()"
   ]
  },
  {
   "cell_type": "markdown",
   "metadata": {},
   "source": [
    "___Creating model and sample collections to compare the sampling strategy with F1 Score___"
   ]
  },
  {
   "cell_type": "code",
   "execution_count": 36,
   "metadata": {},
   "outputs": [],
   "source": [
    "models = {\n",
    "            'multinomial_nb': MultinomialNB(),\n",
    "            'random_forest': RandomForestClassifier(),\n",
    "            'XGBClassifer': XGBClassifier()\n",
    "         }\n",
    "\n",
    "samples = {\n",
    "            'unsampled': [X_train, y_train, X_test, y_test],\n",
    "            'over_sampled': [X_train_os, y_train_os, X_test_os, y_test_os],\n",
    "            'under_sampled': [X_train_us, y_train_us, X_test_us, y_test_us]\n",
    "        }"
   ]
  },
  {
   "cell_type": "code",
   "execution_count": 37,
   "metadata": {},
   "outputs": [],
   "source": [
    "def create_models(models, samples):\n",
    "    model_scores = []\n",
    "    for model_name, model in models.items():\n",
    "        for label, sample in samples.items():\n",
    "            model_scores.append(assess_model_score(model_name, create_model(sample[0], sample[1], model), label, \n",
    "                                                              sample[2], sample[3]))\n",
    "    return pd.DataFrame(model_scores, columns=['Model', 'Sampling', 'F1Score', 'Accuracy', 'Precision', 'Recall'])    "
   ]
  },
  {
   "cell_type": "code",
   "execution_count": 38,
   "metadata": {},
   "outputs": [
    {
     "name": "stdout",
     "output_type": "stream",
     "text": [
      "Wall time: 7.29 s\n"
     ]
    }
   ],
   "source": [
    "%%time\n",
    "scores = create_models(models, samples)"
   ]
  },
  {
   "cell_type": "code",
   "execution_count": 39,
   "metadata": {},
   "outputs": [
    {
     "data": {
      "text/html": [
       "<div>\n",
       "<style scoped>\n",
       "    .dataframe tbody tr th:only-of-type {\n",
       "        vertical-align: middle;\n",
       "    }\n",
       "\n",
       "    .dataframe tbody tr th {\n",
       "        vertical-align: top;\n",
       "    }\n",
       "\n",
       "    .dataframe thead th {\n",
       "        text-align: right;\n",
       "    }\n",
       "</style>\n",
       "<table border=\"1\" class=\"dataframe\">\n",
       "  <thead>\n",
       "    <tr style=\"text-align: right;\">\n",
       "      <th></th>\n",
       "      <th>Model</th>\n",
       "      <th>Sampling</th>\n",
       "      <th>F1Score</th>\n",
       "      <th>Accuracy</th>\n",
       "      <th>Precision</th>\n",
       "      <th>Recall</th>\n",
       "    </tr>\n",
       "  </thead>\n",
       "  <tbody>\n",
       "    <tr>\n",
       "      <th>0</th>\n",
       "      <td>multinomial_nb</td>\n",
       "      <td>unsampled</td>\n",
       "      <td>0.882234</td>\n",
       "      <td>0.886000</td>\n",
       "      <td>0.878499</td>\n",
       "      <td>0.886000</td>\n",
       "    </tr>\n",
       "    <tr>\n",
       "      <th>1</th>\n",
       "      <td>multinomial_nb</td>\n",
       "      <td>over_sampled</td>\n",
       "      <td>0.292393</td>\n",
       "      <td>0.373888</td>\n",
       "      <td>0.398235</td>\n",
       "      <td>0.373888</td>\n",
       "    </tr>\n",
       "    <tr>\n",
       "      <th>2</th>\n",
       "      <td>multinomial_nb</td>\n",
       "      <td>under_sampled</td>\n",
       "      <td>0.294372</td>\n",
       "      <td>0.305556</td>\n",
       "      <td>0.291667</td>\n",
       "      <td>0.305556</td>\n",
       "    </tr>\n",
       "    <tr>\n",
       "      <th>3</th>\n",
       "      <td>random_forest</td>\n",
       "      <td>unsampled</td>\n",
       "      <td>0.904523</td>\n",
       "      <td>0.933000</td>\n",
       "      <td>0.877732</td>\n",
       "      <td>0.933000</td>\n",
       "    </tr>\n",
       "    <tr>\n",
       "      <th>4</th>\n",
       "      <td>random_forest</td>\n",
       "      <td>over_sampled</td>\n",
       "      <td>0.166266</td>\n",
       "      <td>0.332266</td>\n",
       "      <td>0.110874</td>\n",
       "      <td>0.332266</td>\n",
       "    </tr>\n",
       "    <tr>\n",
       "      <th>5</th>\n",
       "      <td>random_forest</td>\n",
       "      <td>under_sampled</td>\n",
       "      <td>0.284275</td>\n",
       "      <td>0.347222</td>\n",
       "      <td>0.448413</td>\n",
       "      <td>0.347222</td>\n",
       "    </tr>\n",
       "    <tr>\n",
       "      <th>6</th>\n",
       "      <td>XGBClassifer</td>\n",
       "      <td>unsampled</td>\n",
       "      <td>0.902980</td>\n",
       "      <td>0.929000</td>\n",
       "      <td>0.878378</td>\n",
       "      <td>0.929000</td>\n",
       "    </tr>\n",
       "    <tr>\n",
       "      <th>7</th>\n",
       "      <td>XGBClassifer</td>\n",
       "      <td>over_sampled</td>\n",
       "      <td>0.379044</td>\n",
       "      <td>0.419068</td>\n",
       "      <td>0.472945</td>\n",
       "      <td>0.419068</td>\n",
       "    </tr>\n",
       "    <tr>\n",
       "      <th>8</th>\n",
       "      <td>XGBClassifer</td>\n",
       "      <td>under_sampled</td>\n",
       "      <td>0.277644</td>\n",
       "      <td>0.319444</td>\n",
       "      <td>0.416667</td>\n",
       "      <td>0.319444</td>\n",
       "    </tr>\n",
       "  </tbody>\n",
       "</table>\n",
       "</div>"
      ],
      "text/plain": [
       "            Model       Sampling   F1Score  Accuracy  Precision    Recall\n",
       "0  multinomial_nb      unsampled  0.882234  0.886000   0.878499  0.886000\n",
       "1  multinomial_nb   over_sampled  0.292393  0.373888   0.398235  0.373888\n",
       "2  multinomial_nb  under_sampled  0.294372  0.305556   0.291667  0.305556\n",
       "3   random_forest      unsampled  0.904523  0.933000   0.877732  0.933000\n",
       "4   random_forest   over_sampled  0.166266  0.332266   0.110874  0.332266\n",
       "5   random_forest  under_sampled  0.284275  0.347222   0.448413  0.347222\n",
       "6    XGBClassifer      unsampled  0.902980  0.929000   0.878378  0.929000\n",
       "7    XGBClassifer   over_sampled  0.379044  0.419068   0.472945  0.419068\n",
       "8    XGBClassifer  under_sampled  0.277644  0.319444   0.416667  0.319444"
      ]
     },
     "execution_count": 39,
     "metadata": {},
     "output_type": "execute_result"
    }
   ],
   "source": [
    "scores"
   ]
  },
  {
   "cell_type": "code",
   "execution_count": 40,
   "metadata": {},
   "outputs": [
    {
     "data": {
      "image/png": "[encoded data removed]",
      "text/plain": [
       "<Figure size 864x432 with 2 Axes>"
      ]
     },
     "metadata": {},
     "output_type": "display_data"
    }
   ],
   "source": [
    "over_sampled = scores[scores['Sampling'] == 'over_sampled']\n",
    "under_sampled = scores[scores['Sampling'] == 'under_sampled']\n",
    "fig, (ax1, ax2) = plt.subplots(1,2, figsize=(12,6), \n",
    "                               sharey=True)\n",
    "ax1.bar(over_sampled['Model'], over_sampled['F1Score'], color=\"brown\")\n",
    "ax2.bar(under_sampled['Model'], under_sampled['F1Score'], color=\"green\")\n",
    "ax1.set_title(\"Over Sampling\")\n",
    "ax2.set_title(\"Under Sampling\")\n",
    "\n",
    "plt.show()"
   ]
  },
  {
   "cell_type": "markdown",
   "metadata": {},
   "source": [
    "### Week 3:\n",
    "1. Apply multi-class SVM’s and neural nets.\n",
    "2. Use possible ensemble techniques like: XGboost + oversampled_multinomial_NB.\n",
    "3. Assign a score to the sentence sentiment (engineer a feature called sentiment score). Use this engineered feature in the model and check for improvements. Draw insights on the same."
   ]
  },
  {
   "cell_type": "code",
   "execution_count": 41,
   "metadata": {},
   "outputs": [],
   "source": [
    "svm_kernels = {\n",
    "    'linear': {\n",
    "        'kernel':'linear', \n",
    "        'C':1, \n",
    "        'decision_function_shape':'ovo'\n",
    "    },\n",
    "    'rbf': {\n",
    "        'kernel':'rbf', \n",
    "        'C':1,\n",
    "        'gamma':1,\n",
    "        'decision_function_shape':'ovo'\n",
    "    },\n",
    "    'poly': {\n",
    "        'kernel':'poly', \n",
    "        'C':1,\n",
    "        'degree':3,\n",
    "        'decision_function_shape':'ovo'\n",
    "    },\n",
    "    'sigmoid': {\n",
    "        'kernel':'sigmoid', \n",
    "        'C':1, \n",
    "        'decision_function_shape':'ovo'\n",
    "    }\n",
    "}\n",
    "def assess_svm_kernels(samples):\n",
    "    svm_scores = []\n",
    "    for label, sample in samples.items():\n",
    "        for model_name, params in svm_kernels.items():\n",
    "            model = SVC().set_params(**params).fit(sample[0], sample[1])\n",
    "            svm_scores.append(assess_model_score(model_name, model, label, sample[2], sample[3]))\n",
    "    return pd.DataFrame(svm_scores, columns=['SVM_Kernel', 'Sampling', 'F1Score', 'Accuracy', 'Precision', 'Recall'])"
   ]
  },
  {
   "cell_type": "code",
   "execution_count": 42,
   "metadata": {},
   "outputs": [
    {
     "name": "stdout",
     "output_type": "stream",
     "text": [
      "Wall time: 37.4 s\n"
     ]
    }
   ],
   "source": [
    "%%time\n",
    "svm_scores = assess_svm_kernels(samples)"
   ]
  },
  {
   "cell_type": "code",
   "execution_count": 43,
   "metadata": {},
   "outputs": [
    {
     "data": {
      "text/html": [
       "<div>\n",
       "<style scoped>\n",
       "    .dataframe tbody tr th:only-of-type {\n",
       "        vertical-align: middle;\n",
       "    }\n",
       "\n",
       "    .dataframe tbody tr th {\n",
       "        vertical-align: top;\n",
       "    }\n",
       "\n",
       "    .dataframe thead th {\n",
       "        text-align: right;\n",
       "    }\n",
       "</style>\n",
       "<table border=\"1\" class=\"dataframe\">\n",
       "  <thead>\n",
       "    <tr style=\"text-align: right;\">\n",
       "      <th></th>\n",
       "      <th>SVM_Kernel</th>\n",
       "      <th>Sampling</th>\n",
       "      <th>F1Score</th>\n",
       "      <th>Accuracy</th>\n",
       "      <th>Precision</th>\n",
       "      <th>Recall</th>\n",
       "    </tr>\n",
       "  </thead>\n",
       "  <tbody>\n",
       "    <tr>\n",
       "      <th>0</th>\n",
       "      <td>linear</td>\n",
       "      <td>unsampled</td>\n",
       "      <td>0.906025</td>\n",
       "      <td>0.936000</td>\n",
       "      <td>0.877910</td>\n",
       "      <td>0.936000</td>\n",
       "    </tr>\n",
       "    <tr>\n",
       "      <th>1</th>\n",
       "      <td>rbf</td>\n",
       "      <td>unsampled</td>\n",
       "      <td>0.906525</td>\n",
       "      <td>0.937000</td>\n",
       "      <td>0.877969</td>\n",
       "      <td>0.937000</td>\n",
       "    </tr>\n",
       "    <tr>\n",
       "      <th>2</th>\n",
       "      <td>poly</td>\n",
       "      <td>unsampled</td>\n",
       "      <td>0.906525</td>\n",
       "      <td>0.937000</td>\n",
       "      <td>0.877969</td>\n",
       "      <td>0.937000</td>\n",
       "    </tr>\n",
       "    <tr>\n",
       "      <th>3</th>\n",
       "      <td>sigmoid</td>\n",
       "      <td>unsampled</td>\n",
       "      <td>0.906025</td>\n",
       "      <td>0.936000</td>\n",
       "      <td>0.877910</td>\n",
       "      <td>0.936000</td>\n",
       "    </tr>\n",
       "    <tr>\n",
       "      <th>4</th>\n",
       "      <td>linear</td>\n",
       "      <td>over_sampled</td>\n",
       "      <td>0.225071</td>\n",
       "      <td>0.349342</td>\n",
       "      <td>0.243242</td>\n",
       "      <td>0.349342</td>\n",
       "    </tr>\n",
       "    <tr>\n",
       "      <th>5</th>\n",
       "      <td>rbf</td>\n",
       "      <td>over_sampled</td>\n",
       "      <td>0.166667</td>\n",
       "      <td>0.333333</td>\n",
       "      <td>0.111111</td>\n",
       "      <td>0.333333</td>\n",
       "    </tr>\n",
       "    <tr>\n",
       "      <th>6</th>\n",
       "      <td>poly</td>\n",
       "      <td>over_sampled</td>\n",
       "      <td>0.166667</td>\n",
       "      <td>0.333333</td>\n",
       "      <td>0.111111</td>\n",
       "      <td>0.333333</td>\n",
       "    </tr>\n",
       "    <tr>\n",
       "      <th>7</th>\n",
       "      <td>sigmoid</td>\n",
       "      <td>over_sampled</td>\n",
       "      <td>0.249842</td>\n",
       "      <td>0.334045</td>\n",
       "      <td>0.286376</td>\n",
       "      <td>0.334045</td>\n",
       "    </tr>\n",
       "    <tr>\n",
       "      <th>8</th>\n",
       "      <td>linear</td>\n",
       "      <td>under_sampled</td>\n",
       "      <td>0.263680</td>\n",
       "      <td>0.263889</td>\n",
       "      <td>0.268225</td>\n",
       "      <td>0.263889</td>\n",
       "    </tr>\n",
       "    <tr>\n",
       "      <th>9</th>\n",
       "      <td>rbf</td>\n",
       "      <td>under_sampled</td>\n",
       "      <td>0.269835</td>\n",
       "      <td>0.305556</td>\n",
       "      <td>0.263844</td>\n",
       "      <td>0.305556</td>\n",
       "    </tr>\n",
       "    <tr>\n",
       "      <th>10</th>\n",
       "      <td>poly</td>\n",
       "      <td>under_sampled</td>\n",
       "      <td>0.168421</td>\n",
       "      <td>0.333333</td>\n",
       "      <td>0.112676</td>\n",
       "      <td>0.333333</td>\n",
       "    </tr>\n",
       "    <tr>\n",
       "      <th>11</th>\n",
       "      <td>sigmoid</td>\n",
       "      <td>under_sampled</td>\n",
       "      <td>0.262918</td>\n",
       "      <td>0.263889</td>\n",
       "      <td>0.262955</td>\n",
       "      <td>0.263889</td>\n",
       "    </tr>\n",
       "  </tbody>\n",
       "</table>\n",
       "</div>"
      ],
      "text/plain": [
       "   SVM_Kernel       Sampling   F1Score  Accuracy  Precision    Recall\n",
       "0      linear      unsampled  0.906025  0.936000   0.877910  0.936000\n",
       "1         rbf      unsampled  0.906525  0.937000   0.877969  0.937000\n",
       "2        poly      unsampled  0.906525  0.937000   0.877969  0.937000\n",
       "3     sigmoid      unsampled  0.906025  0.936000   0.877910  0.936000\n",
       "4      linear   over_sampled  0.225071  0.349342   0.243242  0.349342\n",
       "5         rbf   over_sampled  0.166667  0.333333   0.111111  0.333333\n",
       "6        poly   over_sampled  0.166667  0.333333   0.111111  0.333333\n",
       "7     sigmoid   over_sampled  0.249842  0.334045   0.286376  0.334045\n",
       "8      linear  under_sampled  0.263680  0.263889   0.268225  0.263889\n",
       "9         rbf  under_sampled  0.269835  0.305556   0.263844  0.305556\n",
       "10       poly  under_sampled  0.168421  0.333333   0.112676  0.333333\n",
       "11    sigmoid  under_sampled  0.262918  0.263889   0.262955  0.263889"
      ]
     },
     "execution_count": 43,
     "metadata": {},
     "output_type": "execute_result"
    }
   ],
   "source": [
    "svm_scores"
   ]
  },
  {
   "cell_type": "code",
   "execution_count": 44,
   "metadata": {},
   "outputs": [
    {
     "data": {
      "image/png": "[encoded data removed]",
      "text/plain": [
       "<Figure size 864x432 with 2 Axes>"
      ]
     },
     "metadata": {},
     "output_type": "display_data"
    }
   ],
   "source": [
    "over_sampled = svm_scores[svm_scores['Sampling'] == 'over_sampled']\n",
    "under_sampled = svm_scores[svm_scores['Sampling'] == 'under_sampled']\n",
    "fig, (ax1, ax2) = plt.subplots(1,2, figsize=(12,6), \n",
    "                               sharey=True)\n",
    "ax1.bar(over_sampled['SVM_Kernel'], over_sampled['F1Score'], color=\"teal\")\n",
    "ax2.bar(under_sampled['SVM_Kernel'], under_sampled['F1Score'], color=\"orange\")\n",
    "ax1.set_title(\"Over Sampling\")\n",
    "ax2.set_title(\"Under Sampling\")\n",
    "\n",
    "plt.show()"
   ]
  },
  {
   "cell_type": "markdown",
   "metadata": {},
   "source": [
    "#### Adding Sentiment Score using VADER\n",
    "> __VADER__ ( Valence Aware Dictionary for Sentiment Reasoning) is a model used for text sentiment analysis that is sensitive to both polarity (positive/negative) and intensity (strength) of emotion. It is available in the NLTK package and can be applied directly to unlabeled text data.\n",
    ">\n",
    "> VADER sentimental analysis relies on a dictionary that maps lexical features to emotion intensities known as sentiment scores. The sentiment score of a text can be obtained by summing up the intensity of each word in the text.\n",
    "For example- Words like ___‘love’, ‘enjoy’, ‘happy’, ‘like’___ all convey a positive sentiment. Also VADER is intelligent enough to understand the basic context of these words, such as “did not love” as a negative statement. It also understands the emphasis of capitalization and punctuation, such as ___“ENJOY”___"
   ]
  },
  {
   "cell_type": "code",
   "execution_count": 45,
   "metadata": {},
   "outputs": [],
   "source": [
    "#import nltk\n",
    "#nltk.download('vader_lexicon')"
   ]
  },
  {
   "cell_type": "code",
   "execution_count": 46,
   "metadata": {},
   "outputs": [],
   "source": [
    "from nltk.sentiment.vader import SentimentIntensityAnalyzer\n",
    "\n",
    "sid = SentimentIntensityAnalyzer()"
   ]
  },
  {
   "cell_type": "markdown",
   "metadata": {},
   "source": [
    "___Some Examples of VADER Sentiment Inensity Analyzer___"
   ]
  },
  {
   "cell_type": "code",
   "execution_count": 47,
   "metadata": {},
   "outputs": [
    {
     "name": "stdout",
     "output_type": "stream",
     "text": [
      "{'neg': 0.0, 'neu': 0.508, 'pos': 0.492, 'compound': 0.4404}\n",
      "{'neg': 0.0, 'neu': 0.425, 'pos': 0.575, 'compound': 0.8877}\n"
     ]
    }
   ],
   "source": [
    "a = 'This was a good movie.'\n",
    "print(sid.polarity_scores(a))\n",
    "\n",
    "b = 'This was the best, most awesome movie EVER MADE!!!'\n",
    "print(sid.polarity_scores(b))"
   ]
  },
  {
   "cell_type": "markdown",
   "metadata": {},
   "source": [
    "___Adding Sentiment instenity Compound Score as a feature in our training and test datasets___"
   ]
  },
  {
   "cell_type": "markdown",
   "metadata": {},
   "source": [
    "#### Training Dataset:"
   ]
  },
  {
   "cell_type": "code",
   "execution_count": 48,
   "metadata": {},
   "outputs": [
    {
     "data": {
      "text/html": [
       "<div>\n",
       "<style scoped>\n",
       "    .dataframe tbody tr th:only-of-type {\n",
       "        vertical-align: middle;\n",
       "    }\n",
       "\n",
       "    .dataframe tbody tr th {\n",
       "        vertical-align: top;\n",
       "    }\n",
       "\n",
       "    .dataframe thead th {\n",
       "        text-align: right;\n",
       "    }\n",
       "</style>\n",
       "<table border=\"1\" class=\"dataframe\">\n",
       "  <thead>\n",
       "    <tr style=\"text-align: right;\">\n",
       "      <th></th>\n",
       "      <th>reviews.text</th>\n",
       "      <th>reviews_cleaned</th>\n",
       "      <th>sentiment</th>\n",
       "      <th>sentiment_scores</th>\n",
       "      <th>sentiment_compound_score</th>\n",
       "    </tr>\n",
       "  </thead>\n",
       "  <tbody>\n",
       "    <tr>\n",
       "      <th>0</th>\n",
       "      <td>Purchased on Black FridayPros - Great Price (e...</td>\n",
       "      <td>Purchased Black FridayPros Great Price even sa...</td>\n",
       "      <td>Positive</td>\n",
       "      <td>{'neg': 0.017, 'neu': 0.686, 'pos': 0.297, 'co...</td>\n",
       "      <td>0.9709</td>\n",
       "    </tr>\n",
       "    <tr>\n",
       "      <th>1</th>\n",
       "      <td>I purchased two Amazon in Echo Plus and two do...</td>\n",
       "      <td>purchased two Amazon Echo Plus two dot plus fo...</td>\n",
       "      <td>Positive</td>\n",
       "      <td>{'neg': 0.019, 'neu': 0.781, 'pos': 0.2, 'comp...</td>\n",
       "      <td>0.9716</td>\n",
       "    </tr>\n",
       "    <tr>\n",
       "      <th>2</th>\n",
       "      <td>Just an average Alexa option. Does show a few ...</td>\n",
       "      <td>Just average Alexa option Does show thing scre...</td>\n",
       "      <td>Neutral</td>\n",
       "      <td>{'neg': 0.153, 'neu': 0.847, 'pos': 0.0, 'comp...</td>\n",
       "      <td>0.0000</td>\n",
       "    </tr>\n",
       "    <tr>\n",
       "      <th>3</th>\n",
       "      <td>very good product. Exactly what I wanted, and ...</td>\n",
       "      <td>good product Exactly wanted good price</td>\n",
       "      <td>Positive</td>\n",
       "      <td>{'neg': 0.0, 'neu': 0.556, 'pos': 0.444, 'comp...</td>\n",
       "      <td>0.7496</td>\n",
       "    </tr>\n",
       "    <tr>\n",
       "      <th>4</th>\n",
       "      <td>This is the 3rd one I've purchased. I've bough...</td>\n",
       "      <td>This rd one purchased bought one niece No case...</td>\n",
       "      <td>Positive</td>\n",
       "      <td>{'neg': 0.058, 'neu': 0.866, 'pos': 0.076, 'co...</td>\n",
       "      <td>0.1779</td>\n",
       "    </tr>\n",
       "  </tbody>\n",
       "</table>\n",
       "</div>"
      ],
      "text/plain": [
       "                                        reviews.text  \\\n",
       "0  Purchased on Black FridayPros - Great Price (e...   \n",
       "1  I purchased two Amazon in Echo Plus and two do...   \n",
       "2  Just an average Alexa option. Does show a few ...   \n",
       "3  very good product. Exactly what I wanted, and ...   \n",
       "4  This is the 3rd one I've purchased. I've bough...   \n",
       "\n",
       "                                     reviews_cleaned sentiment  \\\n",
       "0  Purchased Black FridayPros Great Price even sa...  Positive   \n",
       "1  purchased two Amazon Echo Plus two dot plus fo...  Positive   \n",
       "2  Just average Alexa option Does show thing scre...   Neutral   \n",
       "3             good product Exactly wanted good price  Positive   \n",
       "4  This rd one purchased bought one niece No case...  Positive   \n",
       "\n",
       "                                    sentiment_scores  sentiment_compound_score  \n",
       "0  {'neg': 0.017, 'neu': 0.686, 'pos': 0.297, 'co...                    0.9709  \n",
       "1  {'neg': 0.019, 'neu': 0.781, 'pos': 0.2, 'comp...                    0.9716  \n",
       "2  {'neg': 0.153, 'neu': 0.847, 'pos': 0.0, 'comp...                    0.0000  \n",
       "3  {'neg': 0.0, 'neu': 0.556, 'pos': 0.444, 'comp...                    0.7496  \n",
       "4  {'neg': 0.058, 'neu': 0.866, 'pos': 0.076, 'co...                    0.1779  "
      ]
     },
     "execution_count": 48,
     "metadata": {},
     "output_type": "execute_result"
    }
   ],
   "source": [
    "merge_score_df = merge_df[['reviews.text','reviews_cleaned', 'sentiment']]\n",
    "merge_score_df['sentiment_scores'] = merge_score_df['reviews.text'].apply(lambda review: \n",
    "                                                             sid.polarity_scores(review))\n",
    "merge_score_df['sentiment_compound_score'] = merge_score_df['sentiment_scores'].apply(lambda score_dict: 0 if\n",
    "                                                               score_dict['compound'] < 0 else score_dict['compound'])\n",
    "merge_score_df.head()"
   ]
  },
  {
   "cell_type": "markdown",
   "metadata": {},
   "source": [
    "#### Test dataset:"
   ]
  },
  {
   "cell_type": "code",
   "execution_count": 49,
   "metadata": {},
   "outputs": [
    {
     "data": {
      "text/html": [
       "<div>\n",
       "<style scoped>\n",
       "    .dataframe tbody tr th:only-of-type {\n",
       "        vertical-align: middle;\n",
       "    }\n",
       "\n",
       "    .dataframe tbody tr th {\n",
       "        vertical-align: top;\n",
       "    }\n",
       "\n",
       "    .dataframe thead th {\n",
       "        text-align: right;\n",
       "    }\n",
       "</style>\n",
       "<table border=\"1\" class=\"dataframe\">\n",
       "  <thead>\n",
       "    <tr style=\"text-align: right;\">\n",
       "      <th></th>\n",
       "      <th>reviews.text</th>\n",
       "      <th>reviews_cleaned</th>\n",
       "      <th>sentiment</th>\n",
       "      <th>sentiment_scores</th>\n",
       "      <th>sentiment_compound_score</th>\n",
       "    </tr>\n",
       "  </thead>\n",
       "  <tbody>\n",
       "    <tr>\n",
       "      <th>0</th>\n",
       "      <td>Amazon kindle fire has a lot of free app and c...</td>\n",
       "      <td>Amazon kindle fire lot free app used one want ...</td>\n",
       "      <td>Positive</td>\n",
       "      <td>{'neg': 0.094, 'neu': 0.709, 'pos': 0.197, 'co...</td>\n",
       "      <td>0.3818</td>\n",
       "    </tr>\n",
       "    <tr>\n",
       "      <th>1</th>\n",
       "      <td>The Echo Show is a great addition to the Amazo...</td>\n",
       "      <td>The Echo Show great addition Amazon family Wor...</td>\n",
       "      <td>Positive</td>\n",
       "      <td>{'neg': 0.0, 'neu': 0.418, 'pos': 0.582, 'comp...</td>\n",
       "      <td>0.9944</td>\n",
       "    </tr>\n",
       "    <tr>\n",
       "      <th>2</th>\n",
       "      <td>Great value from Best Buy. Bought at Christmas...</td>\n",
       "      <td>Great value Best Buy Bought Christmas sale</td>\n",
       "      <td>Positive</td>\n",
       "      <td>{'neg': 0.0, 'neu': 0.359, 'pos': 0.641, 'comp...</td>\n",
       "      <td>0.8934</td>\n",
       "    </tr>\n",
       "    <tr>\n",
       "      <th>3</th>\n",
       "      <td>I use mine for email, Facebook ,games and to g...</td>\n",
       "      <td>use mine email Facebook game go line also load...</td>\n",
       "      <td>Positive</td>\n",
       "      <td>{'neg': 0.0, 'neu': 0.864, 'pos': 0.136, 'comp...</td>\n",
       "      <td>0.5994</td>\n",
       "    </tr>\n",
       "    <tr>\n",
       "      <th>4</th>\n",
       "      <td>This is a fantastic item &amp; the person I bought...</td>\n",
       "      <td>This fantastic item person bought love</td>\n",
       "      <td>Positive</td>\n",
       "      <td>{'neg': 0.0, 'neu': 0.552, 'pos': 0.448, 'comp...</td>\n",
       "      <td>0.8074</td>\n",
       "    </tr>\n",
       "  </tbody>\n",
       "</table>\n",
       "</div>"
      ],
      "text/plain": [
       "                                        reviews.text  \\\n",
       "0  Amazon kindle fire has a lot of free app and c...   \n",
       "1  The Echo Show is a great addition to the Amazo...   \n",
       "2  Great value from Best Buy. Bought at Christmas...   \n",
       "3  I use mine for email, Facebook ,games and to g...   \n",
       "4  This is a fantastic item & the person I bought...   \n",
       "\n",
       "                                     reviews_cleaned sentiment  \\\n",
       "0  Amazon kindle fire lot free app used one want ...  Positive   \n",
       "1  The Echo Show great addition Amazon family Wor...  Positive   \n",
       "2         Great value Best Buy Bought Christmas sale  Positive   \n",
       "3  use mine email Facebook game go line also load...  Positive   \n",
       "4             This fantastic item person bought love  Positive   \n",
       "\n",
       "                                    sentiment_scores  sentiment_compound_score  \n",
       "0  {'neg': 0.094, 'neu': 0.709, 'pos': 0.197, 'co...                    0.3818  \n",
       "1  {'neg': 0.0, 'neu': 0.418, 'pos': 0.582, 'comp...                    0.9944  \n",
       "2  {'neg': 0.0, 'neu': 0.359, 'pos': 0.641, 'comp...                    0.8934  \n",
       "3  {'neg': 0.0, 'neu': 0.864, 'pos': 0.136, 'comp...                    0.5994  \n",
       "4  {'neg': 0.0, 'neu': 0.552, 'pos': 0.448, 'comp...                    0.8074  "
      ]
     },
     "execution_count": 49,
     "metadata": {},
     "output_type": "execute_result"
    }
   ],
   "source": [
    "validation_score_df = validation_df[['reviews.text','reviews_cleaned', 'sentiment']]\n",
    "validation_score_df['sentiment_scores'] = validation_df['reviews.text'].apply(lambda review: \n",
    "                                                             sid.polarity_scores(review))\n",
    "validation_score_df['sentiment_compound_score'] = validation_score_df['sentiment_scores'].apply(lambda score_dict: 0 if \n",
    "                                                               score_dict['compound'] < 0 else score_dict['compound'])\n",
    "validation_score_df.head()"
   ]
  },
  {
   "cell_type": "markdown",
   "metadata": {},
   "source": [
    "___Recreating Training Datasets with Sentiment Score as a Feature___"
   ]
  },
  {
   "cell_type": "code",
   "execution_count": 50,
   "metadata": {},
   "outputs": [],
   "source": [
    "X_score_train = csr_matrix(hstack([X_train, np.vstack(merge_score_df['sentiment_compound_score'])]).toarray())\n",
    "X_score_train_us, y_score_train_us = resample_dataset(X_score_train, y_train, RandomUnderSampler())\n",
    "X_score_train_os, y_score_train_os = resample_dataset(X_score_train, y_train, RandomOverSampler())"
   ]
  },
  {
   "cell_type": "markdown",
   "metadata": {},
   "source": [
    "___Recreating Test Datasets with Sentiment Score as a Feature___"
   ]
  },
  {
   "cell_type": "code",
   "execution_count": 51,
   "metadata": {},
   "outputs": [],
   "source": [
    "X_score_test = csr_matrix(hstack([X_test, np.vstack(validation_score_df['sentiment_compound_score'])]).toarray())\n",
    "X_score_test_us, y_score_test_us = resample_dataset(X_score_test, y_test, RandomUnderSampler())\n",
    "X_score_test_os, y_score_test_os = resample_dataset(X_score_test, y_test, RandomOverSampler())"
   ]
  },
  {
   "cell_type": "code",
   "execution_count": 52,
   "metadata": {},
   "outputs": [],
   "source": [
    "scored_samples = {\n",
    "    'unsampled': [X_score_train, y_train, X_score_test, y_test],\n",
    "    'over_sampled': [X_score_train_os, y_train_os, X_score_test_os, y_test_os],\n",
    "    'under_sampled': [X_score_train_us, y_train_us, X_score_test_us, y_test_us]\n",
    "}"
   ]
  },
  {
   "cell_type": "code",
   "execution_count": 53,
   "metadata": {},
   "outputs": [
    {
     "name": "stdout",
     "output_type": "stream",
     "text": [
      "Wall time: 7.03 s\n"
     ]
    }
   ],
   "source": [
    "%%time\n",
    "scored_models_tests = create_models(models, scored_samples)"
   ]
  },
  {
   "cell_type": "code",
   "execution_count": 54,
   "metadata": {},
   "outputs": [
    {
     "data": {
      "text/html": [
       "<div>\n",
       "<style scoped>\n",
       "    .dataframe tbody tr th:only-of-type {\n",
       "        vertical-align: middle;\n",
       "    }\n",
       "\n",
       "    .dataframe tbody tr th {\n",
       "        vertical-align: top;\n",
       "    }\n",
       "\n",
       "    .dataframe thead th {\n",
       "        text-align: right;\n",
       "    }\n",
       "</style>\n",
       "<table border=\"1\" class=\"dataframe\">\n",
       "  <thead>\n",
       "    <tr style=\"text-align: right;\">\n",
       "      <th></th>\n",
       "      <th>Model</th>\n",
       "      <th>Sampling</th>\n",
       "      <th>F1Score</th>\n",
       "      <th>Accuracy</th>\n",
       "      <th>Precision</th>\n",
       "      <th>Recall</th>\n",
       "    </tr>\n",
       "  </thead>\n",
       "  <tbody>\n",
       "    <tr>\n",
       "      <th>0</th>\n",
       "      <td>multinomial_nb</td>\n",
       "      <td>unsampled</td>\n",
       "      <td>0.897231</td>\n",
       "      <td>0.911000</td>\n",
       "      <td>0.883900</td>\n",
       "      <td>0.911000</td>\n",
       "    </tr>\n",
       "    <tr>\n",
       "      <th>1</th>\n",
       "      <td>multinomial_nb</td>\n",
       "      <td>over_sampled</td>\n",
       "      <td>0.285073</td>\n",
       "      <td>0.376379</td>\n",
       "      <td>0.409821</td>\n",
       "      <td>0.376379</td>\n",
       "    </tr>\n",
       "    <tr>\n",
       "      <th>2</th>\n",
       "      <td>multinomial_nb</td>\n",
       "      <td>under_sampled</td>\n",
       "      <td>0.436232</td>\n",
       "      <td>0.472222</td>\n",
       "      <td>0.492677</td>\n",
       "      <td>0.472222</td>\n",
       "    </tr>\n",
       "    <tr>\n",
       "      <th>3</th>\n",
       "      <td>random_forest</td>\n",
       "      <td>unsampled</td>\n",
       "      <td>0.906525</td>\n",
       "      <td>0.937000</td>\n",
       "      <td>0.877969</td>\n",
       "      <td>0.937000</td>\n",
       "    </tr>\n",
       "    <tr>\n",
       "      <th>4</th>\n",
       "      <td>random_forest</td>\n",
       "      <td>over_sampled</td>\n",
       "      <td>0.166667</td>\n",
       "      <td>0.333333</td>\n",
       "      <td>0.111111</td>\n",
       "      <td>0.333333</td>\n",
       "    </tr>\n",
       "    <tr>\n",
       "      <th>5</th>\n",
       "      <td>random_forest</td>\n",
       "      <td>under_sampled</td>\n",
       "      <td>0.470375</td>\n",
       "      <td>0.527778</td>\n",
       "      <td>0.458700</td>\n",
       "      <td>0.527778</td>\n",
       "    </tr>\n",
       "    <tr>\n",
       "      <th>6</th>\n",
       "      <td>XGBClassifer</td>\n",
       "      <td>unsampled</td>\n",
       "      <td>0.905525</td>\n",
       "      <td>0.935000</td>\n",
       "      <td>0.877851</td>\n",
       "      <td>0.935000</td>\n",
       "    </tr>\n",
       "    <tr>\n",
       "      <th>7</th>\n",
       "      <td>XGBClassifer</td>\n",
       "      <td>over_sampled</td>\n",
       "      <td>0.479877</td>\n",
       "      <td>0.512273</td>\n",
       "      <td>0.548315</td>\n",
       "      <td>0.512273</td>\n",
       "    </tr>\n",
       "    <tr>\n",
       "      <th>8</th>\n",
       "      <td>XGBClassifer</td>\n",
       "      <td>under_sampled</td>\n",
       "      <td>0.544018</td>\n",
       "      <td>0.569444</td>\n",
       "      <td>0.550725</td>\n",
       "      <td>0.569444</td>\n",
       "    </tr>\n",
       "  </tbody>\n",
       "</table>\n",
       "</div>"
      ],
      "text/plain": [
       "            Model       Sampling   F1Score  Accuracy  Precision    Recall\n",
       "0  multinomial_nb      unsampled  0.897231  0.911000   0.883900  0.911000\n",
       "1  multinomial_nb   over_sampled  0.285073  0.376379   0.409821  0.376379\n",
       "2  multinomial_nb  under_sampled  0.436232  0.472222   0.492677  0.472222\n",
       "3   random_forest      unsampled  0.906525  0.937000   0.877969  0.937000\n",
       "4   random_forest   over_sampled  0.166667  0.333333   0.111111  0.333333\n",
       "5   random_forest  under_sampled  0.470375  0.527778   0.458700  0.527778\n",
       "6    XGBClassifer      unsampled  0.905525  0.935000   0.877851  0.935000\n",
       "7    XGBClassifer   over_sampled  0.479877  0.512273   0.548315  0.512273\n",
       "8    XGBClassifer  under_sampled  0.544018  0.569444   0.550725  0.569444"
      ]
     },
     "execution_count": 54,
     "metadata": {},
     "output_type": "execute_result"
    }
   ],
   "source": [
    "scored_models_tests"
   ]
  },
  {
   "cell_type": "code",
   "execution_count": 55,
   "metadata": {},
   "outputs": [
    {
     "data": {
      "image/png": "[encoded data removed]",
      "text/plain": [
       "<Figure size 864x432 with 2 Axes>"
      ]
     },
     "metadata": {},
     "output_type": "display_data"
    }
   ],
   "source": [
    "over_sampled = scored_models_tests[scored_models_tests['Sampling'] == 'over_sampled']\n",
    "under_sampled = scored_models_tests[scored_models_tests['Sampling'] == 'under_sampled']\n",
    "fig, (ax1, ax2) = plt.subplots(1,2, figsize=(12,6), \n",
    "                               sharey=True)\n",
    "ax1.bar(over_sampled['Model'], over_sampled['F1Score'], color=\"darkgreen\")\n",
    "ax2.bar(under_sampled['Model'], under_sampled['F1Score'], color=\"red\")\n",
    "ax1.set_title(\"Over Sampling\")\n",
    "ax2.set_title(\"Under Sampling\")\n",
    "\n",
    "plt.show()"
   ]
  },
  {
   "cell_type": "markdown",
   "metadata": {},
   "source": [
    "### Observations:\n",
    "1. Under Sampling with XGBoost gave a higher F1Score\n",
    "2. But consistently Over Sampling prooved to be a stable strategy\n",
    "3. XGBoost classifier is the best model"
   ]
  },
  {
   "cell_type": "markdown",
   "metadata": {},
   "source": [
    "### Week 4:\n",
    "\n",
    "1. __Use LSTM__ for the previous problem (use parameters of LSTM like top-word, embedding-length, Dropout, epochs, number of\n",
    "layers, etc.)\n",
    "\n",
    "    ___Hint___: Another variation of LSTM, GRU (Gated Recurrent Units) can be tried as well.\n",
    "    \n",
    "    \n",
    "2. __Compare the accuracy__ of neural nets with traditional ML based algorithms.\n",
    "\n",
    "\n",
    "3. __Find the best setting of LSTM (Neural Net) and GRU__ that can best classify the reviews as positive, negative, and neutral.\n",
    "\n",
    "    ___Hint:___ Use techniques like Grid Search, Cross-Validation and Random Search"
   ]
  },
  {
   "cell_type": "code",
   "execution_count": 56,
   "metadata": {},
   "outputs": [
    {
     "name": "stderr",
     "output_type": "stream",
     "text": [
      "Using TensorFlow backend.\n"
     ]
    }
   ],
   "source": [
    "import tensorflow as tf\n",
    "import keras\n",
    "from keras.preprocessing.text import Tokenizer\n",
    "from keras.preprocessing.sequence import pad_sequences\n",
    "from keras.models import Sequential\n",
    "from keras.layers import Dense, Embedding, LSTM, SpatialDropout1D\n",
    "from sklearn.model_selection import train_test_split\n",
    "from keras.utils.np_utils import to_categorical"
   ]
  },
  {
   "cell_type": "code",
   "execution_count": 57,
   "metadata": {},
   "outputs": [],
   "source": [
    "max_fatures = 2000\n",
    "#tokenizer = Tokenizer(num_words=max_fatures, split=' ')\n",
    "#tokenizer.fit_on_texts(data['text'].values)\n",
    "#X = tokenizer.texts_to_sequences(data['text'].values)\n",
    "#X = pad_sequences(X)"
   ]
  },
  {
   "cell_type": "code",
   "execution_count": 58,
   "metadata": {},
   "outputs": [],
   "source": [
    "X = X_score_train_os\n",
    "Y = y_score_train_os"
   ]
  },
  {
   "cell_type": "code",
   "execution_count": 59,
   "metadata": {},
   "outputs": [
    {
     "name": "stdout",
     "output_type": "stream",
     "text": [
      "Model: \"sequential_1\"\n",
      "_________________________________________________________________\n",
      "Layer (type)                 Output Shape              Param #   \n",
      "=================================================================\n",
      "embedding_1 (Embedding)      (None, 2001, 128)         256000    \n",
      "_________________________________________________________________\n",
      "spatial_dropout1d_1 (Spatial (None, 2001, 128)         0         \n",
      "_________________________________________________________________\n",
      "lstm_1 (LSTM)                (None, 196)               254800    \n",
      "_________________________________________________________________\n",
      "dense_1 (Dense)              (None, 3)                 591       \n",
      "=================================================================\n",
      "Total params: 511,391\n",
      "Trainable params: 511,391\n",
      "Non-trainable params: 0\n",
      "_________________________________________________________________\n",
      "None\n"
     ]
    }
   ],
   "source": [
    "embed_dim = 128\n",
    "lstm_out = 196\n",
    "\n",
    "model = Sequential()\n",
    "model.add(Embedding(max_fatures, embed_dim,input_length = X.shape[1]))\n",
    "model.add(SpatialDropout1D(0.4))\n",
    "model.add(LSTM(lstm_out, dropout=0.2, recurrent_dropout=0.2))\n",
    "model.add(Dense(3,activation='softmax'))\n",
    "model.compile(loss = 'categorical_crossentropy', optimizer='adam',metrics = ['accuracy'])\n",
    "print(model.summary())"
   ]
  },
  {
   "cell_type": "code",
   "execution_count": 60,
   "metadata": {},
   "outputs": [
    {
     "name": "stdout",
     "output_type": "stream",
     "text": [
      "(9840, 2001) (9840, 3)\n",
      "(4218, 2001) (4218, 3)\n"
     ]
    }
   ],
   "source": [
    "Y = pd.get_dummies(Y).values\n",
    "X_train, X_test, Y_train, Y_test = train_test_split(X,Y, test_size = 0.3, random_state = 42)\n",
    "print(X_train.shape,Y_train.shape)\n",
    "print(X_test.shape,Y_test.shape)"
   ]
  },
  {
   "cell_type": "code",
   "execution_count": 61,
   "metadata": {},
   "outputs": [
    {
     "name": "stdout",
     "output_type": "stream",
     "text": [
      "Epoch 1/10\n",
      "9840/9840 [==============================] - 1099s 112ms/step - loss: 1.1003 - accuracy: 0.3326\n",
      "Epoch 2/10\n",
      "9840/9840 [==============================] - 1099s 112ms/step - loss: 1.0996 - accuracy: 0.3280\n",
      "Epoch 3/10\n",
      "9840/9840 [==============================] - 1102s 112ms/step - loss: 1.0992 - accuracy: 0.3295\n",
      "Epoch 4/10\n",
      "9840/9840 [==============================] - 1100s 112ms/step - loss: 1.0991 - accuracy: 0.3340\n",
      "Epoch 5/10\n",
      "9840/9840 [==============================] - 1102s 112ms/step - loss: 1.0989 - accuracy: 0.3391\n",
      "Epoch 6/10\n",
      "9840/9840 [==============================] - 1102s 112ms/step - loss: 1.0991 - accuracy: 0.3309\n",
      "Epoch 7/10\n",
      "9840/9840 [==============================] - 1101s 112ms/step - loss: 1.0988 - accuracy: 0.3339\n",
      "Epoch 8/10\n",
      "9840/9840 [==============================] - 1101s 112ms/step - loss: 1.0990 - accuracy: 0.3347\n",
      "Epoch 9/10\n",
      "9840/9840 [==============================] - 1102s 112ms/step - loss: 1.0988 - accuracy: 0.3343\n",
      "Epoch 10/10\n",
      "9840/9840 [==============================] - 1100s 112ms/step - loss: 1.0990 - accuracy: 0.3313\n"
     ]
    },
    {
     "data": {
      "text/plain": [
       "<keras.callbacks.callbacks.History at 0x1e530af3908>"
      ]
     },
     "execution_count": 61,
     "metadata": {},
     "output_type": "execute_result"
    }
   ],
   "source": [
    "batch_size = 32\n",
    "model.fit(X_train, Y_train, epochs = 10, batch_size=batch_size)"
   ]
  },
  {
   "cell_type": "code",
   "execution_count": 62,
   "metadata": {},
   "outputs": [
    {
     "name": "stdout",
     "output_type": "stream",
     "text": [
      "score: 1.10\n",
      "acc: 0.32\n"
     ]
    }
   ],
   "source": [
    "validation_size = 1500\n",
    "\n",
    "X_validate = X_test[-validation_size:]\n",
    "Y_validate = Y_test[-validation_size:]\n",
    "X_test = X_test[:-validation_size]\n",
    "Y_test = Y_test[:-validation_size]\n",
    "score,acc = model.evaluate(X_test, Y_test, verbose = 2, batch_size = batch_size)\n",
    "print(\"score: %.2f\" % (score))\n",
    "print(\"acc: %.2f\" % (acc))"
   ]
  },
  {
   "cell_type": "markdown",
   "metadata": {},
   "source": [
    "### Week4: Optional\n",
    "1. __Cluster similar reviews.__\n",
    "\n",
    "   ___Note:___ Some reviews may talk about the device as a gift-option. Other reviews may be about product looks and some may\n",
    "   highlight about its battery and performance. Try naming the clusters.\n",
    "   \n",
    "   \n",
    "2. __Perform Topic Modeling__\n",
    "\n",
    "    ___Hint:___ Use scikit-learn provided Latent Dirchlette Allocation (LDA) and Non-Negative Matrix Factorization (NMF)."
   ]
  },
  {
   "cell_type": "code",
   "execution_count": 63,
   "metadata": {},
   "outputs": [],
   "source": [
    "import gensim"
   ]
  },
  {
   "cell_type": "code",
   "execution_count": 64,
   "metadata": {},
   "outputs": [
    {
     "name": "stdout",
     "output_type": "stream",
     "text": [
      "[['Purchased', 'Black', 'FridayPros', 'Great', 'Price', 'even', 'sale', 'Very',\n",
      "  'powerful', 'fast', 'quad', 'core', 'processor', 'Amazing', 'soundWell',\n",
      "  'builtCons', 'Amazon', 'ad', 'Amazon', 'need', 'subsidize', 'tablet',\n",
      "  'remove', 'add', 'pay', 'Inability', 'access', 'apps', 'except', 'one',\n",
      "  'Amazon', 'There', 'way', 'able', 'accomplish', 'add', 'Google', 'Play',\n",
      "  'storeNet', 'great', 'tablet', 'money'],\n",
      " ['purchased', 'two', 'Amazon', 'Echo', 'Plus', 'two', 'dot', 'plus', 'four',\n",
      "  'fire', 'stick', 'hub', 'Philips', 'hue', 'lamp', 'family', 'Christmas',\n",
      "  'happy', 'purchase', 'learning', 'much', 'Alexa', 'You', 'start', 'daily',\n",
      "  'routine', 'Alexa', 'program', 'whatever', 'would', 'like', 'include', 'news',\n",
      "  'weather', 'music', 'horoscope', 'ALSO', 'start', 'day', 'compliment',\n",
      "  'think', 'important', 'Alexa', 'gave', 'BEST', 'CHILI', 'RECIPE', 'MEAN',\n",
      "  'THE', 'BEST', 'called', 'Chili', 'want', 'husband', 'use', 'Alexa', 'stay',\n",
      "  'organized', 'business', 'date', 'reminder', 'This', 'way', 'go'],\n",
      " ['Just', 'average', 'Alexa', 'option', 'Does', 'show', 'thing', 'screen',\n",
      "  'still', 'limited'],\n",
      " ['good', 'product', 'Exactly', 'wanted', 'good', 'price'],\n",
      " ['This', 'rd', 'one', 'purchased', 'bought', 'one', 'niece', 'No', 'case',\n",
      "  'compare', 'one', 'It', 'held', 'protected', 'tablet', 'many', 'time',\n",
      "  'dropping']]\n",
      "Wall time: 10 ms\n"
     ]
    }
   ],
   "source": [
    "%%time\n",
    "review_words = [doc.split(\" \") for doc in merge_df['reviews_cleaned'].values]\n",
    "pprint(review_words[:5], compact=True)"
   ]
  },
  {
   "cell_type": "code",
   "execution_count": 65,
   "metadata": {},
   "outputs": [],
   "source": [
    "# Build a Dictionary - association word to numeric id\n",
    "dictionary = gensim.corpora.Dictionary(review_words)\n",
    "# Transform the collection of texts to a numerical form\n",
    "corpus = [dictionary.doc2bow(text) for text in review_words]"
   ]
  },
  {
   "cell_type": "code",
   "execution_count": 66,
   "metadata": {},
   "outputs": [],
   "source": [
    "NUM_TOPICS = 10\n",
    "lda_model = gensim.models.LdaModel(corpus=corpus, num_topics=NUM_TOPICS, id2word=dictionary, random_state=1)"
   ]
  },
  {
   "cell_type": "code",
   "execution_count": 67,
   "metadata": {},
   "outputs": [
    {
     "name": "stdout",
     "output_type": "stream",
     "text": [
      "LDA Model:\n",
      "('Topic #0: 0.023*\"tablet\" + 0.021*\"It\" + 0.020*\"use\" + 0.017*\"one\" + '\n",
      " '0.015*\"love\" + 0.014*\"easy\" + 0.013*\"Kindle\" + 0.012*\"like\" + 0.012*\"read\" + '\n",
      " '0.012*\"This\"')\n",
      "('Topic #1: 0.034*\"great\" + 0.023*\"tablet\" + 0.018*\"This\" + 0.014*\"like\" + '\n",
      " '0.011*\"wife\" + 0.011*\"price\" + 0.010*\"It\" + 0.010*\"love\" + 0.010*\"really\" + '\n",
      " '0.010*\"use\"')\n",
      "('Topic #2: 0.028*\"tablet\" + 0.024*\"love\" + 0.018*\"Amazon\" + 0.013*\"get\" + '\n",
      " '0.012*\"device\" + 0.011*\"game\" + 0.010*\"great\" + 0.009*\"old\" + 0.009*\"bought\" '\n",
      " '+ 0.009*\"It\"')\n",
      "('Topic #3: 0.017*\"love\" + 0.016*\"This\" + 0.015*\"use\" + 0.013*\"We\" + '\n",
      " '0.013*\"gift\" + 0.012*\"light\" + 0.011*\"It\" + 0.011*\"tablet\" + 0.009*\"bought\" '\n",
      " '+ 0.009*\"Fire\"')\n",
      "('Topic #4: 0.031*\"use\" + 0.022*\"great\" + 0.017*\"It\" + 0.016*\"easy\" + '\n",
      " '0.014*\"love\" + 0.012*\"product\" + 0.009*\"The\" + 0.009*\"music\" + 0.009*\"Great\" '\n",
      " '+ 0.009*\"set\"')\n",
      "('Topic #5: 0.025*\"The\" + 0.018*\"tablet\" + 0.017*\"screen\" + 0.015*\"great\" + '\n",
      " '0.014*\"use\" + 0.013*\"good\" + 0.011*\"one\" + 0.011*\"Kindle\" + 0.011*\"book\" + '\n",
      " '0.010*\"device\"')\n",
      "('Topic #6: 0.014*\"tablet\" + 0.013*\"love\" + 0.013*\"one\" + 0.013*\"well\" + '\n",
      " '0.013*\"This\" + 0.011*\"Great\" + 0.010*\"The\" + 0.009*\"apps\" + 0.009*\"Alexa\" + '\n",
      " '0.009*\"much\"')\n",
      "('Topic #7: 0.031*\"love\" + 0.016*\"tablet\" + 0.016*\"bought\" + 0.016*\"great\" + '\n",
      " '0.014*\"My\" + 0.013*\"one\" + 0.012*\"year\" + 0.011*\"old\" + 0.011*\"kid\" + '\n",
      " '0.010*\"book\"')\n",
      "('Topic #8: 0.023*\"love\" + 0.020*\"Echo\" + 0.014*\"Alexa\" + 0.012*\"The\" + '\n",
      " '0.012*\"Amazon\" + 0.012*\"It\" + 0.010*\"tablet\" + 0.010*\"We\" + 0.010*\"great\" + '\n",
      " '0.009*\"music\"')\n",
      "('Topic #9: 0.033*\"Great\" + 0.028*\"tablet\" + 0.014*\"product\" + 0.011*\"price\" + '\n",
      " '0.011*\"easy\" + 0.011*\"use\" + 0.011*\"great\" + 0.010*\"love\" + 0.010*\"It\" + '\n",
      " '0.009*\"item\"')\n"
     ]
    }
   ],
   "source": [
    "print(\"LDA Model:\")\n",
    " \n",
    "for idx in range(NUM_TOPICS):\n",
    "    # Print the first 10 most representative topics\n",
    "    pprint(\"Topic #{}: {}\".format(idx, lda_model.print_topic(idx, 10)), compact=True)"
   ]
  },
  {
   "cell_type": "code",
   "execution_count": 68,
   "metadata": {},
   "outputs": [
    {
     "name": "stdout",
     "output_type": "stream",
     "text": [
      "Coherence Score:  0.2902470359138623\n"
     ]
    }
   ],
   "source": [
    "# Compute Coherence Score\n",
    "coherence_model_lda = gensim.models.CoherenceModel(model=lda_model, texts=review_words, \n",
    "                                                   dictionary=dictionary, coherence='c_v')\n",
    "\n",
    "coherence_lda = coherence_model_lda.get_coherence()\n",
    "print('Coherence Score: ', coherence_lda)"
   ]
  },
  {
   "cell_type": "code",
   "execution_count": 69,
   "metadata": {},
   "outputs": [
    {
     "name": "stdout",
     "output_type": "stream",
     "text": [
      "[(2, 0.27526690528815523), (3, 0.2963659172243293), (4, 0.279206204646805),\n",
      " (5, 0.2857571100389206), (6, 0.3321338931332098), (7, 0.32609793332712084),\n",
      " (8, 0.3164261880139445), (9, 0.3201937756769796), (10, 0.2902470359138623)]\n",
      "Wall time: 1min 4s\n"
     ]
    }
   ],
   "source": [
    "%%time\n",
    "NUM_TOPICS = range(2,11)\n",
    "coherence_lda_scores = []\n",
    "best_coherence_score = 0\n",
    "best_lda_model = None\n",
    "\n",
    "for topic in NUM_TOPICS:\n",
    "    #Creating the LDA model\n",
    "    lda_model = gensim.models.LdaModel(corpus=corpus, num_topics=topic, id2word=dictionary, random_state=1)\n",
    "    \n",
    "    #Calculating the cohenrence score\n",
    "    coherence_model_lda = gensim.models.CoherenceModel(model=lda_model, texts=review_words, \n",
    "                                                       dictionary=dictionary, coherence='c_v')\n",
    "    \n",
    "    #Collecting the score in tuple\n",
    "    score = coherence_model_lda.get_coherence()\n",
    "    coherence_lda_scores.append((topic, score))\n",
    "    \n",
    "    if(score > best_coherence_score):\n",
    "        best_lda_model = lda_model\n",
    "        best_coherence_score = score\n",
    "\n",
    "pprint(coherence_lda_scores, compact=True)"
   ]
  },
  {
   "cell_type": "code",
   "execution_count": 70,
   "metadata": {},
   "outputs": [
    {
     "data": {
      "image/png": "[encoded data removed]",
      "text/plain": [
       "<Figure size 1080x432 with 1 Axes>"
      ]
     },
     "metadata": {},
     "output_type": "display_data"
    }
   ],
   "source": [
    "cv_df = pd.DataFrame(coherence_lda_scores, columns=['num_topics', 'cv_score'])\n",
    "cv_df.plot(x='num_topics',figsize=(15,6))\n",
    "plt.show()"
   ]
  },
  {
   "cell_type": "code",
   "execution_count": 71,
   "metadata": {},
   "outputs": [
    {
     "name": "stdout",
     "output_type": "stream",
     "text": [
      "Optimal Number of Topics: 6, CV Score: 0.3321338931332098\n"
     ]
    }
   ],
   "source": [
    "best_num_topic = int(cv_df.iloc[np.argmax(cv_df['cv_score'])][0]) \n",
    "best_cv_score =  cv_df.iloc[np.argmax(cv_df['cv_score'])][1]\n",
    "print(\"Optimal Number of Topics: {}, CV Score: {}\".format(best_num_topic, best_cv_score))"
   ]
  },
  {
   "cell_type": "code",
   "execution_count": 72,
   "metadata": {},
   "outputs": [],
   "source": [
    "topic = 6\n",
    "optimal_lda_model = gensim.models.LdaModel(corpus=corpus, num_topics=topic, id2word=dictionary, random_state=1)"
   ]
  },
  {
   "cell_type": "code",
   "execution_count": 73,
   "metadata": {},
   "outputs": [
    {
     "name": "stdout",
     "output_type": "stream",
     "text": [
      "[(0,\n",
      "  [('tablet', 0.022371216), ('It', 0.018821318), ('love', 0.017786391),\n",
      "   ('use', 0.014063277), ('one', 0.013042058), ('old', 0.011982092),\n",
      "   ('bought', 0.011503736), ('year', 0.010966389), ('Kindle', 0.010233204),\n",
      "   ('easy', 0.0096212635)]),\n",
      " (1,\n",
      "  [('great', 0.024985792), ('tablet', 0.018541802), ('Alexa', 0.01670871),\n",
      "   ('like', 0.014400253), ('This', 0.014187105), ('sound', 0.010602527),\n",
      "   ('really', 0.010198714), ('Echo', 0.010081679), ('kid', 0.009802879),\n",
      "   ('use', 0.008942513)]),\n",
      " (2,\n",
      "  [('love', 0.029577127), ('Amazon', 0.021900546), ('tablet', 0.019859765),\n",
      "   ('game', 0.011692085), ('device', 0.010956663), ('use', 0.00995144),\n",
      "   ('bought', 0.00929675), ('get', 0.008598497), ('son', 0.00849916),\n",
      "   ('kid', 0.008331034)]),\n",
      " (3,\n",
      "  [('love', 0.033134397), ('gift', 0.018169222), ('This', 0.015355146),\n",
      "   ('bought', 0.012568402), ('We', 0.011348584), ('tablet', 0.011251433),\n",
      "   ('She', 0.010082228), ('Christmas', 0.0099891145), ('use', 0.009962169),\n",
      "   ('one', 0.009595383)]),\n",
      " (4,\n",
      "  [('use', 0.019901281), ('It', 0.01485072), ('great', 0.014263685),\n",
      "   ('Echo', 0.013555327), ('product', 0.013030494), ('love', 0.012161047),\n",
      "   ('Alexa', 0.010395378), ('easy', 0.009425971), ('would', 0.008444516),\n",
      "   ('set', 0.008165161)]),\n",
      " (5,\n",
      "  [('The', 0.021958044), ('tablet', 0.018868487), ('great', 0.015291516),\n",
      "   ('screen', 0.012912138), ('one', 0.012337113), ('good', 0.011408341),\n",
      "   ('use', 0.010886681), ('price', 0.009925251), ('Great', 0.009765804),\n",
      "   ('book', 0.008338491)])]\n"
     ]
    }
   ],
   "source": [
    "topics = optimal_lda_model.show_topics(formatted=False)\n",
    "pprint(topics, compact=True)"
   ]
  },
  {
   "cell_type": "code",
   "execution_count": 74,
   "metadata": {},
   "outputs": [
    {
     "name": "stdout",
     "output_type": "stream",
     "text": [
      "{0: ['tablet', 'It', 'love', 'use', 'one', 'old', 'bought', 'year', 'Kindle',\n",
      "     'easy'],\n",
      " 1: ['great', 'tablet', 'Alexa', 'like', 'This', 'sound', 'really', 'Echo',\n",
      "     'kid', 'use'],\n",
      " 2: ['love', 'Amazon', 'tablet', 'game', 'device', 'use', 'bought', 'get',\n",
      "     'son', 'kid'],\n",
      " 3: ['love', 'gift', 'This', 'bought', 'We', 'tablet', 'She', 'Christmas',\n",
      "     'use', 'one'],\n",
      " 4: ['use', 'It', 'great', 'Echo', 'product', 'love', 'Alexa', 'easy', 'would',\n",
      "     'set'],\n",
      " 5: ['The', 'tablet', 'great', 'screen', 'one', 'good', 'use', 'price', 'Great',\n",
      "     'book']}\n"
     ]
    }
   ],
   "source": [
    "topic_words = {}\n",
    "for topic_no, words in topics:\n",
    "    top_words = []\n",
    "    for word, prob in words:\n",
    "        top_words.append(word)\n",
    "    topic_words[topic_no] = top_words\n",
    "\n",
    "pprint(topic_words, compact=True)"
   ]
  },
  {
   "cell_type": "code",
   "execution_count": 75,
   "metadata": {},
   "outputs": [
    {
     "data": {
      "text/html": [
       "<div>\n",
       "<style scoped>\n",
       "    .dataframe tbody tr th:only-of-type {\n",
       "        vertical-align: middle;\n",
       "    }\n",
       "\n",
       "    .dataframe tbody tr th {\n",
       "        vertical-align: top;\n",
       "    }\n",
       "\n",
       "    .dataframe thead th {\n",
       "        text-align: right;\n",
       "    }\n",
       "</style>\n",
       "<table border=\"1\" class=\"dataframe\">\n",
       "  <thead>\n",
       "    <tr style=\"text-align: right;\">\n",
       "      <th></th>\n",
       "      <th>0</th>\n",
       "      <th>1</th>\n",
       "      <th>2</th>\n",
       "      <th>3</th>\n",
       "      <th>4</th>\n",
       "      <th>5</th>\n",
       "    </tr>\n",
       "  </thead>\n",
       "  <tbody>\n",
       "    <tr>\n",
       "      <th>0</th>\n",
       "      <td>tablet</td>\n",
       "      <td>great</td>\n",
       "      <td>love</td>\n",
       "      <td>love</td>\n",
       "      <td>use</td>\n",
       "      <td>The</td>\n",
       "    </tr>\n",
       "    <tr>\n",
       "      <th>1</th>\n",
       "      <td>It</td>\n",
       "      <td>tablet</td>\n",
       "      <td>Amazon</td>\n",
       "      <td>gift</td>\n",
       "      <td>It</td>\n",
       "      <td>tablet</td>\n",
       "    </tr>\n",
       "    <tr>\n",
       "      <th>2</th>\n",
       "      <td>love</td>\n",
       "      <td>Alexa</td>\n",
       "      <td>tablet</td>\n",
       "      <td>This</td>\n",
       "      <td>great</td>\n",
       "      <td>great</td>\n",
       "    </tr>\n",
       "    <tr>\n",
       "      <th>3</th>\n",
       "      <td>use</td>\n",
       "      <td>like</td>\n",
       "      <td>game</td>\n",
       "      <td>bought</td>\n",
       "      <td>Echo</td>\n",
       "      <td>screen</td>\n",
       "    </tr>\n",
       "    <tr>\n",
       "      <th>4</th>\n",
       "      <td>one</td>\n",
       "      <td>This</td>\n",
       "      <td>device</td>\n",
       "      <td>We</td>\n",
       "      <td>product</td>\n",
       "      <td>one</td>\n",
       "    </tr>\n",
       "    <tr>\n",
       "      <th>5</th>\n",
       "      <td>old</td>\n",
       "      <td>sound</td>\n",
       "      <td>use</td>\n",
       "      <td>tablet</td>\n",
       "      <td>love</td>\n",
       "      <td>good</td>\n",
       "    </tr>\n",
       "    <tr>\n",
       "      <th>6</th>\n",
       "      <td>bought</td>\n",
       "      <td>really</td>\n",
       "      <td>bought</td>\n",
       "      <td>She</td>\n",
       "      <td>Alexa</td>\n",
       "      <td>use</td>\n",
       "    </tr>\n",
       "    <tr>\n",
       "      <th>7</th>\n",
       "      <td>year</td>\n",
       "      <td>Echo</td>\n",
       "      <td>get</td>\n",
       "      <td>Christmas</td>\n",
       "      <td>easy</td>\n",
       "      <td>price</td>\n",
       "    </tr>\n",
       "    <tr>\n",
       "      <th>8</th>\n",
       "      <td>Kindle</td>\n",
       "      <td>kid</td>\n",
       "      <td>son</td>\n",
       "      <td>use</td>\n",
       "      <td>would</td>\n",
       "      <td>Great</td>\n",
       "    </tr>\n",
       "    <tr>\n",
       "      <th>9</th>\n",
       "      <td>easy</td>\n",
       "      <td>use</td>\n",
       "      <td>kid</td>\n",
       "      <td>one</td>\n",
       "      <td>set</td>\n",
       "      <td>book</td>\n",
       "    </tr>\n",
       "  </tbody>\n",
       "</table>\n",
       "</div>"
      ],
      "text/plain": [
       "        0       1       2          3        4       5\n",
       "0  tablet   great    love       love      use     The\n",
       "1      It  tablet  Amazon       gift       It  tablet\n",
       "2    love   Alexa  tablet       This    great   great\n",
       "3     use    like    game     bought     Echo  screen\n",
       "4     one    This  device         We  product     one\n",
       "5     old   sound     use     tablet     love    good\n",
       "6  bought  really  bought        She    Alexa     use\n",
       "7    year    Echo     get  Christmas     easy   price\n",
       "8  Kindle     kid     son        use    would   Great\n",
       "9    easy     use     kid        one      set    book"
      ]
     },
     "execution_count": 75,
     "metadata": {},
     "output_type": "execute_result"
    }
   ],
   "source": [
    "topic_words_df = pd.DataFrame(topic_words)\n",
    "topic_words_df"
   ]
  },
  {
   "cell_type": "markdown",
   "metadata": {},
   "source": [
    "***Assigning business domain topic names by the analysing the top ten words found by the topic model with highest coherence score.***\n",
    "> Disclaimer:\n",
    "> \n",
    "> The Topics are assigned based on intuitive understanding of the words distribution for each topic. Actual buisiness interpretation may differ as per requirement."
   ]
  },
  {
   "cell_type": "code",
   "execution_count": 76,
   "metadata": {},
   "outputs": [
    {
     "data": {
      "text/html": [
       "<div>\n",
       "<style scoped>\n",
       "    .dataframe tbody tr th:only-of-type {\n",
       "        vertical-align: middle;\n",
       "    }\n",
       "\n",
       "    .dataframe tbody tr th {\n",
       "        vertical-align: top;\n",
       "    }\n",
       "\n",
       "    .dataframe thead th {\n",
       "        text-align: right;\n",
       "    }\n",
       "</style>\n",
       "<table border=\"1\" class=\"dataframe\">\n",
       "  <thead>\n",
       "    <tr style=\"text-align: right;\">\n",
       "      <th></th>\n",
       "      <th>Tablet</th>\n",
       "      <th>Sound Quality</th>\n",
       "      <th>Gaming Device</th>\n",
       "      <th>Gift Item</th>\n",
       "      <th>Easy to Use</th>\n",
       "      <th>Screen</th>\n",
       "    </tr>\n",
       "  </thead>\n",
       "  <tbody>\n",
       "    <tr>\n",
       "      <th>0</th>\n",
       "      <td>tablet</td>\n",
       "      <td>great</td>\n",
       "      <td>love</td>\n",
       "      <td>love</td>\n",
       "      <td>use</td>\n",
       "      <td>The</td>\n",
       "    </tr>\n",
       "    <tr>\n",
       "      <th>1</th>\n",
       "      <td>It</td>\n",
       "      <td>tablet</td>\n",
       "      <td>Amazon</td>\n",
       "      <td>gift</td>\n",
       "      <td>It</td>\n",
       "      <td>tablet</td>\n",
       "    </tr>\n",
       "    <tr>\n",
       "      <th>2</th>\n",
       "      <td>love</td>\n",
       "      <td>Alexa</td>\n",
       "      <td>tablet</td>\n",
       "      <td>This</td>\n",
       "      <td>great</td>\n",
       "      <td>great</td>\n",
       "    </tr>\n",
       "    <tr>\n",
       "      <th>3</th>\n",
       "      <td>use</td>\n",
       "      <td>like</td>\n",
       "      <td>game</td>\n",
       "      <td>bought</td>\n",
       "      <td>Echo</td>\n",
       "      <td>screen</td>\n",
       "    </tr>\n",
       "    <tr>\n",
       "      <th>4</th>\n",
       "      <td>one</td>\n",
       "      <td>This</td>\n",
       "      <td>device</td>\n",
       "      <td>We</td>\n",
       "      <td>product</td>\n",
       "      <td>one</td>\n",
       "    </tr>\n",
       "    <tr>\n",
       "      <th>5</th>\n",
       "      <td>old</td>\n",
       "      <td>sound</td>\n",
       "      <td>use</td>\n",
       "      <td>tablet</td>\n",
       "      <td>love</td>\n",
       "      <td>good</td>\n",
       "    </tr>\n",
       "    <tr>\n",
       "      <th>6</th>\n",
       "      <td>bought</td>\n",
       "      <td>really</td>\n",
       "      <td>bought</td>\n",
       "      <td>She</td>\n",
       "      <td>Alexa</td>\n",
       "      <td>use</td>\n",
       "    </tr>\n",
       "    <tr>\n",
       "      <th>7</th>\n",
       "      <td>year</td>\n",
       "      <td>Echo</td>\n",
       "      <td>get</td>\n",
       "      <td>Christmas</td>\n",
       "      <td>easy</td>\n",
       "      <td>price</td>\n",
       "    </tr>\n",
       "    <tr>\n",
       "      <th>8</th>\n",
       "      <td>Kindle</td>\n",
       "      <td>kid</td>\n",
       "      <td>son</td>\n",
       "      <td>use</td>\n",
       "      <td>would</td>\n",
       "      <td>Great</td>\n",
       "    </tr>\n",
       "    <tr>\n",
       "      <th>9</th>\n",
       "      <td>easy</td>\n",
       "      <td>use</td>\n",
       "      <td>kid</td>\n",
       "      <td>one</td>\n",
       "      <td>set</td>\n",
       "      <td>book</td>\n",
       "    </tr>\n",
       "  </tbody>\n",
       "</table>\n",
       "</div>"
      ],
      "text/plain": [
       "   Tablet Sound Quality Gaming Device  Gift Item Easy to Use  Screen\n",
       "0  tablet         great          love       love         use     The\n",
       "1      It        tablet        Amazon       gift          It  tablet\n",
       "2    love         Alexa        tablet       This       great   great\n",
       "3     use          like          game     bought        Echo  screen\n",
       "4     one          This        device         We     product     one\n",
       "5     old         sound           use     tablet        love    good\n",
       "6  bought        really        bought        She       Alexa     use\n",
       "7    year          Echo           get  Christmas        easy   price\n",
       "8  Kindle           kid           son        use       would   Great\n",
       "9    easy           use           kid        one         set    book"
      ]
     },
     "execution_count": 76,
     "metadata": {},
     "output_type": "execute_result"
    }
   ],
   "source": [
    "topic_names = {\n",
    "    0: \"Tablet\",\n",
    "    1: \"Sound Quality\",\n",
    "    2: \"Gaming Device\",\n",
    "    3: \"Gift Item\",\n",
    "    4: \"Easy to Use\",\n",
    "    5: \"Screen\"\n",
    "}\n",
    "\n",
    "topic_words_df = topic_words_df.rename(columns = topic_names)\n",
    "topic_words_df"
   ]
  },
  {
   "cell_type": "code",
   "execution_count": 78,
   "metadata": {},
   "outputs": [
    {
     "data": {
      "text/plain": [
       "5000"
      ]
     },
     "execution_count": 78,
     "metadata": {},
     "output_type": "execute_result"
    }
   ],
   "source": [
    "doc_topics = []\n",
    "for bow in review_words:\n",
    "    doc_topics.append(best_lda_model.get_document_topics(dictionary.doc2bow(bow)))\n",
    "\n",
    "len(doc_topics)"
   ]
  },
  {
   "cell_type": "markdown",
   "metadata": {},
   "source": [
    "#### Extracting topic distribution for each reviews from the trained topic model"
   ]
  },
  {
   "cell_type": "code",
   "execution_count": 79,
   "metadata": {},
   "outputs": [
    {
     "data": {
      "text/plain": [
       "5000"
      ]
     },
     "execution_count": 79,
     "metadata": {},
     "output_type": "execute_result"
    }
   ],
   "source": [
    "dominant_topic = [np.argmax([prob for topic, prob in doc_topic]) for doc_topic in doc_topics]\n",
    "len(dominant_topic)"
   ]
  },
  {
   "cell_type": "markdown",
   "metadata": {},
   "source": [
    "#### Assigning the dominant topic for each review in the corpus data"
   ]
  },
  {
   "cell_type": "code",
   "execution_count": 80,
   "metadata": {},
   "outputs": [
    {
     "data": {
      "text/html": [
       "<div>\n",
       "<style scoped>\n",
       "    .dataframe tbody tr th:only-of-type {\n",
       "        vertical-align: middle;\n",
       "    }\n",
       "\n",
       "    .dataframe tbody tr th {\n",
       "        vertical-align: top;\n",
       "    }\n",
       "\n",
       "    .dataframe thead th {\n",
       "        text-align: right;\n",
       "    }\n",
       "</style>\n",
       "<table border=\"1\" class=\"dataframe\">\n",
       "  <thead>\n",
       "    <tr style=\"text-align: right;\">\n",
       "      <th></th>\n",
       "      <th>name</th>\n",
       "      <th>brand</th>\n",
       "      <th>categories</th>\n",
       "      <th>primaryCategories</th>\n",
       "      <th>reviews.date</th>\n",
       "      <th>reviews.text</th>\n",
       "      <th>reviews.title</th>\n",
       "      <th>sentiment</th>\n",
       "      <th>reviews_cleaned</th>\n",
       "      <th>dominant_topic</th>\n",
       "    </tr>\n",
       "  </thead>\n",
       "  <tbody>\n",
       "    <tr>\n",
       "      <th>0</th>\n",
       "      <td>All-New Fire HD 8 Tablet, 8\" HD Display, Wi-Fi...</td>\n",
       "      <td>Amazon</td>\n",
       "      <td>Electronics,iPad &amp; Tablets,All Tablets,Fire Ta...</td>\n",
       "      <td>Electronics</td>\n",
       "      <td>2016-12-26T00:00:00.000Z</td>\n",
       "      <td>Purchased on Black FridayPros - Great Price (e...</td>\n",
       "      <td>Powerful tablet</td>\n",
       "      <td>Positive</td>\n",
       "      <td>Purchased Black FridayPros Great Price even sa...</td>\n",
       "      <td>1</td>\n",
       "    </tr>\n",
       "    <tr>\n",
       "      <th>1</th>\n",
       "      <td>Amazon - Echo Plus w/ Built-In Hub - Silver</td>\n",
       "      <td>Amazon</td>\n",
       "      <td>Amazon Echo,Smart Home,Networking,Home &amp; Tools...</td>\n",
       "      <td>Electronics,Hardware</td>\n",
       "      <td>2018-01-17T00:00:00.000Z</td>\n",
       "      <td>I purchased two Amazon in Echo Plus and two do...</td>\n",
       "      <td>Amazon Echo Plus AWESOME</td>\n",
       "      <td>Positive</td>\n",
       "      <td>purchased two Amazon Echo Plus two dot plus fo...</td>\n",
       "      <td>0</td>\n",
       "    </tr>\n",
       "    <tr>\n",
       "      <th>2</th>\n",
       "      <td>Amazon Echo Show Alexa-enabled Bluetooth Speak...</td>\n",
       "      <td>Amazon</td>\n",
       "      <td>Amazon Echo,Virtual Assistant Speakers,Electro...</td>\n",
       "      <td>Electronics,Hardware</td>\n",
       "      <td>2017-12-20T00:00:00.000Z</td>\n",
       "      <td>Just an average Alexa option. Does show a few ...</td>\n",
       "      <td>Average</td>\n",
       "      <td>Neutral</td>\n",
       "      <td>Just average Alexa option Does show thing scre...</td>\n",
       "      <td>5</td>\n",
       "    </tr>\n",
       "    <tr>\n",
       "      <th>3</th>\n",
       "      <td>Fire HD 10 Tablet, 10.1 HD Display, Wi-Fi, 16 ...</td>\n",
       "      <td>Amazon</td>\n",
       "      <td>eBook Readers,Fire Tablets,Electronics Feature...</td>\n",
       "      <td>Office Supplies,Electronics</td>\n",
       "      <td>2017-08-04T00:00:00.000Z</td>\n",
       "      <td>very good product. Exactly what I wanted, and ...</td>\n",
       "      <td>Greattttttt</td>\n",
       "      <td>Positive</td>\n",
       "      <td>good product Exactly wanted good price</td>\n",
       "      <td>5</td>\n",
       "    </tr>\n",
       "    <tr>\n",
       "      <th>4</th>\n",
       "      <td>Brand New Amazon Kindle Fire 16gb 7\" Ips Displ...</td>\n",
       "      <td>Amazon</td>\n",
       "      <td>Computers/Tablets &amp; Networking,Tablets &amp; eBook...</td>\n",
       "      <td>Electronics</td>\n",
       "      <td>2017-01-23T00:00:00.000Z</td>\n",
       "      <td>This is the 3rd one I've purchased. I've bough...</td>\n",
       "      <td>Very durable!</td>\n",
       "      <td>Positive</td>\n",
       "      <td>This rd one purchased bought one niece No case...</td>\n",
       "      <td>0</td>\n",
       "    </tr>\n",
       "    <tr>\n",
       "      <th>5</th>\n",
       "      <td>Kindle E-reader - White, 6 Glare-Free Touchscr...</td>\n",
       "      <td>Amazon</td>\n",
       "      <td>Office,eBook Readers,Electronics Features,Walm...</td>\n",
       "      <td>Office Supplies,Electronics</td>\n",
       "      <td>2016-12-23T00:00:00.000Z</td>\n",
       "      <td>This is a great product. Light weight. I wish ...</td>\n",
       "      <td>You will love it</td>\n",
       "      <td>Positive</td>\n",
       "      <td>This great product Light weight wish wifi down...</td>\n",
       "      <td>0</td>\n",
       "    </tr>\n",
       "    <tr>\n",
       "      <th>6</th>\n",
       "      <td>Brand New Amazon Kindle Fire 16gb 7\" Ips Displ...</td>\n",
       "      <td>Amazon</td>\n",
       "      <td>Computers/Tablets &amp; Networking,Tablets &amp; eBook...</td>\n",
       "      <td>Electronics</td>\n",
       "      <td>2017-05-31T00:00:00.000Z</td>\n",
       "      <td>My 7-year old daughter saved up to by this. He...</td>\n",
       "      <td>OK For Entry Level Tablet</td>\n",
       "      <td>Neutral</td>\n",
       "      <td>My year old daughter saved Her brother bought ...</td>\n",
       "      <td>1</td>\n",
       "    </tr>\n",
       "    <tr>\n",
       "      <th>7</th>\n",
       "      <td>Brand New Amazon Kindle Fire 16gb 7\" Ips Displ...</td>\n",
       "      <td>Amazon</td>\n",
       "      <td>Computers/Tablets &amp; Networking,Tablets &amp; eBook...</td>\n",
       "      <td>Electronics</td>\n",
       "      <td>2016-06-05T00:00:00.000Z</td>\n",
       "      <td>Purchased this for my son. Has room to upgrade...</td>\n",
       "      <td>Great for kids or smaller needs</td>\n",
       "      <td>Positive</td>\n",
       "      <td>Purchased son Has room upgrade memory allow bo...</td>\n",
       "      <td>0</td>\n",
       "    </tr>\n",
       "    <tr>\n",
       "      <th>8</th>\n",
       "      <td>All-New Fire HD 8 Tablet, 8\" HD Display, Wi-Fi...</td>\n",
       "      <td>Amazon</td>\n",
       "      <td>Electronics,iPad &amp; Tablets,All Tablets,Fire Ta...</td>\n",
       "      <td>Electronics</td>\n",
       "      <td>2016-11-23T00:00:00.000Z</td>\n",
       "      <td>Bought this for my mom and it was just what sh...</td>\n",
       "      <td>Great tablet</td>\n",
       "      <td>Positive</td>\n",
       "      <td>Bought mom needed great price Been wanting get...</td>\n",
       "      <td>0</td>\n",
       "    </tr>\n",
       "    <tr>\n",
       "      <th>9</th>\n",
       "      <td>All-New Fire HD 8 Tablet, 8\" HD Display, Wi-Fi...</td>\n",
       "      <td>Amazon</td>\n",
       "      <td>Electronics,iPad &amp; Tablets,All Tablets,Fire Ta...</td>\n",
       "      <td>Electronics</td>\n",
       "      <td>2017-05-18T00:00:00.000Z</td>\n",
       "      <td>was cheap, can not run chrome stuff, returned ...</td>\n",
       "      <td>was cheap, can not run chrome stuff, returned</td>\n",
       "      <td>Negative</td>\n",
       "      <td>cheap run chrome stuff returned store</td>\n",
       "      <td>2</td>\n",
       "    </tr>\n",
       "  </tbody>\n",
       "</table>\n",
       "</div>"
      ],
      "text/plain": [
       "                                                name   brand  \\\n",
       "0  All-New Fire HD 8 Tablet, 8\" HD Display, Wi-Fi...  Amazon   \n",
       "1        Amazon - Echo Plus w/ Built-In Hub - Silver  Amazon   \n",
       "2  Amazon Echo Show Alexa-enabled Bluetooth Speak...  Amazon   \n",
       "3  Fire HD 10 Tablet, 10.1 HD Display, Wi-Fi, 16 ...  Amazon   \n",
       "4  Brand New Amazon Kindle Fire 16gb 7\" Ips Displ...  Amazon   \n",
       "5  Kindle E-reader - White, 6 Glare-Free Touchscr...  Amazon   \n",
       "6  Brand New Amazon Kindle Fire 16gb 7\" Ips Displ...  Amazon   \n",
       "7  Brand New Amazon Kindle Fire 16gb 7\" Ips Displ...  Amazon   \n",
       "8  All-New Fire HD 8 Tablet, 8\" HD Display, Wi-Fi...  Amazon   \n",
       "9  All-New Fire HD 8 Tablet, 8\" HD Display, Wi-Fi...  Amazon   \n",
       "\n",
       "                                          categories  \\\n",
       "0  Electronics,iPad & Tablets,All Tablets,Fire Ta...   \n",
       "1  Amazon Echo,Smart Home,Networking,Home & Tools...   \n",
       "2  Amazon Echo,Virtual Assistant Speakers,Electro...   \n",
       "3  eBook Readers,Fire Tablets,Electronics Feature...   \n",
       "4  Computers/Tablets & Networking,Tablets & eBook...   \n",
       "5  Office,eBook Readers,Electronics Features,Walm...   \n",
       "6  Computers/Tablets & Networking,Tablets & eBook...   \n",
       "7  Computers/Tablets & Networking,Tablets & eBook...   \n",
       "8  Electronics,iPad & Tablets,All Tablets,Fire Ta...   \n",
       "9  Electronics,iPad & Tablets,All Tablets,Fire Ta...   \n",
       "\n",
       "             primaryCategories              reviews.date  \\\n",
       "0                  Electronics  2016-12-26T00:00:00.000Z   \n",
       "1         Electronics,Hardware  2018-01-17T00:00:00.000Z   \n",
       "2         Electronics,Hardware  2017-12-20T00:00:00.000Z   \n",
       "3  Office Supplies,Electronics  2017-08-04T00:00:00.000Z   \n",
       "4                  Electronics  2017-01-23T00:00:00.000Z   \n",
       "5  Office Supplies,Electronics  2016-12-23T00:00:00.000Z   \n",
       "6                  Electronics  2017-05-31T00:00:00.000Z   \n",
       "7                  Electronics  2016-06-05T00:00:00.000Z   \n",
       "8                  Electronics  2016-11-23T00:00:00.000Z   \n",
       "9                  Electronics  2017-05-18T00:00:00.000Z   \n",
       "\n",
       "                                        reviews.text  \\\n",
       "0  Purchased on Black FridayPros - Great Price (e...   \n",
       "1  I purchased two Amazon in Echo Plus and two do...   \n",
       "2  Just an average Alexa option. Does show a few ...   \n",
       "3  very good product. Exactly what I wanted, and ...   \n",
       "4  This is the 3rd one I've purchased. I've bough...   \n",
       "5  This is a great product. Light weight. I wish ...   \n",
       "6  My 7-year old daughter saved up to by this. He...   \n",
       "7  Purchased this for my son. Has room to upgrade...   \n",
       "8  Bought this for my mom and it was just what sh...   \n",
       "9  was cheap, can not run chrome stuff, returned ...   \n",
       "\n",
       "                                   reviews.title sentiment  \\\n",
       "0                                Powerful tablet  Positive   \n",
       "1                       Amazon Echo Plus AWESOME  Positive   \n",
       "2                                        Average   Neutral   \n",
       "3                                    Greattttttt  Positive   \n",
       "4                                  Very durable!  Positive   \n",
       "5                               You will love it  Positive   \n",
       "6                      OK For Entry Level Tablet   Neutral   \n",
       "7                Great for kids or smaller needs  Positive   \n",
       "8                                   Great tablet  Positive   \n",
       "9  was cheap, can not run chrome stuff, returned  Negative   \n",
       "\n",
       "                                     reviews_cleaned  dominant_topic  \n",
       "0  Purchased Black FridayPros Great Price even sa...               1  \n",
       "1  purchased two Amazon Echo Plus two dot plus fo...               0  \n",
       "2  Just average Alexa option Does show thing scre...               5  \n",
       "3             good product Exactly wanted good price               5  \n",
       "4  This rd one purchased bought one niece No case...               0  \n",
       "5  This great product Light weight wish wifi down...               0  \n",
       "6  My year old daughter saved Her brother bought ...               1  \n",
       "7  Purchased son Has room upgrade memory allow bo...               0  \n",
       "8  Bought mom needed great price Been wanting get...               0  \n",
       "9              cheap run chrome stuff returned store               2  "
      ]
     },
     "execution_count": 80,
     "metadata": {},
     "output_type": "execute_result"
    }
   ],
   "source": [
    "data = merge_df.copy()\n",
    "data['dominant_topic'] = dominant_topic\n",
    "data.head(10)"
   ]
  },
  {
   "cell_type": "markdown",
   "metadata": {},
   "source": [
    "#### Mapping Topic no with Topic name"
   ]
  },
  {
   "cell_type": "code",
   "execution_count": 81,
   "metadata": {},
   "outputs": [
    {
     "data": {
      "text/html": [
       "<div>\n",
       "<style scoped>\n",
       "    .dataframe tbody tr th:only-of-type {\n",
       "        vertical-align: middle;\n",
       "    }\n",
       "\n",
       "    .dataframe tbody tr th {\n",
       "        vertical-align: top;\n",
       "    }\n",
       "\n",
       "    .dataframe thead th {\n",
       "        text-align: right;\n",
       "    }\n",
       "</style>\n",
       "<table border=\"1\" class=\"dataframe\">\n",
       "  <thead>\n",
       "    <tr style=\"text-align: right;\">\n",
       "      <th></th>\n",
       "      <th>name</th>\n",
       "      <th>brand</th>\n",
       "      <th>categories</th>\n",
       "      <th>primaryCategories</th>\n",
       "      <th>reviews.date</th>\n",
       "      <th>reviews.text</th>\n",
       "      <th>reviews.title</th>\n",
       "      <th>sentiment</th>\n",
       "      <th>reviews_cleaned</th>\n",
       "      <th>dominant_topic</th>\n",
       "    </tr>\n",
       "  </thead>\n",
       "  <tbody>\n",
       "    <tr>\n",
       "      <th>0</th>\n",
       "      <td>All-New Fire HD 8 Tablet, 8\" HD Display, Wi-Fi...</td>\n",
       "      <td>Amazon</td>\n",
       "      <td>Electronics,iPad &amp; Tablets,All Tablets,Fire Ta...</td>\n",
       "      <td>Electronics</td>\n",
       "      <td>2016-12-26T00:00:00.000Z</td>\n",
       "      <td>Purchased on Black FridayPros - Great Price (e...</td>\n",
       "      <td>Powerful tablet</td>\n",
       "      <td>Positive</td>\n",
       "      <td>Purchased Black FridayPros Great Price even sa...</td>\n",
       "      <td>Sound Quality</td>\n",
       "    </tr>\n",
       "    <tr>\n",
       "      <th>1</th>\n",
       "      <td>Amazon - Echo Plus w/ Built-In Hub - Silver</td>\n",
       "      <td>Amazon</td>\n",
       "      <td>Amazon Echo,Smart Home,Networking,Home &amp; Tools...</td>\n",
       "      <td>Electronics,Hardware</td>\n",
       "      <td>2018-01-17T00:00:00.000Z</td>\n",
       "      <td>I purchased two Amazon in Echo Plus and two do...</td>\n",
       "      <td>Amazon Echo Plus AWESOME</td>\n",
       "      <td>Positive</td>\n",
       "      <td>purchased two Amazon Echo Plus two dot plus fo...</td>\n",
       "      <td>Tablet</td>\n",
       "    </tr>\n",
       "    <tr>\n",
       "      <th>2</th>\n",
       "      <td>Amazon Echo Show Alexa-enabled Bluetooth Speak...</td>\n",
       "      <td>Amazon</td>\n",
       "      <td>Amazon Echo,Virtual Assistant Speakers,Electro...</td>\n",
       "      <td>Electronics,Hardware</td>\n",
       "      <td>2017-12-20T00:00:00.000Z</td>\n",
       "      <td>Just an average Alexa option. Does show a few ...</td>\n",
       "      <td>Average</td>\n",
       "      <td>Neutral</td>\n",
       "      <td>Just average Alexa option Does show thing scre...</td>\n",
       "      <td>Screen</td>\n",
       "    </tr>\n",
       "    <tr>\n",
       "      <th>3</th>\n",
       "      <td>Fire HD 10 Tablet, 10.1 HD Display, Wi-Fi, 16 ...</td>\n",
       "      <td>Amazon</td>\n",
       "      <td>eBook Readers,Fire Tablets,Electronics Feature...</td>\n",
       "      <td>Office Supplies,Electronics</td>\n",
       "      <td>2017-08-04T00:00:00.000Z</td>\n",
       "      <td>very good product. Exactly what I wanted, and ...</td>\n",
       "      <td>Greattttttt</td>\n",
       "      <td>Positive</td>\n",
       "      <td>good product Exactly wanted good price</td>\n",
       "      <td>Screen</td>\n",
       "    </tr>\n",
       "    <tr>\n",
       "      <th>4</th>\n",
       "      <td>Brand New Amazon Kindle Fire 16gb 7\" Ips Displ...</td>\n",
       "      <td>Amazon</td>\n",
       "      <td>Computers/Tablets &amp; Networking,Tablets &amp; eBook...</td>\n",
       "      <td>Electronics</td>\n",
       "      <td>2017-01-23T00:00:00.000Z</td>\n",
       "      <td>This is the 3rd one I've purchased. I've bough...</td>\n",
       "      <td>Very durable!</td>\n",
       "      <td>Positive</td>\n",
       "      <td>This rd one purchased bought one niece No case...</td>\n",
       "      <td>Tablet</td>\n",
       "    </tr>\n",
       "    <tr>\n",
       "      <th>5</th>\n",
       "      <td>Kindle E-reader - White, 6 Glare-Free Touchscr...</td>\n",
       "      <td>Amazon</td>\n",
       "      <td>Office,eBook Readers,Electronics Features,Walm...</td>\n",
       "      <td>Office Supplies,Electronics</td>\n",
       "      <td>2016-12-23T00:00:00.000Z</td>\n",
       "      <td>This is a great product. Light weight. I wish ...</td>\n",
       "      <td>You will love it</td>\n",
       "      <td>Positive</td>\n",
       "      <td>This great product Light weight wish wifi down...</td>\n",
       "      <td>Tablet</td>\n",
       "    </tr>\n",
       "    <tr>\n",
       "      <th>6</th>\n",
       "      <td>Brand New Amazon Kindle Fire 16gb 7\" Ips Displ...</td>\n",
       "      <td>Amazon</td>\n",
       "      <td>Computers/Tablets &amp; Networking,Tablets &amp; eBook...</td>\n",
       "      <td>Electronics</td>\n",
       "      <td>2017-05-31T00:00:00.000Z</td>\n",
       "      <td>My 7-year old daughter saved up to by this. He...</td>\n",
       "      <td>OK For Entry Level Tablet</td>\n",
       "      <td>Neutral</td>\n",
       "      <td>My year old daughter saved Her brother bought ...</td>\n",
       "      <td>Sound Quality</td>\n",
       "    </tr>\n",
       "    <tr>\n",
       "      <th>7</th>\n",
       "      <td>Brand New Amazon Kindle Fire 16gb 7\" Ips Displ...</td>\n",
       "      <td>Amazon</td>\n",
       "      <td>Computers/Tablets &amp; Networking,Tablets &amp; eBook...</td>\n",
       "      <td>Electronics</td>\n",
       "      <td>2016-06-05T00:00:00.000Z</td>\n",
       "      <td>Purchased this for my son. Has room to upgrade...</td>\n",
       "      <td>Great for kids or smaller needs</td>\n",
       "      <td>Positive</td>\n",
       "      <td>Purchased son Has room upgrade memory allow bo...</td>\n",
       "      <td>Tablet</td>\n",
       "    </tr>\n",
       "    <tr>\n",
       "      <th>8</th>\n",
       "      <td>All-New Fire HD 8 Tablet, 8\" HD Display, Wi-Fi...</td>\n",
       "      <td>Amazon</td>\n",
       "      <td>Electronics,iPad &amp; Tablets,All Tablets,Fire Ta...</td>\n",
       "      <td>Electronics</td>\n",
       "      <td>2016-11-23T00:00:00.000Z</td>\n",
       "      <td>Bought this for my mom and it was just what sh...</td>\n",
       "      <td>Great tablet</td>\n",
       "      <td>Positive</td>\n",
       "      <td>Bought mom needed great price Been wanting get...</td>\n",
       "      <td>Tablet</td>\n",
       "    </tr>\n",
       "    <tr>\n",
       "      <th>9</th>\n",
       "      <td>All-New Fire HD 8 Tablet, 8\" HD Display, Wi-Fi...</td>\n",
       "      <td>Amazon</td>\n",
       "      <td>Electronics,iPad &amp; Tablets,All Tablets,Fire Ta...</td>\n",
       "      <td>Electronics</td>\n",
       "      <td>2017-05-18T00:00:00.000Z</td>\n",
       "      <td>was cheap, can not run chrome stuff, returned ...</td>\n",
       "      <td>was cheap, can not run chrome stuff, returned</td>\n",
       "      <td>Negative</td>\n",
       "      <td>cheap run chrome stuff returned store</td>\n",
       "      <td>Gaming Device</td>\n",
       "    </tr>\n",
       "  </tbody>\n",
       "</table>\n",
       "</div>"
      ],
      "text/plain": [
       "                                                name   brand  \\\n",
       "0  All-New Fire HD 8 Tablet, 8\" HD Display, Wi-Fi...  Amazon   \n",
       "1        Amazon - Echo Plus w/ Built-In Hub - Silver  Amazon   \n",
       "2  Amazon Echo Show Alexa-enabled Bluetooth Speak...  Amazon   \n",
       "3  Fire HD 10 Tablet, 10.1 HD Display, Wi-Fi, 16 ...  Amazon   \n",
       "4  Brand New Amazon Kindle Fire 16gb 7\" Ips Displ...  Amazon   \n",
       "5  Kindle E-reader - White, 6 Glare-Free Touchscr...  Amazon   \n",
       "6  Brand New Amazon Kindle Fire 16gb 7\" Ips Displ...  Amazon   \n",
       "7  Brand New Amazon Kindle Fire 16gb 7\" Ips Displ...  Amazon   \n",
       "8  All-New Fire HD 8 Tablet, 8\" HD Display, Wi-Fi...  Amazon   \n",
       "9  All-New Fire HD 8 Tablet, 8\" HD Display, Wi-Fi...  Amazon   \n",
       "\n",
       "                                          categories  \\\n",
       "0  Electronics,iPad & Tablets,All Tablets,Fire Ta...   \n",
       "1  Amazon Echo,Smart Home,Networking,Home & Tools...   \n",
       "2  Amazon Echo,Virtual Assistant Speakers,Electro...   \n",
       "3  eBook Readers,Fire Tablets,Electronics Feature...   \n",
       "4  Computers/Tablets & Networking,Tablets & eBook...   \n",
       "5  Office,eBook Readers,Electronics Features,Walm...   \n",
       "6  Computers/Tablets & Networking,Tablets & eBook...   \n",
       "7  Computers/Tablets & Networking,Tablets & eBook...   \n",
       "8  Electronics,iPad & Tablets,All Tablets,Fire Ta...   \n",
       "9  Electronics,iPad & Tablets,All Tablets,Fire Ta...   \n",
       "\n",
       "             primaryCategories              reviews.date  \\\n",
       "0                  Electronics  2016-12-26T00:00:00.000Z   \n",
       "1         Electronics,Hardware  2018-01-17T00:00:00.000Z   \n",
       "2         Electronics,Hardware  2017-12-20T00:00:00.000Z   \n",
       "3  Office Supplies,Electronics  2017-08-04T00:00:00.000Z   \n",
       "4                  Electronics  2017-01-23T00:00:00.000Z   \n",
       "5  Office Supplies,Electronics  2016-12-23T00:00:00.000Z   \n",
       "6                  Electronics  2017-05-31T00:00:00.000Z   \n",
       "7                  Electronics  2016-06-05T00:00:00.000Z   \n",
       "8                  Electronics  2016-11-23T00:00:00.000Z   \n",
       "9                  Electronics  2017-05-18T00:00:00.000Z   \n",
       "\n",
       "                                        reviews.text  \\\n",
       "0  Purchased on Black FridayPros - Great Price (e...   \n",
       "1  I purchased two Amazon in Echo Plus and two do...   \n",
       "2  Just an average Alexa option. Does show a few ...   \n",
       "3  very good product. Exactly what I wanted, and ...   \n",
       "4  This is the 3rd one I've purchased. I've bough...   \n",
       "5  This is a great product. Light weight. I wish ...   \n",
       "6  My 7-year old daughter saved up to by this. He...   \n",
       "7  Purchased this for my son. Has room to upgrade...   \n",
       "8  Bought this for my mom and it was just what sh...   \n",
       "9  was cheap, can not run chrome stuff, returned ...   \n",
       "\n",
       "                                   reviews.title sentiment  \\\n",
       "0                                Powerful tablet  Positive   \n",
       "1                       Amazon Echo Plus AWESOME  Positive   \n",
       "2                                        Average   Neutral   \n",
       "3                                    Greattttttt  Positive   \n",
       "4                                  Very durable!  Positive   \n",
       "5                               You will love it  Positive   \n",
       "6                      OK For Entry Level Tablet   Neutral   \n",
       "7                Great for kids or smaller needs  Positive   \n",
       "8                                   Great tablet  Positive   \n",
       "9  was cheap, can not run chrome stuff, returned  Negative   \n",
       "\n",
       "                                     reviews_cleaned dominant_topic  \n",
       "0  Purchased Black FridayPros Great Price even sa...  Sound Quality  \n",
       "1  purchased two Amazon Echo Plus two dot plus fo...         Tablet  \n",
       "2  Just average Alexa option Does show thing scre...         Screen  \n",
       "3             good product Exactly wanted good price         Screen  \n",
       "4  This rd one purchased bought one niece No case...         Tablet  \n",
       "5  This great product Light weight wish wifi down...         Tablet  \n",
       "6  My year old daughter saved Her brother bought ...  Sound Quality  \n",
       "7  Purchased son Has room upgrade memory allow bo...         Tablet  \n",
       "8  Bought mom needed great price Been wanting get...         Tablet  \n",
       "9              cheap run chrome stuff returned store  Gaming Device  "
      ]
     },
     "execution_count": 81,
     "metadata": {},
     "output_type": "execute_result"
    }
   ],
   "source": [
    "data['dominant_topic'] = data['dominant_topic'].map(topic_names)\n",
    "data.head(10)"
   ]
  },
  {
   "cell_type": "markdown",
   "metadata": {},
   "source": [
    "#### Understanding the topic distribution for the entire corpus data"
   ]
  },
  {
   "cell_type": "code",
   "execution_count": 82,
   "metadata": {},
   "outputs": [
    {
     "data": {
      "text/plain": [
       "Tablet           0.3222\n",
       "Sound Quality    0.1912\n",
       "Screen           0.1470\n",
       "Gaming Device    0.1182\n",
       "Easy to Use      0.1118\n",
       "Gift Item        0.1096\n",
       "Name: dominant_topic, dtype: float64"
      ]
     },
     "execution_count": 82,
     "metadata": {},
     "output_type": "execute_result"
    }
   ],
   "source": [
    "data['dominant_topic'].value_counts(normalize=True)"
   ]
  },
  {
   "cell_type": "markdown",
   "metadata": {},
   "source": [
    "#### Visualising the topic distribution for the entire corpus data"
   ]
  },
  {
   "cell_type": "code",
   "execution_count": 83,
   "metadata": {},
   "outputs": [
    {
     "data": {
      "image/png": "[encoded data removed]",
      "text/plain": [
       "<Figure size 1080x576 with 1 Axes>"
      ]
     },
     "metadata": {},
     "output_type": "display_data"
    }
   ],
   "source": [
    "data['dominant_topic'].value_counts().sort_values().plot(kind='barh', figsize=(15,8), color='teal')\n",
    "plt.show()"
   ]
  },
  {
   "cell_type": "markdown",
   "metadata": {},
   "source": [
    "#### Understanding the sentiments over each topic for the corpus data"
   ]
  },
  {
   "cell_type": "code",
   "execution_count": 84,
   "metadata": {},
   "outputs": [],
   "source": [
    "data_topic_sentiment_df = pd.DataFrame(data.groupby(by=['dominant_topic', 'sentiment']).size())"
   ]
  },
  {
   "cell_type": "code",
   "execution_count": 85,
   "metadata": {},
   "outputs": [
    {
     "data": {
      "text/html": [
       "<div>\n",
       "<style scoped>\n",
       "    .dataframe tbody tr th:only-of-type {\n",
       "        vertical-align: middle;\n",
       "    }\n",
       "\n",
       "    .dataframe tbody tr th {\n",
       "        vertical-align: top;\n",
       "    }\n",
       "\n",
       "    .dataframe thead th {\n",
       "        text-align: right;\n",
       "    }\n",
       "</style>\n",
       "<table border=\"1\" class=\"dataframe\">\n",
       "  <thead>\n",
       "    <tr style=\"text-align: right;\">\n",
       "      <th></th>\n",
       "      <th>dominant_topic</th>\n",
       "      <th>sentiment</th>\n",
       "      <th>count</th>\n",
       "    </tr>\n",
       "  </thead>\n",
       "  <tbody>\n",
       "    <tr>\n",
       "      <th>0</th>\n",
       "      <td>Easy to Use</td>\n",
       "      <td>Negative</td>\n",
       "      <td>8</td>\n",
       "    </tr>\n",
       "    <tr>\n",
       "      <th>1</th>\n",
       "      <td>Easy to Use</td>\n",
       "      <td>Neutral</td>\n",
       "      <td>17</td>\n",
       "    </tr>\n",
       "    <tr>\n",
       "      <th>2</th>\n",
       "      <td>Easy to Use</td>\n",
       "      <td>Positive</td>\n",
       "      <td>534</td>\n",
       "    </tr>\n",
       "    <tr>\n",
       "      <th>3</th>\n",
       "      <td>Gaming Device</td>\n",
       "      <td>Negative</td>\n",
       "      <td>15</td>\n",
       "    </tr>\n",
       "    <tr>\n",
       "      <th>4</th>\n",
       "      <td>Gaming Device</td>\n",
       "      <td>Neutral</td>\n",
       "      <td>15</td>\n",
       "    </tr>\n",
       "    <tr>\n",
       "      <th>5</th>\n",
       "      <td>Gaming Device</td>\n",
       "      <td>Positive</td>\n",
       "      <td>561</td>\n",
       "    </tr>\n",
       "    <tr>\n",
       "      <th>6</th>\n",
       "      <td>Gift Item</td>\n",
       "      <td>Negative</td>\n",
       "      <td>3</td>\n",
       "    </tr>\n",
       "    <tr>\n",
       "      <th>7</th>\n",
       "      <td>Gift Item</td>\n",
       "      <td>Neutral</td>\n",
       "      <td>11</td>\n",
       "    </tr>\n",
       "    <tr>\n",
       "      <th>8</th>\n",
       "      <td>Gift Item</td>\n",
       "      <td>Positive</td>\n",
       "      <td>534</td>\n",
       "    </tr>\n",
       "    <tr>\n",
       "      <th>9</th>\n",
       "      <td>Screen</td>\n",
       "      <td>Negative</td>\n",
       "      <td>15</td>\n",
       "    </tr>\n",
       "    <tr>\n",
       "      <th>10</th>\n",
       "      <td>Screen</td>\n",
       "      <td>Neutral</td>\n",
       "      <td>38</td>\n",
       "    </tr>\n",
       "    <tr>\n",
       "      <th>11</th>\n",
       "      <td>Screen</td>\n",
       "      <td>Positive</td>\n",
       "      <td>682</td>\n",
       "    </tr>\n",
       "    <tr>\n",
       "      <th>12</th>\n",
       "      <td>Sound Quality</td>\n",
       "      <td>Negative</td>\n",
       "      <td>25</td>\n",
       "    </tr>\n",
       "    <tr>\n",
       "      <th>13</th>\n",
       "      <td>Sound Quality</td>\n",
       "      <td>Neutral</td>\n",
       "      <td>51</td>\n",
       "    </tr>\n",
       "    <tr>\n",
       "      <th>14</th>\n",
       "      <td>Sound Quality</td>\n",
       "      <td>Positive</td>\n",
       "      <td>880</td>\n",
       "    </tr>\n",
       "    <tr>\n",
       "      <th>15</th>\n",
       "      <td>Tablet</td>\n",
       "      <td>Negative</td>\n",
       "      <td>51</td>\n",
       "    </tr>\n",
       "    <tr>\n",
       "      <th>16</th>\n",
       "      <td>Tablet</td>\n",
       "      <td>Neutral</td>\n",
       "      <td>65</td>\n",
       "    </tr>\n",
       "    <tr>\n",
       "      <th>17</th>\n",
       "      <td>Tablet</td>\n",
       "      <td>Positive</td>\n",
       "      <td>1495</td>\n",
       "    </tr>\n",
       "  </tbody>\n",
       "</table>\n",
       "</div>"
      ],
      "text/plain": [
       "   dominant_topic sentiment  count\n",
       "0     Easy to Use  Negative      8\n",
       "1     Easy to Use   Neutral     17\n",
       "2     Easy to Use  Positive    534\n",
       "3   Gaming Device  Negative     15\n",
       "4   Gaming Device   Neutral     15\n",
       "5   Gaming Device  Positive    561\n",
       "6       Gift Item  Negative      3\n",
       "7       Gift Item   Neutral     11\n",
       "8       Gift Item  Positive    534\n",
       "9          Screen  Negative     15\n",
       "10         Screen   Neutral     38\n",
       "11         Screen  Positive    682\n",
       "12  Sound Quality  Negative     25\n",
       "13  Sound Quality   Neutral     51\n",
       "14  Sound Quality  Positive    880\n",
       "15         Tablet  Negative     51\n",
       "16         Tablet   Neutral     65\n",
       "17         Tablet  Positive   1495"
      ]
     },
     "execution_count": 85,
     "metadata": {},
     "output_type": "execute_result"
    }
   ],
   "source": [
    "data_topic_sentiment_df = data_topic_sentiment_df.reset_index().rename(columns = {0: 'count'})\n",
    "data_topic_sentiment_df"
   ]
  },
  {
   "cell_type": "markdown",
   "metadata": {},
   "source": [
    "#### Visualising the topic wise sentiment distribution for the corpus"
   ]
  },
  {
   "cell_type": "code",
   "execution_count": 86,
   "metadata": {},
   "outputs": [],
   "source": [
    "labels = topic_names.values()\n",
    "positive_sentiments = data_topic_sentiment_df[data_topic_sentiment_df['sentiment'] == 'Positive']['count']\n",
    "negative_sentiments = data_topic_sentiment_df[data_topic_sentiment_df['sentiment'] == 'Negative']['count']\n",
    "neutral_sentiments = data_topic_sentiment_df[data_topic_sentiment_df['sentiment'] == 'Neutral']['count']"
   ]
  },
  {
   "cell_type": "code",
   "execution_count": 87,
   "metadata": {},
   "outputs": [
    {
     "data": {
      "image/png": "[encoded data removed]",
      "text/plain": [
       "<Figure size 1080x432 with 1 Axes>"
      ]
     },
     "metadata": {},
     "output_type": "display_data"
    }
   ],
   "source": [
    "x = np.arange(len(labels))  # the label locations\n",
    "width = 0.25  # the width of the bars\n",
    "\n",
    "fig, ax = plt.subplots(figsize=(15,6))\n",
    "rects1 = ax.bar(x - width, height=positive_sentiments, width=width, label='Positive')\n",
    "rects2 = ax.bar(x, height=negative_sentiments, width=width, label='Negative')\n",
    "rects3 = ax.bar(x + width, height=neutral_sentiments, width=width, label='Neutral')\n",
    "\n",
    "# Add some text for labels, title and custom x-axis tick labels, etc.\n",
    "ax.set_ylabel('Sentiments')\n",
    "ax.set_title('Sentiments by Topic')\n",
    "ax.set_xticks(x)\n",
    "ax.set_xticklabels(labels)\n",
    "ax.legend()\n",
    "\n",
    "\n",
    "def autolabel(rects):\n",
    "    \"\"\"Attach a text label above each bar in *rects*, displaying its height.\"\"\"\n",
    "    for rect in rects:\n",
    "        height = rect.get_height()\n",
    "        ax.annotate('{}'.format(height),\n",
    "                    xy=(rect.get_x() + rect.get_width() / 2, height),\n",
    "                    xytext=(0, 3),  # 3 points vertical offset\n",
    "                    textcoords=\"offset points\",\n",
    "                    ha='center', va='bottom')\n",
    "\n",
    "\n",
    "autolabel(rects1)\n",
    "autolabel(rects2)\n",
    "autolabel(rects3)\n",
    "\n",
    "fig.tight_layout()\n",
    "\n",
    "plt.show()"
   ]
  },
  {
   "cell_type": "code",
   "execution_count": null,
   "metadata": {},
   "outputs": [],
   "source": []
  }
 ],
 "metadata": {
  "kernelspec": {
   "display_name": "Python 3",
   "language": "python",
   "name": "python3"
  },
  "language_info": {
   "codemirror_mode": {
    "name": "ipython",
    "version": 3
   },
   "file_extension": ".py",
   "mimetype": "text/x-python",
   "name": "python",
   "nbconvert_exporter": "python",
   "pygments_lexer": "ipython3",
   "version": "3.7.3"
  }
 },
 "nbformat": 4,
 "nbformat_minor": 4
}
