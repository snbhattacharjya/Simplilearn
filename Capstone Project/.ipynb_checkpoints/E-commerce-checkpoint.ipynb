{
 "cells": [
  {
   "cell_type": "markdown",
   "metadata": {},
   "source": [
    "# PGP AI - AI and Machine Learning Capstone Project"
   ]
  },
  {
   "cell_type": "markdown",
   "metadata": {},
   "source": [
    "DESCRIPTION\n",
    "\n",
    "Problem Statement\n",
    "\n",
    "Amazon is an online shopping website that now caters to millions of people everywhere. Over 34,000 consumer reviews for Amazon brand products like Kindle, Fire TV Stick and more are provided. \n",
    "The dataset has attributes like brand, categories, primary categories, reviews.title, reviews.text, and the sentiment. Sentiment is a categorical variable with three levels \"Positive\", \"Negative“, and \"Neutral\". For a given unseen data, the sentiment needs to be predicted.\n",
    "You are required to predict Sentiment or Satisfaction of a purchase based on multiple features and review text."
   ]
  },
  {
   "cell_type": "code",
   "execution_count": 86,
   "metadata": {},
   "outputs": [],
   "source": [
    "import numpy as np\n",
    "import pandas as pd\n",
    "import re\n",
    "from nltk.tokenize import regexp_tokenize\n",
    "from nltk.corpus import stopwords\n",
    "from sklearn.naive_bayes import MultinomialNB\n",
    "from sklearn.feature_extraction.text import CountVectorizer, TfidfTransformer, TfidfVectorizer\n",
    "\n",
    "from sklearn.metrics import classification_report\n",
    "import matplotlib.pyplot as plt\n",
    "from pprint import pprint\n",
    "import warnings\n",
    "warnings.filterwarnings('ignore')\n",
    "\n",
    "%matplotlib inline"
   ]
  },
  {
   "cell_type": "code",
   "execution_count": 2,
   "metadata": {},
   "outputs": [],
   "source": [
    "def load_data(path=\"\"):\n",
    "    return pd.read_csv(path)"
   ]
  },
  {
   "cell_type": "code",
   "execution_count": 3,
   "metadata": {},
   "outputs": [],
   "source": [
    "def merge_data(datasets=[]):\n",
    "    return pd.concat(datasets)"
   ]
  },
  {
   "cell_type": "code",
   "execution_count": 4,
   "metadata": {},
   "outputs": [],
   "source": [
    "def sample_data(data, row_count=5):\n",
    "    return data[:row_count]"
   ]
  },
  {
   "cell_type": "code",
   "execution_count": 47,
   "metadata": {},
   "outputs": [],
   "source": [
    "def preprocess(data):\n",
    "    data = [regexp_tokenize(record, pattern='[a-z]\\w+') \n",
    "                   for record in data]\n",
    "    print(\"Completed Word Tokenization\")\n",
    "\n",
    "    data = [[word for word in text \n",
    "                    if word not in stopwords.words('english')] \n",
    "                   for text in data]\n",
    "    print(\"Completed Removal of nltk StopWords\")\n",
    "\n",
    "    data = [[word for word in text \n",
    "                    if len(word) > 1] \n",
    "                   for text in data]\n",
    "    print(\"Completed Removal of Words of length = 1\")\n",
    "\n",
    "    data_cleaned = []\n",
    "\n",
    "    for record in data:\n",
    "        sent = \"\"\n",
    "        for word in record:\n",
    "            sent = sent + word + \" \"\n",
    "        data_cleaned.append(sent[:-1])\n",
    "\n",
    "    print(\"Completed Joining of the cleaned Text into a record\")\n",
    "    \n",
    "    print(\"Analysing Tokens:\")\n",
    "    token_analysis(data)\n",
    "    \n",
    "    return data_cleaned"
   ]
  },
  {
   "cell_type": "code",
   "execution_count": 48,
   "metadata": {},
   "outputs": [],
   "source": [
    "def token_analysis(data):\n",
    "    terms = []\n",
    "\n",
    "    for record in data:\n",
    "        for word in record:\n",
    "            terms.append(word)\n",
    "\n",
    "    print(\"Total Tokens: {}\".format(len(terms)))\n",
    "\n",
    "    from collections import Counter\n",
    "\n",
    "    counts_terms = Counter(terms)\n",
    "    terms_df = pd.DataFrame(counts_terms.most_common(10), \n",
    "                            columns=['term', 'count'])\n",
    "    terms_df\n",
    "\n",
    "    terms_df.sort_values(by='count', \n",
    "                         ascending=True).plot(kind=\"barh\", \n",
    "                                              x='term', \n",
    "                                              figsize=(12,10), \n",
    "                                              color='teal')\n",
    "    plt.show()"
   ]
  },
  {
   "cell_type": "code",
   "execution_count": 59,
   "metadata": {},
   "outputs": [],
   "source": [
    "def create_dataset(data, features, label):\n",
    "    X = data[features].tolist()\n",
    "    y = data[label].tolist()\n",
    "    return X, y"
   ]
  },
  {
   "cell_type": "code",
   "execution_count": 9,
   "metadata": {},
   "outputs": [],
   "source": [
    "def resample_dataset(X, y, sampler):\n",
    "    return sampler.fit_sample(X, y)"
   ]
  },
  {
   "cell_type": "code",
   "execution_count": 10,
   "metadata": {},
   "outputs": [],
   "source": [
    "def create_train_test_datasets(X, y):\n",
    "    from sklearn.model_selection import train_test_split\n",
    "\n",
    "    return train_test_split(X, y, test_size=0.3, random_state = 42)"
   ]
  },
  {
   "cell_type": "code",
   "execution_count": 11,
   "metadata": {},
   "outputs": [],
   "source": [
    "def create_model(X, y, model):\n",
    "    return model.fit(X, y)"
   ]
  },
  {
   "cell_type": "code",
   "execution_count": 12,
   "metadata": {},
   "outputs": [],
   "source": [
    "def assess_models_scores(models, X_test, y_test):\n",
    "    for model in models:\n",
    "        scores.add(model.name, model.f1_score(X_test, y_test))\n",
    "    return scores"
   ]
  },
  {
   "cell_type": "code",
   "execution_count": 13,
   "metadata": {},
   "outputs": [],
   "source": [
    "create_environment()"
   ]
  },
  {
   "cell_type": "code",
   "execution_count": 16,
   "metadata": {},
   "outputs": [],
   "source": [
    "train_df = load_data(\"datasets/train_data.csv\")\n",
    "test_data_hidden_df = load_data(\"datasets/test_data_hidden.csv\")\n",
    "test_df = load_data(\"datasets/test_data.csv\")"
   ]
  },
  {
   "cell_type": "code",
   "execution_count": 17,
   "metadata": {},
   "outputs": [],
   "source": [
    "merge_df = merge_data([train_df,test_data_hidden_df])"
   ]
  },
  {
   "cell_type": "code",
   "execution_count": 18,
   "metadata": {},
   "outputs": [
    {
     "data": {
      "text/html": [
       "<div>\n",
       "<style scoped>\n",
       "    .dataframe tbody tr th:only-of-type {\n",
       "        vertical-align: middle;\n",
       "    }\n",
       "\n",
       "    .dataframe tbody tr th {\n",
       "        vertical-align: top;\n",
       "    }\n",
       "\n",
       "    .dataframe thead th {\n",
       "        text-align: right;\n",
       "    }\n",
       "</style>\n",
       "<table border=\"1\" class=\"dataframe\">\n",
       "  <thead>\n",
       "    <tr style=\"text-align: right;\">\n",
       "      <th></th>\n",
       "      <th>name</th>\n",
       "      <th>brand</th>\n",
       "      <th>categories</th>\n",
       "      <th>primaryCategories</th>\n",
       "      <th>reviews.date</th>\n",
       "      <th>reviews.text</th>\n",
       "      <th>reviews.title</th>\n",
       "      <th>sentiment</th>\n",
       "    </tr>\n",
       "  </thead>\n",
       "  <tbody>\n",
       "    <tr>\n",
       "      <th>0</th>\n",
       "      <td>All-New Fire HD 8 Tablet, 8\" HD Display, Wi-Fi...</td>\n",
       "      <td>Amazon</td>\n",
       "      <td>Electronics,iPad &amp; Tablets,All Tablets,Fire Ta...</td>\n",
       "      <td>Electronics</td>\n",
       "      <td>2016-12-26T00:00:00.000Z</td>\n",
       "      <td>Purchased on Black FridayPros - Great Price (e...</td>\n",
       "      <td>Powerful tablet</td>\n",
       "      <td>Positive</td>\n",
       "    </tr>\n",
       "    <tr>\n",
       "      <th>1</th>\n",
       "      <td>Amazon - Echo Plus w/ Built-In Hub - Silver</td>\n",
       "      <td>Amazon</td>\n",
       "      <td>Amazon Echo,Smart Home,Networking,Home &amp; Tools...</td>\n",
       "      <td>Electronics,Hardware</td>\n",
       "      <td>2018-01-17T00:00:00.000Z</td>\n",
       "      <td>I purchased two Amazon in Echo Plus and two do...</td>\n",
       "      <td>Amazon Echo Plus AWESOME</td>\n",
       "      <td>Positive</td>\n",
       "    </tr>\n",
       "    <tr>\n",
       "      <th>2</th>\n",
       "      <td>Amazon Echo Show Alexa-enabled Bluetooth Speak...</td>\n",
       "      <td>Amazon</td>\n",
       "      <td>Amazon Echo,Virtual Assistant Speakers,Electro...</td>\n",
       "      <td>Electronics,Hardware</td>\n",
       "      <td>2017-12-20T00:00:00.000Z</td>\n",
       "      <td>Just an average Alexa option. Does show a few ...</td>\n",
       "      <td>Average</td>\n",
       "      <td>Neutral</td>\n",
       "    </tr>\n",
       "    <tr>\n",
       "      <th>3</th>\n",
       "      <td>Fire HD 10 Tablet, 10.1 HD Display, Wi-Fi, 16 ...</td>\n",
       "      <td>Amazon</td>\n",
       "      <td>eBook Readers,Fire Tablets,Electronics Feature...</td>\n",
       "      <td>Office Supplies,Electronics</td>\n",
       "      <td>2017-08-04T00:00:00.000Z</td>\n",
       "      <td>very good product. Exactly what I wanted, and ...</td>\n",
       "      <td>Greattttttt</td>\n",
       "      <td>Positive</td>\n",
       "    </tr>\n",
       "    <tr>\n",
       "      <th>4</th>\n",
       "      <td>Brand New Amazon Kindle Fire 16gb 7\" Ips Displ...</td>\n",
       "      <td>Amazon</td>\n",
       "      <td>Computers/Tablets &amp; Networking,Tablets &amp; eBook...</td>\n",
       "      <td>Electronics</td>\n",
       "      <td>2017-01-23T00:00:00.000Z</td>\n",
       "      <td>This is the 3rd one I've purchased. I've bough...</td>\n",
       "      <td>Very durable!</td>\n",
       "      <td>Positive</td>\n",
       "    </tr>\n",
       "    <tr>\n",
       "      <th>5</th>\n",
       "      <td>Kindle E-reader - White, 6 Glare-Free Touchscr...</td>\n",
       "      <td>Amazon</td>\n",
       "      <td>Office,eBook Readers,Electronics Features,Walm...</td>\n",
       "      <td>Office Supplies,Electronics</td>\n",
       "      <td>2016-12-23T00:00:00.000Z</td>\n",
       "      <td>This is a great product. Light weight. I wish ...</td>\n",
       "      <td>You will love it</td>\n",
       "      <td>Positive</td>\n",
       "    </tr>\n",
       "    <tr>\n",
       "      <th>6</th>\n",
       "      <td>Brand New Amazon Kindle Fire 16gb 7\" Ips Displ...</td>\n",
       "      <td>Amazon</td>\n",
       "      <td>Computers/Tablets &amp; Networking,Tablets &amp; eBook...</td>\n",
       "      <td>Electronics</td>\n",
       "      <td>2017-05-31T00:00:00.000Z</td>\n",
       "      <td>My 7-year old daughter saved up to by this. He...</td>\n",
       "      <td>OK For Entry Level Tablet</td>\n",
       "      <td>Neutral</td>\n",
       "    </tr>\n",
       "    <tr>\n",
       "      <th>7</th>\n",
       "      <td>Brand New Amazon Kindle Fire 16gb 7\" Ips Displ...</td>\n",
       "      <td>Amazon</td>\n",
       "      <td>Computers/Tablets &amp; Networking,Tablets &amp; eBook...</td>\n",
       "      <td>Electronics</td>\n",
       "      <td>2016-06-05T00:00:00.000Z</td>\n",
       "      <td>Purchased this for my son. Has room to upgrade...</td>\n",
       "      <td>Great for kids or smaller needs</td>\n",
       "      <td>Positive</td>\n",
       "    </tr>\n",
       "    <tr>\n",
       "      <th>8</th>\n",
       "      <td>All-New Fire HD 8 Tablet, 8\" HD Display, Wi-Fi...</td>\n",
       "      <td>Amazon</td>\n",
       "      <td>Electronics,iPad &amp; Tablets,All Tablets,Fire Ta...</td>\n",
       "      <td>Electronics</td>\n",
       "      <td>2016-11-23T00:00:00.000Z</td>\n",
       "      <td>Bought this for my mom and it was just what sh...</td>\n",
       "      <td>Great tablet</td>\n",
       "      <td>Positive</td>\n",
       "    </tr>\n",
       "    <tr>\n",
       "      <th>9</th>\n",
       "      <td>All-New Fire HD 8 Tablet, 8\" HD Display, Wi-Fi...</td>\n",
       "      <td>Amazon</td>\n",
       "      <td>Electronics,iPad &amp; Tablets,All Tablets,Fire Ta...</td>\n",
       "      <td>Electronics</td>\n",
       "      <td>2017-05-18T00:00:00.000Z</td>\n",
       "      <td>was cheap, can not run chrome stuff, returned ...</td>\n",
       "      <td>was cheap, can not run chrome stuff, returned</td>\n",
       "      <td>Negative</td>\n",
       "    </tr>\n",
       "  </tbody>\n",
       "</table>\n",
       "</div>"
      ],
      "text/plain": [
       "                                                name   brand  \\\n",
       "0  All-New Fire HD 8 Tablet, 8\" HD Display, Wi-Fi...  Amazon   \n",
       "1        Amazon - Echo Plus w/ Built-In Hub - Silver  Amazon   \n",
       "2  Amazon Echo Show Alexa-enabled Bluetooth Speak...  Amazon   \n",
       "3  Fire HD 10 Tablet, 10.1 HD Display, Wi-Fi, 16 ...  Amazon   \n",
       "4  Brand New Amazon Kindle Fire 16gb 7\" Ips Displ...  Amazon   \n",
       "5  Kindle E-reader - White, 6 Glare-Free Touchscr...  Amazon   \n",
       "6  Brand New Amazon Kindle Fire 16gb 7\" Ips Displ...  Amazon   \n",
       "7  Brand New Amazon Kindle Fire 16gb 7\" Ips Displ...  Amazon   \n",
       "8  All-New Fire HD 8 Tablet, 8\" HD Display, Wi-Fi...  Amazon   \n",
       "9  All-New Fire HD 8 Tablet, 8\" HD Display, Wi-Fi...  Amazon   \n",
       "\n",
       "                                          categories  \\\n",
       "0  Electronics,iPad & Tablets,All Tablets,Fire Ta...   \n",
       "1  Amazon Echo,Smart Home,Networking,Home & Tools...   \n",
       "2  Amazon Echo,Virtual Assistant Speakers,Electro...   \n",
       "3  eBook Readers,Fire Tablets,Electronics Feature...   \n",
       "4  Computers/Tablets & Networking,Tablets & eBook...   \n",
       "5  Office,eBook Readers,Electronics Features,Walm...   \n",
       "6  Computers/Tablets & Networking,Tablets & eBook...   \n",
       "7  Computers/Tablets & Networking,Tablets & eBook...   \n",
       "8  Electronics,iPad & Tablets,All Tablets,Fire Ta...   \n",
       "9  Electronics,iPad & Tablets,All Tablets,Fire Ta...   \n",
       "\n",
       "             primaryCategories              reviews.date  \\\n",
       "0                  Electronics  2016-12-26T00:00:00.000Z   \n",
       "1         Electronics,Hardware  2018-01-17T00:00:00.000Z   \n",
       "2         Electronics,Hardware  2017-12-20T00:00:00.000Z   \n",
       "3  Office Supplies,Electronics  2017-08-04T00:00:00.000Z   \n",
       "4                  Electronics  2017-01-23T00:00:00.000Z   \n",
       "5  Office Supplies,Electronics  2016-12-23T00:00:00.000Z   \n",
       "6                  Electronics  2017-05-31T00:00:00.000Z   \n",
       "7                  Electronics  2016-06-05T00:00:00.000Z   \n",
       "8                  Electronics  2016-11-23T00:00:00.000Z   \n",
       "9                  Electronics  2017-05-18T00:00:00.000Z   \n",
       "\n",
       "                                        reviews.text  \\\n",
       "0  Purchased on Black FridayPros - Great Price (e...   \n",
       "1  I purchased two Amazon in Echo Plus and two do...   \n",
       "2  Just an average Alexa option. Does show a few ...   \n",
       "3  very good product. Exactly what I wanted, and ...   \n",
       "4  This is the 3rd one I've purchased. I've bough...   \n",
       "5  This is a great product. Light weight. I wish ...   \n",
       "6  My 7-year old daughter saved up to by this. He...   \n",
       "7  Purchased this for my son. Has room to upgrade...   \n",
       "8  Bought this for my mom and it was just what sh...   \n",
       "9  was cheap, can not run chrome stuff, returned ...   \n",
       "\n",
       "                                   reviews.title sentiment  \n",
       "0                                Powerful tablet  Positive  \n",
       "1                       Amazon Echo Plus AWESOME  Positive  \n",
       "2                                        Average   Neutral  \n",
       "3                                    Greattttttt  Positive  \n",
       "4                                  Very durable!  Positive  \n",
       "5                               You will love it  Positive  \n",
       "6                      OK For Entry Level Tablet   Neutral  \n",
       "7                Great for kids or smaller needs  Positive  \n",
       "8                                   Great tablet  Positive  \n",
       "9  was cheap, can not run chrome stuff, returned  Negative  "
      ]
     },
     "execution_count": 18,
     "metadata": {},
     "output_type": "execute_result"
    }
   ],
   "source": [
    "sample_data(merge_df,10)"
   ]
  },
  {
   "cell_type": "code",
   "execution_count": 20,
   "metadata": {},
   "outputs": [
    {
     "data": {
      "text/html": [
       "<div>\n",
       "<style scoped>\n",
       "    .dataframe tbody tr th:only-of-type {\n",
       "        vertical-align: middle;\n",
       "    }\n",
       "\n",
       "    .dataframe tbody tr th {\n",
       "        vertical-align: top;\n",
       "    }\n",
       "\n",
       "    .dataframe thead th {\n",
       "        text-align: right;\n",
       "    }\n",
       "</style>\n",
       "<table border=\"1\" class=\"dataframe\">\n",
       "  <thead>\n",
       "    <tr style=\"text-align: right;\">\n",
       "      <th></th>\n",
       "      <th>name</th>\n",
       "      <th>brand</th>\n",
       "      <th>categories</th>\n",
       "      <th>primaryCategories</th>\n",
       "      <th>reviews.date</th>\n",
       "      <th>reviews.text</th>\n",
       "      <th>reviews.title</th>\n",
       "      <th>sentiment</th>\n",
       "    </tr>\n",
       "  </thead>\n",
       "  <tbody>\n",
       "    <tr>\n",
       "      <th>count</th>\n",
       "      <td>5000</td>\n",
       "      <td>5000</td>\n",
       "      <td>5000</td>\n",
       "      <td>5000</td>\n",
       "      <td>5000</td>\n",
       "      <td>5000</td>\n",
       "      <td>4987</td>\n",
       "      <td>5000</td>\n",
       "    </tr>\n",
       "    <tr>\n",
       "      <th>unique</th>\n",
       "      <td>23</td>\n",
       "      <td>1</td>\n",
       "      <td>23</td>\n",
       "      <td>4</td>\n",
       "      <td>679</td>\n",
       "      <td>4385</td>\n",
       "      <td>3124</td>\n",
       "      <td>3</td>\n",
       "    </tr>\n",
       "    <tr>\n",
       "      <th>top</th>\n",
       "      <td>Amazon Echo Show Alexa-enabled Bluetooth Speak...</td>\n",
       "      <td>Amazon</td>\n",
       "      <td>Electronics,iPad &amp; Tablets,All Tablets,Fire Ta...</td>\n",
       "      <td>Electronics</td>\n",
       "      <td>2017-01-23T00:00:00.000Z</td>\n",
       "      <td>I bought this kindle for my 11yr old granddaug...</td>\n",
       "      <td>Great tablet</td>\n",
       "      <td>Positive</td>\n",
       "    </tr>\n",
       "    <tr>\n",
       "      <th>freq</th>\n",
       "      <td>845</td>\n",
       "      <td>5000</td>\n",
       "      <td>797</td>\n",
       "      <td>3276</td>\n",
       "      <td>125</td>\n",
       "      <td>4</td>\n",
       "      <td>122</td>\n",
       "      <td>4686</td>\n",
       "    </tr>\n",
       "  </tbody>\n",
       "</table>\n",
       "</div>"
      ],
      "text/plain": [
       "                                                     name   brand  \\\n",
       "count                                                5000    5000   \n",
       "unique                                                 23       1   \n",
       "top     Amazon Echo Show Alexa-enabled Bluetooth Speak...  Amazon   \n",
       "freq                                                  845    5000   \n",
       "\n",
       "                                               categories primaryCategories  \\\n",
       "count                                                5000              5000   \n",
       "unique                                                 23                 4   \n",
       "top     Electronics,iPad & Tablets,All Tablets,Fire Ta...       Electronics   \n",
       "freq                                                  797              3276   \n",
       "\n",
       "                    reviews.date  \\\n",
       "count                       5000   \n",
       "unique                       679   \n",
       "top     2017-01-23T00:00:00.000Z   \n",
       "freq                         125   \n",
       "\n",
       "                                             reviews.text reviews.title  \\\n",
       "count                                                5000          4987   \n",
       "unique                                               4385          3124   \n",
       "top     I bought this kindle for my 11yr old granddaug...  Great tablet   \n",
       "freq                                                    4           122   \n",
       "\n",
       "       sentiment  \n",
       "count       5000  \n",
       "unique         3  \n",
       "top     Positive  \n",
       "freq        4686  "
      ]
     },
     "execution_count": 20,
     "metadata": {},
     "output_type": "execute_result"
    }
   ],
   "source": [
    "merge_df.describe()"
   ]
  },
  {
   "cell_type": "code",
   "execution_count": 21,
   "metadata": {},
   "outputs": [
    {
     "name": "stdout",
     "output_type": "stream",
     "text": [
      "<class 'pandas.core.frame.DataFrame'>\n",
      "Int64Index: 5000 entries, 0 to 999\n",
      "Data columns (total 8 columns):\n",
      " #   Column             Non-Null Count  Dtype \n",
      "---  ------             --------------  ----- \n",
      " 0   name               5000 non-null   object\n",
      " 1   brand              5000 non-null   object\n",
      " 2   categories         5000 non-null   object\n",
      " 3   primaryCategories  5000 non-null   object\n",
      " 4   reviews.date       5000 non-null   object\n",
      " 5   reviews.text       5000 non-null   object\n",
      " 6   reviews.title      4987 non-null   object\n",
      " 7   sentiment          5000 non-null   object\n",
      "dtypes: object(8)\n",
      "memory usage: 351.6+ KB\n"
     ]
    }
   ],
   "source": [
    "merge_df.info()"
   ]
  },
  {
   "cell_type": "markdown",
   "metadata": {},
   "source": [
    "### Observations:\n",
    "- Total Records: 5000\n",
    "- Data Column for building model: reviews.text\n",
    "- Label Column for identifying class: sentiment\n",
    "- Unique Reviews: 4385\n",
    "- Number of Output Class: 3"
   ]
  },
  {
   "cell_type": "code",
   "execution_count": 33,
   "metadata": {},
   "outputs": [
    {
     "name": "stdout",
     "output_type": "stream",
     "text": [
      "Positive    4686\n",
      "Neutral      197\n",
      "Negative     117\n",
      "Name: sentiment, dtype: int64\n"
     ]
    },
    {
     "data": {
      "image/png": "[encoded data removed]",
      "text/plain": [
       "<Figure size 432x288 with 1 Axes>"
      ]
     },
     "metadata": {
      "needs_background": "light"
     },
     "output_type": "display_data"
    }
   ],
   "source": [
    "print(merge_df['sentiment'].value_counts())\n",
    "merge_df['sentiment'].value_counts().plot(kind='bar', title=\"Count(sentiment)\")\n",
    "plt.show()"
   ]
  },
  {
   "cell_type": "code",
   "execution_count": 49,
   "metadata": {},
   "outputs": [
    {
     "name": "stdout",
     "output_type": "stream",
     "text": [
      "Completed Word Tokenization\n",
      "Completed Removal of nltk StopWords\n",
      "Completed Removal of Words of length = 1\n",
      "Completed Joining of the cleaned Text into a record\n",
      "Analysing Tokens:\n",
      "Total Tokens: 76249\n"
     ]
    },
    {
     "data": {
      "image/png": "[encoded data removed]",
      "text/plain": [
       "<Figure size 864x720 with 1 Axes>"
      ]
     },
     "metadata": {
      "needs_background": "light"
     },
     "output_type": "display_data"
    }
   ],
   "source": [
    "merge_df['review_cleaned'] = preprocess(merge_df['reviews.text'].tolist())"
   ]
  },
  {
   "cell_type": "code",
   "execution_count": 67,
   "metadata": {},
   "outputs": [
    {
     "data": {
      "text/plain": [
       "(5000, 5000)"
      ]
     },
     "execution_count": 67,
     "metadata": {},
     "output_type": "execute_result"
    }
   ],
   "source": [
    "X, y = create_dataset(merge_df, 'reviews.text', 'sentiment')\n",
    "len(X), len(y)"
   ]
  },
  {
   "cell_type": "code",
   "execution_count": 68,
   "metadata": {},
   "outputs": [
    {
     "data": {
      "text/plain": [
       "(5000, 5412)"
      ]
     },
     "execution_count": 68,
     "metadata": {},
     "output_type": "execute_result"
    }
   ],
   "source": [
    "tfidf_vect = TfidfVectorizer()\n",
    "X_tfidf = tfidf_vect.fit_transform(X)\n",
    "X_tfidf.shape"
   ]
  },
  {
   "cell_type": "code",
   "execution_count": 78,
   "metadata": {},
   "outputs": [],
   "source": [
    "X_train, X_test, y_train, y_test = create_train_test_datasets(X_tfidf, y)"
   ]
  },
  {
   "cell_type": "code",
   "execution_count": 81,
   "metadata": {},
   "outputs": [
    {
     "name": "stdout",
     "output_type": "stream",
     "text": [
      "(3500, 5412)\n",
      "(1500, 5412)\n"
     ]
    }
   ],
   "source": [
    "print(X_train.shape)\n",
    "print(X_test.shape)"
   ]
  },
  {
   "cell_type": "code",
   "execution_count": 85,
   "metadata": {},
   "outputs": [],
   "source": [
    "multi_nb = create_model(X_train, y_train, MultinomialNB())"
   ]
  },
  {
   "cell_type": "code",
   "execution_count": 87,
   "metadata": {},
   "outputs": [
    {
     "name": "stdout",
     "output_type": "stream",
     "text": [
      "              precision    recall  f1-score   support\n",
      "\n",
      "    Negative     0.0000    0.0000    0.0000        29\n",
      "     Neutral     0.0000    0.0000    0.0000        79\n",
      "    Positive     0.9280    1.0000    0.9627      1392\n",
      "\n",
      "    accuracy                         0.9280      1500\n",
      "   macro avg     0.3093    0.3333    0.3209      1500\n",
      "weighted avg     0.8612    0.9280    0.8933      1500\n",
      "\n"
     ]
    }
   ],
   "source": [
    "print(classification_report(y_test, multi_nb.predict(X_test), digits=4))"
   ]
  },
  {
   "cell_type": "code",
   "execution_count": null,
   "metadata": {},
   "outputs": [],
   "source": [
    "from sklearn.pipeline import Pipeline\n",
    "from sklearn.naive_bayes import MultinomialNB\n",
    "from sklearn.feature_extraction.text import CountVectorizer, TfidfTransformer\n",
    "clf = Pipeline([('vect', CountVectorizer()),\n",
    "                     ('tfidf', TfidfTransformer()),\n",
    "                     ('clf', MultinomialNB())])"
   ]
  },
  {
   "cell_type": "code",
   "execution_count": null,
   "metadata": {},
   "outputs": [],
   "source": [
    "clf.fit(X_train, y_train)"
   ]
  },
  {
   "cell_type": "code",
   "execution_count": null,
   "metadata": {},
   "outputs": [],
   "source": [
    "from sklearn.metrics import classification_report\n",
    "print(classification_report(y_test, clf.predict(X_test), digits=4))"
   ]
  },
  {
   "cell_type": "code",
   "execution_count": null,
   "metadata": {},
   "outputs": [],
   "source": [
    "from imblearn.pipeline import Pipeline\n",
    "from sklearn.ensemble import RandomForestClassifier\n",
    "from imblearn.over_sampling import RandomOverSampler\n",
    "from imblearn.under_sampling import RandomUnderSampler\n",
    "from sklearn.model_selection import cross_val_score\n",
    "from sklearn.model_selection import StratifiedKFold\n",
    "from sklearn.feature_extraction.text import TfidfVectorizer\n",
    "\n",
    "tfidf_vect = TfidfVectorizer(max_features=3000)\n",
    "vect = CountVectorizer(max_features=3000)\n",
    "tfidf = TfidfTransformer()\n",
    "over = RandomOverSampler()\n",
    "under = RandomUnderSampler()"
   ]
  },
  {
   "cell_type": "code",
   "execution_count": null,
   "metadata": {},
   "outputs": [],
   "source": [
    "os_rf_clf = RandomForestClassifier()\n",
    "\n",
    "pipeline = Pipeline(steps=[('tfidf_vect', tfidf_vect),\n",
    "                            ('over', over),\n",
    "                            ('clf', os_rf_clf)])\n",
    "pipeline.fit(X_train,y_train)"
   ]
  },
  {
   "cell_type": "code",
   "execution_count": null,
   "metadata": {},
   "outputs": [],
   "source": [
    "#transforming the test set\n",
    "X_test_sampler = tfidf_vect.fit_transform(X_test)\n",
    "X_test_sampler.shape"
   ]
  },
  {
   "cell_type": "code",
   "execution_count": null,
   "metadata": {},
   "outputs": [],
   "source": [
    "print(classification_report(y_test, os_rf_clf.predict(X_test_sampler), digits=4))"
   ]
  },
  {
   "cell_type": "code",
   "execution_count": null,
   "metadata": {},
   "outputs": [],
   "source": [
    "us_rf_clf = RandomForestClassifier()\n",
    "\n",
    "pipeline = Pipeline(steps=[('tfidf_vect', tfidf_vect),\n",
    "                            ('under', under),\n",
    "                            ('clf', us_rf_clf)])\n",
    "pipeline.fit(X_train,y_train)"
   ]
  },
  {
   "cell_type": "code",
   "execution_count": null,
   "metadata": {},
   "outputs": [],
   "source": [
    "print(classification_report(y_test, us_rf_clf.predict(X_test_sampler), digits=4))"
   ]
  },
  {
   "cell_type": "code",
   "execution_count": null,
   "metadata": {},
   "outputs": [],
   "source": [
    "from xgboost import XGBClassifier"
   ]
  },
  {
   "cell_type": "code",
   "execution_count": null,
   "metadata": {},
   "outputs": [],
   "source": [
    "#Over Sampled XGBClassifier\n",
    "os_xgb_clf = XGBClassifier()\n",
    "\n",
    "pipeline = Pipeline(steps=[('tfidf_vect', tfidf_vect),\n",
    "                            ('over', over),\n",
    "                            ('clf', os_xgb_clf)])\n",
    "pipeline.fit(X_train,y_train)"
   ]
  },
  {
   "cell_type": "code",
   "execution_count": null,
   "metadata": {},
   "outputs": [],
   "source": [
    "print(classification_report(y_test, os_xgb_clf.predict(X_test_sampler), digits=4))"
   ]
  },
  {
   "cell_type": "code",
   "execution_count": null,
   "metadata": {},
   "outputs": [],
   "source": [
    "#Over Sampled XGBClassifier\n",
    "us_xgb_clf = XGBClassifier()\n",
    "\n",
    "pipeline = Pipeline(steps=[('tfidf_vect', tfidf_vect),\n",
    "                            ('under', under),\n",
    "                            ('clf', us_xgb_clf)])\n",
    "pipeline.fit(X_train,y_train)"
   ]
  },
  {
   "cell_type": "code",
   "execution_count": null,
   "metadata": {},
   "outputs": [],
   "source": [
    "print(classification_report(y_test, us_xgb_clf.predict(X_test_sampler), digits=4))"
   ]
  },
  {
   "cell_type": "code",
   "execution_count": null,
   "metadata": {},
   "outputs": [],
   "source": [
    "create_environment()"
   ]
  },
  {
   "cell_type": "code",
   "execution_count": null,
   "metadata": {},
   "outputs": [],
   "source": []
  }
 ],
 "metadata": {
  "kernelspec": {
   "display_name": "Python 3",
   "language": "python",
   "name": "python3"
  },
  "language_info": {
   "codemirror_mode": {
    "name": "ipython",
    "version": 3
   },
   "file_extension": ".py",
   "mimetype": "text/x-python",
   "name": "python",
   "nbconvert_exporter": "python",
   "pygments_lexer": "ipython3",
   "version": "3.7.3"
  }
 },
 "nbformat": 4,
 "nbformat_minor": 4
}
