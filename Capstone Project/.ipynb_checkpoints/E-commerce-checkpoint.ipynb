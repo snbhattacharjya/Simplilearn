{
 "cells": [
  {
   "cell_type": "markdown",
   "metadata": {},
   "source": [
    "# PGP AI - AI and Machine Learning Capstone Project"
   ]
  },
  {
   "cell_type": "markdown",
   "metadata": {},
   "source": [
    "DESCRIPTION\n",
    "\n",
    "Problem Statement\n",
    "\n",
    "Amazon is an online shopping website that now caters to millions of people everywhere. Over 34,000 consumer reviews for Amazon brand products like Kindle, Fire TV Stick and more are provided. \n",
    "The dataset has attributes like brand, categories, primary categories, reviews.title, reviews.text, and the sentiment. Sentiment is a categorical variable with three levels \"Positive\", \"Negative“, and \"Neutral\". For a given unseen data, the sentiment needs to be predicted.\n",
    "You are required to predict Sentiment or Satisfaction of a purchase based on multiple features and review text."
   ]
  },
  {
   "cell_type": "code",
   "execution_count": 1,
   "metadata": {},
   "outputs": [],
   "source": [
    "import numpy as np\n",
    "import pandas as pd\n",
    "import matplotlib.pyplot as plt\n",
    "from pprint import pprint\n",
    "import warnings\n",
    "warnings.filterwarnings('ignore')\n",
    "\n",
    "%matplotlib inline"
   ]
  },
  {
   "cell_type": "code",
   "execution_count": 2,
   "metadata": {},
   "outputs": [],
   "source": [
    "train_df = pd.read_csv('datasets/train_data.csv')\n",
    "test_df = pd.read_csv('datasets/test_data_hidden.csv')"
   ]
  },
  {
   "cell_type": "code",
   "execution_count": 3,
   "metadata": {},
   "outputs": [
    {
     "data": {
      "text/html": [
       "<div>\n",
       "<style scoped>\n",
       "    .dataframe tbody tr th:only-of-type {\n",
       "        vertical-align: middle;\n",
       "    }\n",
       "\n",
       "    .dataframe tbody tr th {\n",
       "        vertical-align: top;\n",
       "    }\n",
       "\n",
       "    .dataframe thead th {\n",
       "        text-align: right;\n",
       "    }\n",
       "</style>\n",
       "<table border=\"1\" class=\"dataframe\">\n",
       "  <thead>\n",
       "    <tr style=\"text-align: right;\">\n",
       "      <th></th>\n",
       "      <th>name</th>\n",
       "      <th>brand</th>\n",
       "      <th>categories</th>\n",
       "      <th>primaryCategories</th>\n",
       "      <th>reviews.date</th>\n",
       "      <th>reviews.text</th>\n",
       "      <th>reviews.title</th>\n",
       "      <th>sentiment</th>\n",
       "    </tr>\n",
       "  </thead>\n",
       "  <tbody>\n",
       "    <tr>\n",
       "      <th>0</th>\n",
       "      <td>All-New Fire HD 8 Tablet, 8\" HD Display, Wi-Fi...</td>\n",
       "      <td>Amazon</td>\n",
       "      <td>Electronics,iPad &amp; Tablets,All Tablets,Fire Ta...</td>\n",
       "      <td>Electronics</td>\n",
       "      <td>2016-12-26T00:00:00.000Z</td>\n",
       "      <td>Purchased on Black FridayPros - Great Price (e...</td>\n",
       "      <td>Powerful tablet</td>\n",
       "      <td>Positive</td>\n",
       "    </tr>\n",
       "    <tr>\n",
       "      <th>1</th>\n",
       "      <td>Amazon - Echo Plus w/ Built-In Hub - Silver</td>\n",
       "      <td>Amazon</td>\n",
       "      <td>Amazon Echo,Smart Home,Networking,Home &amp; Tools...</td>\n",
       "      <td>Electronics,Hardware</td>\n",
       "      <td>2018-01-17T00:00:00.000Z</td>\n",
       "      <td>I purchased two Amazon in Echo Plus and two do...</td>\n",
       "      <td>Amazon Echo Plus AWESOME</td>\n",
       "      <td>Positive</td>\n",
       "    </tr>\n",
       "    <tr>\n",
       "      <th>2</th>\n",
       "      <td>Amazon Echo Show Alexa-enabled Bluetooth Speak...</td>\n",
       "      <td>Amazon</td>\n",
       "      <td>Amazon Echo,Virtual Assistant Speakers,Electro...</td>\n",
       "      <td>Electronics,Hardware</td>\n",
       "      <td>2017-12-20T00:00:00.000Z</td>\n",
       "      <td>Just an average Alexa option. Does show a few ...</td>\n",
       "      <td>Average</td>\n",
       "      <td>Neutral</td>\n",
       "    </tr>\n",
       "    <tr>\n",
       "      <th>3</th>\n",
       "      <td>Fire HD 10 Tablet, 10.1 HD Display, Wi-Fi, 16 ...</td>\n",
       "      <td>Amazon</td>\n",
       "      <td>eBook Readers,Fire Tablets,Electronics Feature...</td>\n",
       "      <td>Office Supplies,Electronics</td>\n",
       "      <td>2017-08-04T00:00:00.000Z</td>\n",
       "      <td>very good product. Exactly what I wanted, and ...</td>\n",
       "      <td>Greattttttt</td>\n",
       "      <td>Positive</td>\n",
       "    </tr>\n",
       "    <tr>\n",
       "      <th>4</th>\n",
       "      <td>Brand New Amazon Kindle Fire 16gb 7\" Ips Displ...</td>\n",
       "      <td>Amazon</td>\n",
       "      <td>Computers/Tablets &amp; Networking,Tablets &amp; eBook...</td>\n",
       "      <td>Electronics</td>\n",
       "      <td>2017-01-23T00:00:00.000Z</td>\n",
       "      <td>This is the 3rd one I've purchased. I've bough...</td>\n",
       "      <td>Very durable!</td>\n",
       "      <td>Positive</td>\n",
       "    </tr>\n",
       "  </tbody>\n",
       "</table>\n",
       "</div>"
      ],
      "text/plain": [
       "                                                name   brand  \\\n",
       "0  All-New Fire HD 8 Tablet, 8\" HD Display, Wi-Fi...  Amazon   \n",
       "1        Amazon - Echo Plus w/ Built-In Hub - Silver  Amazon   \n",
       "2  Amazon Echo Show Alexa-enabled Bluetooth Speak...  Amazon   \n",
       "3  Fire HD 10 Tablet, 10.1 HD Display, Wi-Fi, 16 ...  Amazon   \n",
       "4  Brand New Amazon Kindle Fire 16gb 7\" Ips Displ...  Amazon   \n",
       "\n",
       "                                          categories  \\\n",
       "0  Electronics,iPad & Tablets,All Tablets,Fire Ta...   \n",
       "1  Amazon Echo,Smart Home,Networking,Home & Tools...   \n",
       "2  Amazon Echo,Virtual Assistant Speakers,Electro...   \n",
       "3  eBook Readers,Fire Tablets,Electronics Feature...   \n",
       "4  Computers/Tablets & Networking,Tablets & eBook...   \n",
       "\n",
       "             primaryCategories              reviews.date  \\\n",
       "0                  Electronics  2016-12-26T00:00:00.000Z   \n",
       "1         Electronics,Hardware  2018-01-17T00:00:00.000Z   \n",
       "2         Electronics,Hardware  2017-12-20T00:00:00.000Z   \n",
       "3  Office Supplies,Electronics  2017-08-04T00:00:00.000Z   \n",
       "4                  Electronics  2017-01-23T00:00:00.000Z   \n",
       "\n",
       "                                        reviews.text  \\\n",
       "0  Purchased on Black FridayPros - Great Price (e...   \n",
       "1  I purchased two Amazon in Echo Plus and two do...   \n",
       "2  Just an average Alexa option. Does show a few ...   \n",
       "3  very good product. Exactly what I wanted, and ...   \n",
       "4  This is the 3rd one I've purchased. I've bough...   \n",
       "\n",
       "              reviews.title sentiment  \n",
       "0           Powerful tablet  Positive  \n",
       "1  Amazon Echo Plus AWESOME  Positive  \n",
       "2                   Average   Neutral  \n",
       "3               Greattttttt  Positive  \n",
       "4             Very durable!  Positive  "
      ]
     },
     "execution_count": 3,
     "metadata": {},
     "output_type": "execute_result"
    }
   ],
   "source": [
    "train_df.head()"
   ]
  },
  {
   "cell_type": "code",
   "execution_count": 4,
   "metadata": {},
   "outputs": [
    {
     "data": {
      "text/html": [
       "<div>\n",
       "<style scoped>\n",
       "    .dataframe tbody tr th:only-of-type {\n",
       "        vertical-align: middle;\n",
       "    }\n",
       "\n",
       "    .dataframe tbody tr th {\n",
       "        vertical-align: top;\n",
       "    }\n",
       "\n",
       "    .dataframe thead th {\n",
       "        text-align: right;\n",
       "    }\n",
       "</style>\n",
       "<table border=\"1\" class=\"dataframe\">\n",
       "  <thead>\n",
       "    <tr style=\"text-align: right;\">\n",
       "      <th></th>\n",
       "      <th>name</th>\n",
       "      <th>brand</th>\n",
       "      <th>categories</th>\n",
       "      <th>primaryCategories</th>\n",
       "      <th>reviews.date</th>\n",
       "      <th>reviews.text</th>\n",
       "      <th>reviews.title</th>\n",
       "      <th>sentiment</th>\n",
       "    </tr>\n",
       "  </thead>\n",
       "  <tbody>\n",
       "    <tr>\n",
       "      <th>0</th>\n",
       "      <td>Fire Tablet, 7 Display, Wi-Fi, 16 GB - Include...</td>\n",
       "      <td>Amazon</td>\n",
       "      <td>Fire Tablets,Computers/Tablets &amp; Networking,Ta...</td>\n",
       "      <td>Electronics</td>\n",
       "      <td>2016-05-23T00:00:00.000Z</td>\n",
       "      <td>Amazon kindle fire has a lot of free app and c...</td>\n",
       "      <td>very handy device</td>\n",
       "      <td>Positive</td>\n",
       "    </tr>\n",
       "    <tr>\n",
       "      <th>1</th>\n",
       "      <td>Amazon Echo Show Alexa-enabled Bluetooth Speak...</td>\n",
       "      <td>Amazon</td>\n",
       "      <td>Computers,Amazon Echo,Virtual Assistant Speake...</td>\n",
       "      <td>Electronics,Hardware</td>\n",
       "      <td>2018-01-02T00:00:00.000Z</td>\n",
       "      <td>The Echo Show is a great addition to the Amazo...</td>\n",
       "      <td>Another winner from Amazon</td>\n",
       "      <td>Positive</td>\n",
       "    </tr>\n",
       "    <tr>\n",
       "      <th>2</th>\n",
       "      <td>All-New Fire HD 8 Tablet, 8\" HD Display, Wi-Fi...</td>\n",
       "      <td>Amazon</td>\n",
       "      <td>Electronics,iPad &amp; Tablets,All Tablets,Fire Ta...</td>\n",
       "      <td>Electronics</td>\n",
       "      <td>2017-01-02T00:00:00.000Z</td>\n",
       "      <td>Great value from Best Buy. Bought at Christmas...</td>\n",
       "      <td>simple to use and reliable so far</td>\n",
       "      <td>Positive</td>\n",
       "    </tr>\n",
       "    <tr>\n",
       "      <th>3</th>\n",
       "      <td>Brand New Amazon Kindle Fire 16gb 7\" Ips Displ...</td>\n",
       "      <td>Amazon</td>\n",
       "      <td>Computers/Tablets &amp; Networking,Tablets &amp; eBook...</td>\n",
       "      <td>Electronics</td>\n",
       "      <td>2017-03-25T00:00:00.000Z</td>\n",
       "      <td>I use mine for email, Facebook ,games and to g...</td>\n",
       "      <td>Love it!!!</td>\n",
       "      <td>Positive</td>\n",
       "    </tr>\n",
       "    <tr>\n",
       "      <th>4</th>\n",
       "      <td>Amazon Echo Show Alexa-enabled Bluetooth Speak...</td>\n",
       "      <td>Amazon</td>\n",
       "      <td>Computers,Amazon Echo,Virtual Assistant Speake...</td>\n",
       "      <td>Electronics,Hardware</td>\n",
       "      <td>2017-11-15T00:00:00.000Z</td>\n",
       "      <td>This is a fantastic item &amp; the person I bought...</td>\n",
       "      <td>Fantastic!</td>\n",
       "      <td>Positive</td>\n",
       "    </tr>\n",
       "  </tbody>\n",
       "</table>\n",
       "</div>"
      ],
      "text/plain": [
       "                                                name   brand  \\\n",
       "0  Fire Tablet, 7 Display, Wi-Fi, 16 GB - Include...  Amazon   \n",
       "1  Amazon Echo Show Alexa-enabled Bluetooth Speak...  Amazon   \n",
       "2  All-New Fire HD 8 Tablet, 8\" HD Display, Wi-Fi...  Amazon   \n",
       "3  Brand New Amazon Kindle Fire 16gb 7\" Ips Displ...  Amazon   \n",
       "4  Amazon Echo Show Alexa-enabled Bluetooth Speak...  Amazon   \n",
       "\n",
       "                                          categories     primaryCategories  \\\n",
       "0  Fire Tablets,Computers/Tablets & Networking,Ta...           Electronics   \n",
       "1  Computers,Amazon Echo,Virtual Assistant Speake...  Electronics,Hardware   \n",
       "2  Electronics,iPad & Tablets,All Tablets,Fire Ta...           Electronics   \n",
       "3  Computers/Tablets & Networking,Tablets & eBook...           Electronics   \n",
       "4  Computers,Amazon Echo,Virtual Assistant Speake...  Electronics,Hardware   \n",
       "\n",
       "               reviews.date  \\\n",
       "0  2016-05-23T00:00:00.000Z   \n",
       "1  2018-01-02T00:00:00.000Z   \n",
       "2  2017-01-02T00:00:00.000Z   \n",
       "3  2017-03-25T00:00:00.000Z   \n",
       "4  2017-11-15T00:00:00.000Z   \n",
       "\n",
       "                                        reviews.text  \\\n",
       "0  Amazon kindle fire has a lot of free app and c...   \n",
       "1  The Echo Show is a great addition to the Amazo...   \n",
       "2  Great value from Best Buy. Bought at Christmas...   \n",
       "3  I use mine for email, Facebook ,games and to g...   \n",
       "4  This is a fantastic item & the person I bought...   \n",
       "\n",
       "                       reviews.title sentiment  \n",
       "0                  very handy device  Positive  \n",
       "1         Another winner from Amazon  Positive  \n",
       "2  simple to use and reliable so far  Positive  \n",
       "3                         Love it!!!  Positive  \n",
       "4                         Fantastic!  Positive  "
      ]
     },
     "execution_count": 4,
     "metadata": {},
     "output_type": "execute_result"
    }
   ],
   "source": [
    "test_df.head()"
   ]
  },
  {
   "cell_type": "code",
   "execution_count": 5,
   "metadata": {},
   "outputs": [
    {
     "data": {
      "text/html": [
       "<div>\n",
       "<style scoped>\n",
       "    .dataframe tbody tr th:only-of-type {\n",
       "        vertical-align: middle;\n",
       "    }\n",
       "\n",
       "    .dataframe tbody tr th {\n",
       "        vertical-align: top;\n",
       "    }\n",
       "\n",
       "    .dataframe thead th {\n",
       "        text-align: right;\n",
       "    }\n",
       "</style>\n",
       "<table border=\"1\" class=\"dataframe\">\n",
       "  <thead>\n",
       "    <tr style=\"text-align: right;\">\n",
       "      <th></th>\n",
       "      <th>name</th>\n",
       "      <th>brand</th>\n",
       "      <th>categories</th>\n",
       "      <th>primaryCategories</th>\n",
       "      <th>reviews.date</th>\n",
       "      <th>reviews.text</th>\n",
       "      <th>reviews.title</th>\n",
       "      <th>sentiment</th>\n",
       "    </tr>\n",
       "  </thead>\n",
       "  <tbody>\n",
       "    <tr>\n",
       "      <th>0</th>\n",
       "      <td>All-New Fire HD 8 Tablet, 8\" HD Display, Wi-Fi...</td>\n",
       "      <td>Amazon</td>\n",
       "      <td>Electronics,iPad &amp; Tablets,All Tablets,Fire Ta...</td>\n",
       "      <td>Electronics</td>\n",
       "      <td>2016-12-26T00:00:00.000Z</td>\n",
       "      <td>Purchased on Black FridayPros - Great Price (e...</td>\n",
       "      <td>Powerful tablet</td>\n",
       "      <td>Positive</td>\n",
       "    </tr>\n",
       "    <tr>\n",
       "      <th>1</th>\n",
       "      <td>Amazon - Echo Plus w/ Built-In Hub - Silver</td>\n",
       "      <td>Amazon</td>\n",
       "      <td>Amazon Echo,Smart Home,Networking,Home &amp; Tools...</td>\n",
       "      <td>Electronics,Hardware</td>\n",
       "      <td>2018-01-17T00:00:00.000Z</td>\n",
       "      <td>I purchased two Amazon in Echo Plus and two do...</td>\n",
       "      <td>Amazon Echo Plus AWESOME</td>\n",
       "      <td>Positive</td>\n",
       "    </tr>\n",
       "    <tr>\n",
       "      <th>2</th>\n",
       "      <td>Amazon Echo Show Alexa-enabled Bluetooth Speak...</td>\n",
       "      <td>Amazon</td>\n",
       "      <td>Amazon Echo,Virtual Assistant Speakers,Electro...</td>\n",
       "      <td>Electronics,Hardware</td>\n",
       "      <td>2017-12-20T00:00:00.000Z</td>\n",
       "      <td>Just an average Alexa option. Does show a few ...</td>\n",
       "      <td>Average</td>\n",
       "      <td>Neutral</td>\n",
       "    </tr>\n",
       "    <tr>\n",
       "      <th>3</th>\n",
       "      <td>Fire HD 10 Tablet, 10.1 HD Display, Wi-Fi, 16 ...</td>\n",
       "      <td>Amazon</td>\n",
       "      <td>eBook Readers,Fire Tablets,Electronics Feature...</td>\n",
       "      <td>Office Supplies,Electronics</td>\n",
       "      <td>2017-08-04T00:00:00.000Z</td>\n",
       "      <td>very good product. Exactly what I wanted, and ...</td>\n",
       "      <td>Greattttttt</td>\n",
       "      <td>Positive</td>\n",
       "    </tr>\n",
       "    <tr>\n",
       "      <th>4</th>\n",
       "      <td>Brand New Amazon Kindle Fire 16gb 7\" Ips Displ...</td>\n",
       "      <td>Amazon</td>\n",
       "      <td>Computers/Tablets &amp; Networking,Tablets &amp; eBook...</td>\n",
       "      <td>Electronics</td>\n",
       "      <td>2017-01-23T00:00:00.000Z</td>\n",
       "      <td>This is the 3rd one I've purchased. I've bough...</td>\n",
       "      <td>Very durable!</td>\n",
       "      <td>Positive</td>\n",
       "    </tr>\n",
       "  </tbody>\n",
       "</table>\n",
       "</div>"
      ],
      "text/plain": [
       "                                                name   brand  \\\n",
       "0  All-New Fire HD 8 Tablet, 8\" HD Display, Wi-Fi...  Amazon   \n",
       "1        Amazon - Echo Plus w/ Built-In Hub - Silver  Amazon   \n",
       "2  Amazon Echo Show Alexa-enabled Bluetooth Speak...  Amazon   \n",
       "3  Fire HD 10 Tablet, 10.1 HD Display, Wi-Fi, 16 ...  Amazon   \n",
       "4  Brand New Amazon Kindle Fire 16gb 7\" Ips Displ...  Amazon   \n",
       "\n",
       "                                          categories  \\\n",
       "0  Electronics,iPad & Tablets,All Tablets,Fire Ta...   \n",
       "1  Amazon Echo,Smart Home,Networking,Home & Tools...   \n",
       "2  Amazon Echo,Virtual Assistant Speakers,Electro...   \n",
       "3  eBook Readers,Fire Tablets,Electronics Feature...   \n",
       "4  Computers/Tablets & Networking,Tablets & eBook...   \n",
       "\n",
       "             primaryCategories              reviews.date  \\\n",
       "0                  Electronics  2016-12-26T00:00:00.000Z   \n",
       "1         Electronics,Hardware  2018-01-17T00:00:00.000Z   \n",
       "2         Electronics,Hardware  2017-12-20T00:00:00.000Z   \n",
       "3  Office Supplies,Electronics  2017-08-04T00:00:00.000Z   \n",
       "4                  Electronics  2017-01-23T00:00:00.000Z   \n",
       "\n",
       "                                        reviews.text  \\\n",
       "0  Purchased on Black FridayPros - Great Price (e...   \n",
       "1  I purchased two Amazon in Echo Plus and two do...   \n",
       "2  Just an average Alexa option. Does show a few ...   \n",
       "3  very good product. Exactly what I wanted, and ...   \n",
       "4  This is the 3rd one I've purchased. I've bough...   \n",
       "\n",
       "              reviews.title sentiment  \n",
       "0           Powerful tablet  Positive  \n",
       "1  Amazon Echo Plus AWESOME  Positive  \n",
       "2                   Average   Neutral  \n",
       "3               Greattttttt  Positive  \n",
       "4             Very durable!  Positive  "
      ]
     },
     "execution_count": 5,
     "metadata": {},
     "output_type": "execute_result"
    }
   ],
   "source": [
    "merged_df = pd.concat([train_df, test_df])\n",
    "merged_df.head()"
   ]
  },
  {
   "cell_type": "code",
   "execution_count": 6,
   "metadata": {},
   "outputs": [
    {
     "data": {
      "text/plain": [
       "Positive    4686\n",
       "Neutral      197\n",
       "Negative     117\n",
       "Name: sentiment, dtype: int64"
      ]
     },
     "execution_count": 6,
     "metadata": {},
     "output_type": "execute_result"
    }
   ],
   "source": [
    "merged_df['sentiment'].value_counts()"
   ]
  },
  {
   "cell_type": "code",
   "execution_count": 7,
   "metadata": {},
   "outputs": [
    {
     "data": {
      "text/html": [
       "<div>\n",
       "<style scoped>\n",
       "    .dataframe tbody tr th:only-of-type {\n",
       "        vertical-align: middle;\n",
       "    }\n",
       "\n",
       "    .dataframe tbody tr th {\n",
       "        vertical-align: top;\n",
       "    }\n",
       "\n",
       "    .dataframe thead th {\n",
       "        text-align: right;\n",
       "    }\n",
       "</style>\n",
       "<table border=\"1\" class=\"dataframe\">\n",
       "  <thead>\n",
       "    <tr style=\"text-align: right;\">\n",
       "      <th></th>\n",
       "      <th>reviews.text</th>\n",
       "      <th>sentiment</th>\n",
       "    </tr>\n",
       "  </thead>\n",
       "  <tbody>\n",
       "    <tr>\n",
       "      <th>0</th>\n",
       "      <td>Purchased on Black FridayPros - Great Price (e...</td>\n",
       "      <td>Positive</td>\n",
       "    </tr>\n",
       "    <tr>\n",
       "      <th>1</th>\n",
       "      <td>I purchased two Amazon in Echo Plus and two do...</td>\n",
       "      <td>Positive</td>\n",
       "    </tr>\n",
       "    <tr>\n",
       "      <th>2</th>\n",
       "      <td>Just an average Alexa option. Does show a few ...</td>\n",
       "      <td>Neutral</td>\n",
       "    </tr>\n",
       "    <tr>\n",
       "      <th>3</th>\n",
       "      <td>very good product. Exactly what I wanted, and ...</td>\n",
       "      <td>Positive</td>\n",
       "    </tr>\n",
       "    <tr>\n",
       "      <th>4</th>\n",
       "      <td>This is the 3rd one I've purchased. I've bough...</td>\n",
       "      <td>Positive</td>\n",
       "    </tr>\n",
       "  </tbody>\n",
       "</table>\n",
       "</div>"
      ],
      "text/plain": [
       "                                        reviews.text sentiment\n",
       "0  Purchased on Black FridayPros - Great Price (e...  Positive\n",
       "1  I purchased two Amazon in Echo Plus and two do...  Positive\n",
       "2  Just an average Alexa option. Does show a few ...   Neutral\n",
       "3  very good product. Exactly what I wanted, and ...  Positive\n",
       "4  This is the 3rd one I've purchased. I've bough...  Positive"
      ]
     },
     "execution_count": 7,
     "metadata": {},
     "output_type": "execute_result"
    }
   ],
   "source": [
    "data = merged_df[['reviews.text','sentiment']]\n",
    "data.head()"
   ]
  },
  {
   "cell_type": "code",
   "execution_count": 8,
   "metadata": {},
   "outputs": [
    {
     "name": "stdout",
     "output_type": "stream",
     "text": [
      "['Purchased on Black FridayPros - Great Price (even off sale)Very powerful and '\n",
      " 'fast with quad core processors Amazing soundWell builtCons -Amazon ads, '\n",
      " 'Amazon need this to subsidize the tablet and will remove the adds if you pay '\n",
      " 'them $15.Inability to access other apps except the ones from Amazon. There '\n",
      " 'is a way which I was able to accomplish to add the Google Play storeNet this '\n",
      " 'is a great tablet for the money',\n",
      " 'I purchased two Amazon in Echo Plus and two dots plus four fire sticks and '\n",
      " 'the hub Philips hue for lamp for the family at Christmas 2017. I‚Äôm so '\n",
      " 'happy with these purchases and learning so much with Alexa. You can start '\n",
      " 'your daily routine with Alexa and program it to whatever you would like to '\n",
      " 'include news weather music horoscope ALSO you can start your day off with a '\n",
      " 'compliment and I think is very important. Alexa gave me the BEST CHILI '\n",
      " 'RECIPE I MEAN THE BEST it‚Äôs called Chili I. I want my husband to use Alexa '\n",
      " 'to stay organized for business dates and reminders. This is the way to go',\n",
      " 'Just an average Alexa option. Does show a few things on screen but still '\n",
      " 'limited.',\n",
      " 'very good product. Exactly what I wanted, and a very good price',\n",
      " \"This is the 3rd one I've purchased. I've bought one for all of my nieces. No \"\n",
      " 'other case compares to this one. It has held protected the tablet so many '\n",
      " 'times from them dropping it.']\n"
     ]
    }
   ],
   "source": [
    "review_data = data['reviews.text'].tolist()\n",
    "pprint(review_data[:5],compact=True)"
   ]
  },
  {
   "cell_type": "code",
   "execution_count": 9,
   "metadata": {},
   "outputs": [
    {
     "name": "stdout",
     "output_type": "stream",
     "text": [
      "['purchased on black fridaypros - great price (even off sale)very powerful and '\n",
      " 'fast with quad core processors amazing soundwell builtcons -amazon ads, '\n",
      " 'amazon need this to subsidize the tablet and will remove the adds if you pay '\n",
      " 'them $15.inability to access other apps except the ones from amazon. there '\n",
      " 'is a way which i was able to accomplish to add the google play storenet this '\n",
      " 'is a great tablet for the money',\n",
      " 'i purchased two amazon in echo plus and two dots plus four fire sticks and '\n",
      " 'the hub philips hue for lamp for the family at christmas 2017. i‚äôm so '\n",
      " 'happy with these purchases and learning so much with alexa. you can start '\n",
      " 'your daily routine with alexa and program it to whatever you would like to '\n",
      " 'include news weather music horoscope also you can start your day off with a '\n",
      " 'compliment and i think is very important. alexa gave me the best chili '\n",
      " 'recipe i mean the best it‚äôs called chili i. i want my husband to use alexa '\n",
      " 'to stay organized for business dates and reminders. this is the way to go',\n",
      " 'just an average alexa option. does show a few things on screen but still '\n",
      " 'limited.',\n",
      " 'very good product. exactly what i wanted, and a very good price',\n",
      " \"this is the 3rd one i've purchased. i've bought one for all of my nieces. no \"\n",
      " 'other case compares to this one. it has held protected the tablet so many '\n",
      " 'times from them dropping it.']\n"
     ]
    }
   ],
   "source": [
    "review_data = [data.lower() for data in review_data]\n",
    "pprint(review_data[:5],compact=True)"
   ]
  },
  {
   "cell_type": "code",
   "execution_count": 10,
   "metadata": {},
   "outputs": [
    {
     "name": "stdout",
     "output_type": "stream",
     "text": [
      "[['purchased', 'on', 'black', 'fridaypros', 'great', 'price', 'even', 'off',\n",
      "  'sale', 'very', 'powerful', 'and', 'fast', 'with', 'quad', 'core',\n",
      "  'processors', 'amazing', 'soundwell', 'builtcons', 'amazon', 'ads', 'amazon',\n",
      "  'need', 'this', 'to', 'subsidize', 'the', 'tablet', 'and', 'will', 'remove',\n",
      "  'the', 'adds', 'if', 'you', 'pay', 'them', 'inability', 'to', 'access',\n",
      "  'other', 'apps', 'except', 'the', 'ones', 'from', 'amazon', 'there', 'is',\n",
      "  'way', 'which', 'was', 'able', 'to', 'accomplish', 'to', 'add', 'the',\n",
      "  'google', 'play', 'storenet', 'this', 'is', 'great', 'tablet', 'for', 'the',\n",
      "  'money'],\n",
      " ['purchased', 'two', 'amazon', 'in', 'echo', 'plus', 'and', 'two', 'dots',\n",
      "  'plus', 'four', 'fire', 'sticks', 'and', 'the', 'hub', 'philips', 'hue',\n",
      "  'for', 'lamp', 'for', 'the', 'family', 'at', 'christmas', 'so', 'happy',\n",
      "  'with', 'these', 'purchases', 'and', 'learning', 'so', 'much', 'with',\n",
      "  'alexa', 'you', 'can', 'start', 'your', 'daily', 'routine', 'with', 'alexa',\n",
      "  'and', 'program', 'it', 'to', 'whatever', 'you', 'would', 'like', 'to',\n",
      "  'include', 'news', 'weather', 'music', 'horoscope', 'also', 'you', 'can',\n",
      "  'start', 'your', 'day', 'off', 'with', 'compliment', 'and', 'think', 'is',\n",
      "  'very', 'important', 'alexa', 'gave', 'me', 'the', 'best', 'chili', 'recipe',\n",
      "  'mean', 'the', 'best', 'it', 'called', 'chili', 'want', 'my', 'husband', 'to',\n",
      "  'use', 'alexa', 'to', 'stay', 'organized', 'for', 'business', 'dates', 'and',\n",
      "  'reminders', 'this', 'is', 'the', 'way', 'to', 'go'],\n",
      " ['just', 'an', 'average', 'alexa', 'option', 'does', 'show', 'few', 'things',\n",
      "  'on', 'screen', 'but', 'still', 'limited'],\n",
      " ['very', 'good', 'product', 'exactly', 'what', 'wanted', 'and', 'very', 'good',\n",
      "  'price'],\n",
      " ['this', 'is', 'the', 'rd', 'one', 've', 'purchased', 've', 'bought', 'one',\n",
      "  'for', 'all', 'of', 'my', 'nieces', 'no', 'other', 'case', 'compares', 'to',\n",
      "  'this', 'one', 'it', 'has', 'held', 'protected', 'the', 'tablet', 'so',\n",
      "  'many', 'times', 'from', 'them', 'dropping', 'it']]\n"
     ]
    }
   ],
   "source": [
    "import re\n",
    "from nltk.tokenize import regexp_tokenize\n",
    "\n",
    "review_data = [regexp_tokenize(data, pattern='[a-z]\\w+') \n",
    "               for data in review_data]\n",
    "pprint(review_data[:5],compact=True)"
   ]
  },
  {
   "cell_type": "code",
   "execution_count": 11,
   "metadata": {},
   "outputs": [
    {
     "name": "stdout",
     "output_type": "stream",
     "text": [
      "[['purchased', 'black', 'fridaypros', 'great', 'price', 'even', 'sale',\n",
      "  'powerful', 'fast', 'quad', 'core', 'processors', 'amazing', 'soundwell',\n",
      "  'builtcons', 'amazon', 'ads', 'amazon', 'need', 'subsidize', 'tablet',\n",
      "  'remove', 'adds', 'pay', 'inability', 'access', 'apps', 'except', 'ones',\n",
      "  'amazon', 'way', 'able', 'accomplish', 'add', 'google', 'play', 'storenet',\n",
      "  'great', 'tablet', 'money'],\n",
      " ['purchased', 'two', 'amazon', 'echo', 'plus', 'two', 'dots', 'plus', 'four',\n",
      "  'fire', 'sticks', 'hub', 'philips', 'hue', 'lamp', 'family', 'christmas',\n",
      "  'happy', 'purchases', 'learning', 'much', 'alexa', 'start', 'daily',\n",
      "  'routine', 'alexa', 'program', 'whatever', 'would', 'like', 'include', 'news',\n",
      "  'weather', 'music', 'horoscope', 'also', 'start', 'day', 'compliment',\n",
      "  'think', 'important', 'alexa', 'gave', 'best', 'chili', 'recipe', 'mean',\n",
      "  'best', 'called', 'chili', 'want', 'husband', 'use', 'alexa', 'stay',\n",
      "  'organized', 'business', 'dates', 'reminders', 'way', 'go'],\n",
      " ['average', 'alexa', 'option', 'show', 'things', 'screen', 'still', 'limited'],\n",
      " ['good', 'product', 'exactly', 'wanted', 'good', 'price'],\n",
      " ['rd', 'one', 'purchased', 'bought', 'one', 'nieces', 'case', 'compares',\n",
      "  'one', 'held', 'protected', 'tablet', 'many', 'times', 'dropping']]\n"
     ]
    }
   ],
   "source": [
    "from nltk.corpus import stopwords\n",
    "review_data = [[word for word in text \n",
    "                if word not in stopwords.words('english')] \n",
    "               for text in review_data]\n",
    "pprint(review_data[:5],compact=True)"
   ]
  },
  {
   "cell_type": "code",
   "execution_count": 12,
   "metadata": {},
   "outputs": [
    {
     "name": "stdout",
     "output_type": "stream",
     "text": [
      "[['purchased', 'black', 'fridaypros', 'great', 'price', 'even', 'sale',\n",
      "  'powerful', 'fast', 'quad', 'core', 'processors', 'amazing', 'soundwell',\n",
      "  'builtcons', 'amazon', 'ads', 'amazon', 'need', 'subsidize', 'tablet',\n",
      "  'remove', 'adds', 'pay', 'inability', 'access', 'apps', 'except', 'ones',\n",
      "  'amazon', 'way', 'able', 'accomplish', 'add', 'google', 'play', 'storenet',\n",
      "  'great', 'tablet', 'money'],\n",
      " ['purchased', 'two', 'amazon', 'echo', 'plus', 'two', 'dots', 'plus', 'four',\n",
      "  'fire', 'sticks', 'hub', 'philips', 'hue', 'lamp', 'family', 'christmas',\n",
      "  'happy', 'purchases', 'learning', 'much', 'alexa', 'start', 'daily',\n",
      "  'routine', 'alexa', 'program', 'whatever', 'would', 'like', 'include', 'news',\n",
      "  'weather', 'music', 'horoscope', 'also', 'start', 'day', 'compliment',\n",
      "  'think', 'important', 'alexa', 'gave', 'best', 'chili', 'recipe', 'mean',\n",
      "  'best', 'called', 'chili', 'want', 'husband', 'use', 'alexa', 'stay',\n",
      "  'organized', 'business', 'dates', 'reminders', 'way', 'go'],\n",
      " ['average', 'alexa', 'option', 'show', 'things', 'screen', 'still', 'limited'],\n",
      " ['good', 'product', 'exactly', 'wanted', 'good', 'price'],\n",
      " ['rd', 'one', 'purchased', 'bought', 'one', 'nieces', 'case', 'compares',\n",
      "  'one', 'held', 'protected', 'tablet', 'many', 'times', 'dropping']]\n"
     ]
    }
   ],
   "source": [
    "review_data = [[word for word in text \n",
    "                if len(word) > 1] \n",
    "               for text in review_data]\n",
    "pprint(review_data[:5],compact=True)"
   ]
  },
  {
   "cell_type": "code",
   "execution_count": 13,
   "metadata": {},
   "outputs": [
    {
     "name": "stdout",
     "output_type": "stream",
     "text": [
      "Total Tokens: 75862\n"
     ]
    }
   ],
   "source": [
    "terms = []\n",
    "\n",
    "for review in review_data:\n",
    "    for word in review:\n",
    "        terms.append(word)\n",
    "\n",
    "print(\"Total Tokens: {}\".format(len(terms)))"
   ]
  },
  {
   "cell_type": "code",
   "execution_count": 14,
   "metadata": {},
   "outputs": [
    {
     "data": {
      "text/html": [
       "<div>\n",
       "<style scoped>\n",
       "    .dataframe tbody tr th:only-of-type {\n",
       "        vertical-align: middle;\n",
       "    }\n",
       "\n",
       "    .dataframe tbody tr th {\n",
       "        vertical-align: top;\n",
       "    }\n",
       "\n",
       "    .dataframe thead th {\n",
       "        text-align: right;\n",
       "    }\n",
       "</style>\n",
       "<table border=\"1\" class=\"dataframe\">\n",
       "  <thead>\n",
       "    <tr style=\"text-align: right;\">\n",
       "      <th></th>\n",
       "      <th>term</th>\n",
       "      <th>count</th>\n",
       "    </tr>\n",
       "  </thead>\n",
       "  <tbody>\n",
       "    <tr>\n",
       "      <th>0</th>\n",
       "      <td>great</td>\n",
       "      <td>1607</td>\n",
       "    </tr>\n",
       "    <tr>\n",
       "      <th>1</th>\n",
       "      <td>tablet</td>\n",
       "      <td>1327</td>\n",
       "    </tr>\n",
       "    <tr>\n",
       "      <th>2</th>\n",
       "      <td>use</td>\n",
       "      <td>1092</td>\n",
       "    </tr>\n",
       "    <tr>\n",
       "      <th>3</th>\n",
       "      <td>love</td>\n",
       "      <td>1091</td>\n",
       "    </tr>\n",
       "    <tr>\n",
       "      <th>4</th>\n",
       "      <td>easy</td>\n",
       "      <td>826</td>\n",
       "    </tr>\n",
       "    <tr>\n",
       "      <th>5</th>\n",
       "      <td>bought</td>\n",
       "      <td>786</td>\n",
       "    </tr>\n",
       "    <tr>\n",
       "      <th>6</th>\n",
       "      <td>one</td>\n",
       "      <td>768</td>\n",
       "    </tr>\n",
       "    <tr>\n",
       "      <th>7</th>\n",
       "      <td>kindle</td>\n",
       "      <td>767</td>\n",
       "    </tr>\n",
       "    <tr>\n",
       "      <th>8</th>\n",
       "      <td>amazon</td>\n",
       "      <td>727</td>\n",
       "    </tr>\n",
       "    <tr>\n",
       "      <th>9</th>\n",
       "      <td>echo</td>\n",
       "      <td>701</td>\n",
       "    </tr>\n",
       "  </tbody>\n",
       "</table>\n",
       "</div>"
      ],
      "text/plain": [
       "     term  count\n",
       "0   great   1607\n",
       "1  tablet   1327\n",
       "2     use   1092\n",
       "3    love   1091\n",
       "4    easy    826\n",
       "5  bought    786\n",
       "6     one    768\n",
       "7  kindle    767\n",
       "8  amazon    727\n",
       "9    echo    701"
      ]
     },
     "execution_count": 14,
     "metadata": {},
     "output_type": "execute_result"
    }
   ],
   "source": [
    "from collections import Counter\n",
    "\n",
    "counts_terms = Counter(terms)\n",
    "terms_df = pd.DataFrame(counts_terms.most_common(10), \n",
    "                        columns=['term', 'count'])\n",
    "terms_df"
   ]
  },
  {
   "cell_type": "code",
   "execution_count": 15,
   "metadata": {},
   "outputs": [
    {
     "data": {
      "image/png": "[encoded data removed]",
      "text/plain": [
       "<Figure size 864x720 with 1 Axes>"
      ]
     },
     "metadata": {
      "needs_background": "light"
     },
     "output_type": "display_data"
    }
   ],
   "source": [
    "terms_df.sort_values(by='count', \n",
    "                     ascending=True).plot(kind=\"barh\", \n",
    "                                          x='term', \n",
    "                                          figsize=(12,10), \n",
    "                                          color='teal')\n",
    "plt.show()"
   ]
  },
  {
   "cell_type": "code",
   "execution_count": 16,
   "metadata": {},
   "outputs": [
    {
     "name": "stdout",
     "output_type": "stream",
     "text": [
      "['purchased black fridaypros great price even sale powerful fast quad core '\n",
      " 'processors amazing soundwell builtcons amazon ads amazon need subsidize '\n",
      " 'tablet remove adds pay inability access apps except ones amazon way able '\n",
      " 'accomplish add google play storenet great tablet money',\n",
      " 'purchased two amazon echo plus two dots plus four fire sticks hub philips '\n",
      " 'hue lamp family christmas happy purchases learning much alexa start daily '\n",
      " 'routine alexa program whatever would like include news weather music '\n",
      " 'horoscope also start day compliment think important alexa gave best chili '\n",
      " 'recipe mean best called chili want husband use alexa stay organized business '\n",
      " 'dates reminders way go',\n",
      " 'average alexa option show things screen still limited',\n",
      " 'good product exactly wanted good price',\n",
      " 'rd one purchased bought one nieces case compares one held protected tablet '\n",
      " 'many times dropping']\n"
     ]
    }
   ],
   "source": [
    "review_cleaned = []\n",
    "\n",
    "for review in review_data:\n",
    "    sent = \"\"\n",
    "    for word in review:\n",
    "        sent = sent + word + \" \"\n",
    "    review_cleaned.append(sent[:-1])\n",
    "    \n",
    "pprint(review_cleaned[:5], compact=True)"
   ]
  },
  {
   "cell_type": "code",
   "execution_count": 17,
   "metadata": {},
   "outputs": [
    {
     "data": {
      "text/html": [
       "<div>\n",
       "<style scoped>\n",
       "    .dataframe tbody tr th:only-of-type {\n",
       "        vertical-align: middle;\n",
       "    }\n",
       "\n",
       "    .dataframe tbody tr th {\n",
       "        vertical-align: top;\n",
       "    }\n",
       "\n",
       "    .dataframe thead th {\n",
       "        text-align: right;\n",
       "    }\n",
       "</style>\n",
       "<table border=\"1\" class=\"dataframe\">\n",
       "  <thead>\n",
       "    <tr style=\"text-align: right;\">\n",
       "      <th></th>\n",
       "      <th>reviews.text</th>\n",
       "      <th>sentiment</th>\n",
       "      <th>review_cleaned</th>\n",
       "    </tr>\n",
       "  </thead>\n",
       "  <tbody>\n",
       "    <tr>\n",
       "      <th>0</th>\n",
       "      <td>Purchased on Black FridayPros - Great Price (e...</td>\n",
       "      <td>Positive</td>\n",
       "      <td>purchased black fridaypros great price even sa...</td>\n",
       "    </tr>\n",
       "    <tr>\n",
       "      <th>1</th>\n",
       "      <td>I purchased two Amazon in Echo Plus and two do...</td>\n",
       "      <td>Positive</td>\n",
       "      <td>purchased two amazon echo plus two dots plus f...</td>\n",
       "    </tr>\n",
       "    <tr>\n",
       "      <th>2</th>\n",
       "      <td>Just an average Alexa option. Does show a few ...</td>\n",
       "      <td>Neutral</td>\n",
       "      <td>average alexa option show things screen still ...</td>\n",
       "    </tr>\n",
       "    <tr>\n",
       "      <th>3</th>\n",
       "      <td>very good product. Exactly what I wanted, and ...</td>\n",
       "      <td>Positive</td>\n",
       "      <td>good product exactly wanted good price</td>\n",
       "    </tr>\n",
       "    <tr>\n",
       "      <th>4</th>\n",
       "      <td>This is the 3rd one I've purchased. I've bough...</td>\n",
       "      <td>Positive</td>\n",
       "      <td>rd one purchased bought one nieces case compar...</td>\n",
       "    </tr>\n",
       "  </tbody>\n",
       "</table>\n",
       "</div>"
      ],
      "text/plain": [
       "                                        reviews.text sentiment  \\\n",
       "0  Purchased on Black FridayPros - Great Price (e...  Positive   \n",
       "1  I purchased two Amazon in Echo Plus and two do...  Positive   \n",
       "2  Just an average Alexa option. Does show a few ...   Neutral   \n",
       "3  very good product. Exactly what I wanted, and ...  Positive   \n",
       "4  This is the 3rd one I've purchased. I've bough...  Positive   \n",
       "\n",
       "                                      review_cleaned  \n",
       "0  purchased black fridaypros great price even sa...  \n",
       "1  purchased two amazon echo plus two dots plus f...  \n",
       "2  average alexa option show things screen still ...  \n",
       "3             good product exactly wanted good price  \n",
       "4  rd one purchased bought one nieces case compar...  "
      ]
     },
     "execution_count": 17,
     "metadata": {},
     "output_type": "execute_result"
    }
   ],
   "source": [
    "data['review_cleaned'] = review_cleaned\n",
    "data.head()"
   ]
  },
  {
   "cell_type": "code",
   "execution_count": 18,
   "metadata": {},
   "outputs": [],
   "source": [
    "X = data['review_cleaned'].tolist()\n",
    "y = data['sentiment'].tolist()"
   ]
  },
  {
   "cell_type": "code",
   "execution_count": 19,
   "metadata": {},
   "outputs": [
    {
     "data": {
      "text/plain": [
       "(3500, 1500)"
      ]
     },
     "execution_count": 19,
     "metadata": {},
     "output_type": "execute_result"
    }
   ],
   "source": [
    "from sklearn.model_selection import train_test_split\n",
    "\n",
    "X_train, X_test, y_train, y_test = train_test_split(X, y, test_size=0.3, \n",
    "                                                    random_state = 42)\n",
    "len(X_train), len(X_test)"
   ]
  },
  {
   "cell_type": "code",
   "execution_count": 20,
   "metadata": {},
   "outputs": [],
   "source": [
    "from sklearn.pipeline import Pipeline\n",
    "from sklearn.naive_bayes import MultinomialNB\n",
    "from sklearn.feature_extraction.text import CountVectorizer, TfidfTransformer\n",
    "clf = Pipeline([('vect', CountVectorizer()),\n",
    "                     ('tfidf', TfidfTransformer()),\n",
    "                     ('clf', MultinomialNB())])"
   ]
  },
  {
   "cell_type": "code",
   "execution_count": 21,
   "metadata": {},
   "outputs": [
    {
     "data": {
      "text/plain": [
       "Pipeline(steps=[('vect', CountVectorizer()), ('tfidf', TfidfTransformer()),\n",
       "                ('clf', MultinomialNB())])"
      ]
     },
     "execution_count": 21,
     "metadata": {},
     "output_type": "execute_result"
    }
   ],
   "source": [
    "clf.fit(X_train, y_train)"
   ]
  },
  {
   "cell_type": "code",
   "execution_count": 22,
   "metadata": {},
   "outputs": [
    {
     "name": "stdout",
     "output_type": "stream",
     "text": [
      "              precision    recall  f1-score   support\n",
      "\n",
      "    Negative     0.0000    0.0000    0.0000        29\n",
      "     Neutral     0.0000    0.0000    0.0000        79\n",
      "    Positive     0.9280    1.0000    0.9627      1392\n",
      "\n",
      "    accuracy                         0.9280      1500\n",
      "   macro avg     0.3093    0.3333    0.3209      1500\n",
      "weighted avg     0.8612    0.9280    0.8933      1500\n",
      "\n"
     ]
    }
   ],
   "source": [
    "from sklearn.metrics import classification_report\n",
    "print(classification_report(y_test, clf.predict(X_test), digits=4))"
   ]
  },
  {
   "cell_type": "code",
   "execution_count": 23,
   "metadata": {},
   "outputs": [],
   "source": [
    "from imblearn.pipeline import Pipeline\n",
    "from sklearn.ensemble import RandomForestClassifier\n",
    "from imblearn.over_sampling import RandomOverSampler\n",
    "from imblearn.under_sampling import RandomUnderSampler\n",
    "from sklearn.model_selection import cross_val_score\n",
    "from sklearn.model_selection import StratifiedKFold\n",
    "\n",
    "vect = CountVectorizer()\n",
    "tfidf = TfidfTransformer()\n",
    "over = RandomOverSampler()\n",
    "under = RandomUnderSampler()"
   ]
  },
  {
   "cell_type": "code",
   "execution_count": 24,
   "metadata": {},
   "outputs": [
    {
     "data": {
      "text/plain": [
       "Pipeline(steps=[('vect', CountVectorizer()), ('tfidf', TfidfTransformer()),\n",
       "                ('over', RandomOverSampler()),\n",
       "                ('clf', RandomForestClassifier())])"
      ]
     },
     "execution_count": 24,
     "metadata": {},
     "output_type": "execute_result"
    }
   ],
   "source": [
    "os_rf_clf = RandomForestClassifier()\n",
    "\n",
    "pipeline = Pipeline(steps=[('vect', vect), \n",
    "                            ('tfidf', tfidf),\n",
    "                            ('over', over),\n",
    "                            ('clf', os_rf_clf)])\n",
    "pipeline.fit(X_train,y_train)"
   ]
  },
  {
   "cell_type": "code",
   "execution_count": null,
   "metadata": {},
   "outputs": [],
   "source": [
    "#cv = StratifiedKFold()\n",
    "# evaluate model\n",
    "#scores = cross_val_score(pipeline, X, y, scoring='roc_auc', cv=cv, n_jobs=-1)\n",
    "# summarize performance\n",
    "#print('Mean ROC AUC: %.3f' % mean(scores))\n",
    "print(classification_report(y_test, os_rf_clf.predict(X_test), digits=4))"
   ]
  },
  {
   "cell_type": "code",
   "execution_count": null,
   "metadata": {},
   "outputs": [],
   "source": []
  }
 ],
 "metadata": {
  "kernelspec": {
   "display_name": "Python 3",
   "language": "python",
   "name": "python3"
  },
  "language_info": {
   "codemirror_mode": {
    "name": "ipython",
    "version": 3
   },
   "file_extension": ".py",
   "mimetype": "text/x-python",
   "name": "python",
   "nbconvert_exporter": "python",
   "pygments_lexer": "ipython3",
   "version": "3.7.3"
  }
 },
 "nbformat": 4,
 "nbformat_minor": 4
}
